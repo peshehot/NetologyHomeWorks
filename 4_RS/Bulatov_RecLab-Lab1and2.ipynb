{
 "cells": [
  {
   "cell_type": "markdown",
   "metadata": {},
   "source": [
    "# Описание задания"
   ]
  },
  {
   "cell_type": "markdown",
   "metadata": {},
   "source": [
    "В рамках данного задания, студент должен создать и оценить 4 типа рекомендательных систем:\n",
    "* Non-personalized RS\n",
    "* Content-based RS\n",
    "* Item-based collaborative filtering RS\n",
    "* Hybrid RS\n",
    "\n",
    "Каждая рекомендательная система - отдельное подзадание. Подзадание считается выполненным, если студент создал рекомендательную систему, которая **лучше (или хуже, но не более чем на 10%)** системы, созданной автором данного блокнота. Системы оцениваются с использованием метрики ``HR@N``, описанной ниже."
   ]
  },
  {
   "cell_type": "markdown",
   "metadata": {},
   "source": [
    "# Детальное описание"
   ]
  },
  {
   "cell_type": "markdown",
   "metadata": {},
   "source": [
    "#### Данные: \n",
    "Датасет представлен множеством отзывов к компьютерным играм (объектам) от пользователей Amazon. Каждый отзыв представлен в виде JSON-структуры со следующими полями:\n",
    "* идентификатор пользователя - reviewerID\n",
    "* идентификатор объекта - asin\n",
    "* текст отзыва - reviewText\n",
    "* рейтинг - overall\n",
    "* время публикации обзора - unixReviewTime\n",
    "* другие поля, не использованные автором этого блокнота (смотри полное описание JSON [тут](http://jmcauley.ucsd.edu/data/amazon/))\n",
    "\n",
    "У каждого объекта есть как минимум 5 отзывов, каждый пользователь написал как минимум 5 отзывов. \n",
    "#### Цель: \n",
    "Построить рекомендательную систему, предсказывающую объекты, которые пользователь приобретет в ближайшем будущем. Для упрощения мы считаем, что пользователь приобрел объект, если он написал про него отзыв.\n",
    "#### Подготовка данных:\n",
    "Данные разделены на тренировочную и тестовую выборки по времени публикации отзывов. Первые 80% данных (более старые) используются как тренировочная выборка, остальные - как тестовая. \n",
    "\n",
    "Построение рекомендательной системы (т.е., выбор и тренировка моделей, оптимизация параметров и т.д.) осуществляется **только** с использованием тренировочной выборки. Все параметры, использованные в моделях, **должны быть** получены или объяснены с помощью тренировочных данных. Студент вправе использовать тренировочную выборку как его душе угодно. \n",
    "\n",
    "Тестирующая выборка используется **только** для оценки рекомендательной системы.\n",
    "\n",
    "Для построения рекомендательных моделей также можно использовать JSON-поля из датасета, неиспользованные автором этого блокнота.\n",
    "#### Оценка качества рекомендательной системы\n",
    "Цель рекомендательной системы - посоветовать пользователю объекты, которые он захочет приобрести. Для оценки качества такой системы мы воспользуемся метрикой `hit-ratio (HR)`. \n",
    "\n",
    "$$\n",
    "HR = \\frac{1}{|U_T|}\\sum_{u \\in U_T} \\mathrm{I}(Rel_u \\cap Rec_u)\n",
    "$$\n",
    "\n",
    "* $U_T$ - множество пользователей из тестовой выборки\n",
    "* $Rec_u$ - множество объектов, рекомендованных пользователю $u$ \n",
    "* $Rel_u$ - множество объектов, оцененных пользователем $u$ в тестовой выборке\n",
    "* $\\mathrm{I}(Rel_u \\cap Rec_u)$ - бинарная функция-индикатор. Функция возвращает 1 если $Rel_u \\cap Rec_u \\ne \\emptyset$, иначе 0\n",
    "\n",
    "$HR=1$ если для каждого пользователя мы рекомендовали хотя бы один релевантный объект. Так как обычно пользователи просматривают только первые $N$ рекомендаций, мы будем считать метрику $HR@N$, где $N=10$ (т.е. множество $Rec_u$ будет содержать только 10 объектов). "
   ]
  },
  {
   "cell_type": "markdown",
   "metadata": {},
   "source": [
    "# Условные обозначения\n",
    "* `uid` - идентификатор пользователя\n",
    "* `iid` - идентификатор объекта"
   ]
  },
  {
   "cell_type": "markdown",
   "metadata": {},
   "source": [
    "# Games RSs"
   ]
  },
  {
   "cell_type": "code",
   "execution_count": 1,
   "metadata": {
    "collapsed": true
   },
   "outputs": [],
   "source": [
    "# импорты, которые точно понадобятся\n",
    "import pandas as pd\n",
    "import numpy as np\n",
    "\n",
    "from scipy.sparse import csr_matrix\n",
    "%matplotlib inline\n",
    "import matplotlib.pyplot as plt\n",
    "import pickle\n",
    "from sklearn.preprocessing import normalize\n",
    "from sklearn.decomposition import PCA\n",
    "from stop_words import get_stop_words\n",
    "import nltk\n",
    "import string\n",
    "from nltk.corpus import stopwords\n",
    "from tqdm import tqdm"
   ]
  },
  {
   "cell_type": "code",
   "execution_count": 2,
   "metadata": {
    "collapsed": true
   },
   "outputs": [],
   "source": [
    "import pymorphy2\n",
    "from nltk.tokenize import word_tokenize\n",
    "from sklearn.preprocessing import normalize"
   ]
  },
  {
   "cell_type": "code",
   "execution_count": 3,
   "metadata": {
    "collapsed": true
   },
   "outputs": [],
   "source": [
    "import nltk\n",
    "from nltk.stem.wordnet import WordNetLemmatizer\n",
    "from nltk.tokenize import word_tokenize\n",
    "from nltk.corpus import wordnet as wn"
   ]
  },
  {
   "cell_type": "code",
   "execution_count": 4,
   "metadata": {
    "collapsed": false
   },
   "outputs": [
    {
     "name": "stderr",
     "output_type": "stream",
     "text": [
      "D:\\distr\\anaconda\\lib\\site-packages\\gensim\\utils.py:860: UserWarning: detected Windows; aliasing chunkize to chunkize_serial\n",
      "  warnings.warn(\"detected Windows; aliasing chunkize to chunkize_serial\")\n",
      "Using TensorFlow backend.\n"
     ]
    }
   ],
   "source": [
    "from gensim.models import word2vec"
   ]
  },
  {
   "cell_type": "code",
   "execution_count": 5,
   "metadata": {
    "collapsed": true
   },
   "outputs": [],
   "source": [
    "from scipy.sparse import vstack\n",
    "from scipy.sparse import hstack"
   ]
  },
  {
   "cell_type": "code",
   "execution_count": 6,
   "metadata": {
    "collapsed": true
   },
   "outputs": [],
   "source": [
    "import pickle"
   ]
  },
  {
   "cell_type": "code",
   "execution_count": 59,
   "metadata": {
    "collapsed": true
   },
   "outputs": [],
   "source": [
    "\n",
    "from sklearn.feature_extraction.text import TfidfVectorizer\n",
    "import re"
   ]
  },
  {
   "cell_type": "code",
   "execution_count": 8,
   "metadata": {
    "collapsed": true
   },
   "outputs": [],
   "source": [
    "# Данные взяты отсюда - http://jmcauley.ucsd.edu/data/amazon/\n",
    "# http://snap.stanford.edu/data/amazon/productGraph/categoryFiles/reviews_Video_Games_5.json.gz\n",
    "JSON_DATA_PATH = \"Video_Games_5.json\"\n",
    "N = 10"
   ]
  },
  {
   "cell_type": "markdown",
   "metadata": {},
   "source": [
    "## Анализ данных"
   ]
  },
  {
   "cell_type": "code",
   "execution_count": 9,
   "metadata": {
    "collapsed": true
   },
   "outputs": [],
   "source": [
    "import json\n",
    "\n",
    "def iter_json_data(path):\n",
    "    with open(path) as f:\n",
    "        for line in f:\n",
    "            data = json.loads(line)\n",
    "            yield data\n",
    "            \n",
    "def get_data_frame():\n",
    "    uid_to_id = {}\n",
    "    iid_to_id = {}\n",
    "    \n",
    "    cols = [\"uid\", \"iid\", \"review\", \"rating\", \"dt\"]\n",
    "    rows = []\n",
    "    for d in iter_json_data(JSON_DATA_PATH):\n",
    "        uid = uid_to_id.setdefault(d[\"reviewerID\"], len(uid_to_id))\n",
    "        iid = iid_to_id.setdefault(d[\"asin\"], len(iid_to_id))\n",
    "        review = d[\"reviewText\"]\n",
    "        rating = float(d[\"overall\"])\n",
    "        dt = int(d[\"unixReviewTime\"])\n",
    "        rows.append((uid, iid, review, rating, dt))\n",
    "        \n",
    "    return pd.DataFrame(rows, columns=cols)"
   ]
  },
  {
   "cell_type": "code",
   "execution_count": 10,
   "metadata": {
    "collapsed": false
   },
   "outputs": [
    {
     "data": {
      "text/html": [
       "<div>\n",
       "<style>\n",
       "    .dataframe thead tr:only-child th {\n",
       "        text-align: right;\n",
       "    }\n",
       "\n",
       "    .dataframe thead th {\n",
       "        text-align: left;\n",
       "    }\n",
       "\n",
       "    .dataframe tbody tr th {\n",
       "        vertical-align: top;\n",
       "    }\n",
       "</style>\n",
       "<table border=\"1\" class=\"dataframe\">\n",
       "  <thead>\n",
       "    <tr style=\"text-align: right;\">\n",
       "      <th></th>\n",
       "      <th>uid</th>\n",
       "      <th>iid</th>\n",
       "      <th>review</th>\n",
       "      <th>rating</th>\n",
       "      <th>dt</th>\n",
       "    </tr>\n",
       "  </thead>\n",
       "  <tbody>\n",
       "    <tr>\n",
       "      <th>0</th>\n",
       "      <td>0</td>\n",
       "      <td>0</td>\n",
       "      <td>Installing the game was a struggle (because of...</td>\n",
       "      <td>1.0</td>\n",
       "      <td>1341792000</td>\n",
       "    </tr>\n",
       "    <tr>\n",
       "      <th>1</th>\n",
       "      <td>1</td>\n",
       "      <td>0</td>\n",
       "      <td>If you like rally cars get this game you will ...</td>\n",
       "      <td>4.0</td>\n",
       "      <td>1372550400</td>\n",
       "    </tr>\n",
       "    <tr>\n",
       "      <th>2</th>\n",
       "      <td>2</td>\n",
       "      <td>0</td>\n",
       "      <td>1st shipment received a book instead of the ga...</td>\n",
       "      <td>1.0</td>\n",
       "      <td>1403913600</td>\n",
       "    </tr>\n",
       "    <tr>\n",
       "      <th>3</th>\n",
       "      <td>3</td>\n",
       "      <td>0</td>\n",
       "      <td>I got this version instead of the PS3 version,...</td>\n",
       "      <td>3.0</td>\n",
       "      <td>1315958400</td>\n",
       "    </tr>\n",
       "    <tr>\n",
       "      <th>4</th>\n",
       "      <td>4</td>\n",
       "      <td>0</td>\n",
       "      <td>I had Dirt 2 on Xbox 360 and it was an okay ga...</td>\n",
       "      <td>4.0</td>\n",
       "      <td>1308009600</td>\n",
       "    </tr>\n",
       "  </tbody>\n",
       "</table>\n",
       "</div>"
      ],
      "text/plain": [
       "   uid  iid                                             review  rating  \\\n",
       "0    0    0  Installing the game was a struggle (because of...     1.0   \n",
       "1    1    0  If you like rally cars get this game you will ...     4.0   \n",
       "2    2    0  1st shipment received a book instead of the ga...     1.0   \n",
       "3    3    0  I got this version instead of the PS3 version,...     3.0   \n",
       "4    4    0  I had Dirt 2 on Xbox 360 and it was an okay ga...     4.0   \n",
       "\n",
       "           dt  \n",
       "0  1341792000  \n",
       "1  1372550400  \n",
       "2  1403913600  \n",
       "3  1315958400  \n",
       "4  1308009600  "
      ]
     },
     "execution_count": 10,
     "metadata": {},
     "output_type": "execute_result"
    }
   ],
   "source": [
    "df = get_data_frame()\n",
    "df.head()"
   ]
  },
  {
   "cell_type": "code",
   "execution_count": 11,
   "metadata": {
    "collapsed": false
   },
   "outputs": [
    {
     "name": "stdout",
     "output_type": "stream",
     "text": [
      "min-max количество объектов на пользователя: 5 773\n",
      "min-max количество пользователей на объект: 5 802\n"
     ]
    }
   ],
   "source": [
    "print(\"min-max количество объектов на пользователя:\", \n",
    "      df.groupby(\"uid\").iid.nunique().min(), df.groupby(\"uid\").iid.nunique().max())\n",
    "print(\"min-max количество пользователей на объект:\", \n",
    "      df.groupby(\"iid\").uid.nunique().min(), df.groupby(\"iid\").uid.nunique().max())"
   ]
  },
  {
   "cell_type": "code",
   "execution_count": 12,
   "metadata": {
    "collapsed": false
   },
   "outputs": [
    {
     "data": {
      "text/plain": [
       "<matplotlib.axes._subplots.AxesSubplot at 0xe25bc18>"
      ]
     },
     "execution_count": 12,
     "metadata": {},
     "output_type": "execute_result"
    },
    {
     "data": {
      "image/png": "[encoded data removed]",
      "text/plain": [
       "<matplotlib.figure.Figure at 0xe25bd68>"
      ]
     },
     "metadata": {},
     "output_type": "display_data"
    }
   ],
   "source": [
    "plt.title(\"Распределение отзывов по времени\")\n",
    "df.dt.hist(bins=50)"
   ]
  },
  {
   "cell_type": "code",
   "execution_count": 13,
   "metadata": {
    "collapsed": false,
    "scrolled": true
   },
   "outputs": [
    {
     "data": {
      "text/plain": [
       "<matplotlib.axes._subplots.AxesSubplot at 0xe25b550>"
      ]
     },
     "execution_count": 13,
     "metadata": {},
     "output_type": "execute_result"
    },
    {
     "data": {
      "image/png": "[encoded data removed]",
      "text/plain": [
       "<matplotlib.figure.Figure at 0x211330b8>"
      ]
     },
     "metadata": {},
     "output_type": "display_data"
    }
   ],
   "source": [
    "plt.title(\"Распределение рейтингов по отзывам\")\n",
    "df.rating.hist()"
   ]
  },
  {
   "cell_type": "code",
   "execution_count": 14,
   "metadata": {
    "collapsed": false
   },
   "outputs": [
    {
     "data": {
      "text/plain": [
       "array([1], dtype=int64)"
      ]
     },
     "execution_count": 14,
     "metadata": {},
     "output_type": "execute_result"
    }
   ],
   "source": [
    "# проверяем, есть ли случаи, когда один и тот же пользователь оставляет отзывы на один и тот же объект\n",
    "df.groupby([\"uid\", \"iid\"]).review.count().unique()  # ура, таких случаев нет"
   ]
  },
  {
   "cell_type": "code",
   "execution_count": 15,
   "metadata": {
    "collapsed": false
   },
   "outputs": [
    {
     "name": "stdout",
     "output_type": "stream",
     "text": [
      "Количество объектов: 10672\n",
      "Количество пользователей: 24303\n"
     ]
    }
   ],
   "source": [
    "print(\"Количество объектов:\", df.iid.unique().size)\n",
    "print(\"Количество пользователей:\", df.uid.unique().size)"
   ]
  },
  {
   "cell_type": "markdown",
   "metadata": {},
   "source": [
    "## Готовим выборки"
   ]
  },
  {
   "cell_type": "code",
   "execution_count": 16,
   "metadata": {
    "collapsed": true
   },
   "outputs": [],
   "source": [
    "def split_df_by_dt(df, p=0.8):\n",
    "    \"\"\"Функция разбивает df на тестовую и тренировочную выборки по времени \n",
    "    публикации отзывов (значение времени в поле dt)\n",
    "    \n",
    "    :param p: персентиль значений dt, которые образуют тренировочную выборку. Например p=0.8 означает, что в \n",
    "    тренировочной части будут отзывы, соответствующие первым 80% временного интервала \n",
    "    :return: два pd.DataFrame объекта\n",
    "    \"\"\"\n",
    "    border_dt = df.dt.quantile(p)\n",
    "    print(\"Min=%s, border=%s, max=%s\" % (df.dt.min(), border_dt, df.dt.max()))\n",
    "    training_df, test_df  = df[df.dt <= border_dt], df[df.dt > border_dt]\n",
    "    print(\"Размер до очистки:\", training_df.shape, test_df.shape)\n",
    "    # удаляем из тестовых данных строки, соответствующие пользователям или объектам, \n",
    "    # которых нет в тренировочных данных \n",
    "    # (пользователи - избегаем проблем для персональных систем, объекты - для всех)\n",
    "    test_df = test_df[test_df.uid.isin(training_df.uid) & test_df.iid.isin(training_df.iid)]\n",
    "    print(\"Размер после очистки:\", training_df.shape, test_df.shape)\n",
    "    return training_df, test_df"
   ]
  },
  {
   "cell_type": "code",
   "execution_count": 17,
   "metadata": {
    "collapsed": false
   },
   "outputs": [
    {
     "name": "stdout",
     "output_type": "stream",
     "text": [
      "Min=939859200, border=1377129600.0, max=1405987200\n",
      "Размер до очистки: (185427, 5) (46353, 5)\n",
      "Размер после очистки: (185427, 5) (19174, 5)\n"
     ]
    }
   ],
   "source": [
    "training_df, test_df = split_df_by_dt(df)\n",
    "del df"
   ]
  },
  {
   "cell_type": "code",
   "execution_count": 18,
   "metadata": {
    "collapsed": true
   },
   "outputs": [],
   "source": [
    "def clean_df(df, min_review_per_uid, min_review_per_iid):\n",
    "    \"\"\"Функция удаляет из df строки, соответствующие пользователям и объектам, \n",
    "    у которых меньше min_review_per_uid и min_review_per_iid отзывов соответственно\n",
    "    \"\"\"\n",
    "    _df = df.copy()\n",
    "    while True:\n",
    "        review_per_uid = _df.groupby(\"uid\").review.count()\n",
    "        bad_uids = review_per_uid[review_per_uid < min_review_per_uid].index\n",
    "    \n",
    "        review_per_iid = _df.groupby(\"iid\").review.count()\n",
    "        bad_iids = review_per_iid[review_per_iid < min_review_per_iid].index\n",
    "        \n",
    "        if bad_uids.shape[0] > 0 or bad_iids.shape[0] > 0:\n",
    "            _df = _df[(~_df.uid.isin(bad_uids)) & (~_df.iid.isin(bad_iids))]\n",
    "        else:\n",
    "            break\n",
    "    return _df"
   ]
  },
  {
   "cell_type": "markdown",
   "metadata": {},
   "source": [
    " ## Метрика"
   ]
  },
  {
   "cell_type": "markdown",
   "metadata": {},
   "source": [
    "Для упрощения тестирования предлагается использовать словарь следующего типа:\n",
    "\n",
    "```python\n",
    "recs = {\n",
    "    uid_1: {\n",
    "        iid_1: score_11,\n",
    "        iid_2: score_12,\n",
    "        ...\n",
    "    },\n",
    "    uid_2: {\n",
    "        iid_1: score_21,\n",
    "        iid_2: score_22,\n",
    "        ...\n",
    "    },\n",
    "    ...\n",
    "}\n",
    "```\n",
    "\n",
    "где `uid_i` - идентификатор тестового пользователя, `iid_j` - идентификатор рекомендованного объекта, а `score_ij` - предсказанный рейтинг/вес объекта `j` для пользователя `i`."
   ]
  },
  {
   "cell_type": "code",
   "execution_count": 19,
   "metadata": {
    "collapsed": true
   },
   "outputs": [],
   "source": [
    "def hit_ratio(recs_dict, test_dict):\n",
    "    \"\"\"Функция считает метрику hit-ration для двух словарей\n",
    "    :recs_dict: словарь рекомендаций типа {uid: {iid: score, ...}, ...}\n",
    "    :test_dict: тестовый словарь типа {uid: {iid: score, ...}, ...}\n",
    "    \"\"\"\n",
    "    hits = 0\n",
    "    for uid in test_dict:\n",
    "        if set(test_dict[uid].keys()).intersection(recs_dict.get(uid, {})):\n",
    "            hits += 1\n",
    "    return hits / len(test_dict)"
   ]
  },
  {
   "cell_type": "code",
   "execution_count": 20,
   "metadata": {
    "collapsed": true
   },
   "outputs": [],
   "source": [
    "def get_test_dict(test_df):\n",
    "    \"\"\"Функция, конвертирующая тестовый df в словарь\n",
    "    \"\"\"\n",
    "    test_dict = {}\n",
    "    for t in test_df.itertuples():\n",
    "        test_dict.setdefault(t.uid, {})\n",
    "        test_dict[t.uid][t.iid] = t.rating\n",
    "    return test_dict\n",
    "\n",
    "test_dict = get_test_dict(test_df)"
   ]
  },
  {
   "cell_type": "markdown",
   "metadata": {},
   "source": [
    "## Non-personalized RS"
   ]
  },
  {
   "cell_type": "markdown",
   "metadata": {},
   "source": [
    "В первом подзадании студент должен построить неперсонализированную рекомендательную систему. Т.е. рекомендации для одного пользователя строятся на основе отзывов, оставленных всеми пользователями.\n",
    "\n",
    "Ниже приведены базовые классы для рекомендателей, которые можно использовать при построении собственных моделей."
   ]
  },
  {
   "cell_type": "code",
   "execution_count": 21,
   "metadata": {
    "collapsed": false
   },
   "outputs": [],
   "source": [
    "class BasicRecommender(object):\n",
    "    def __init__(self):\n",
    "        pass\n",
    "    \n",
    "    def get_recs(self, uid):\n",
    "        \"\"\"Строит рекомендации для пользователя uid\n",
    "        :return: словарь типа {iid: score, ...}\n",
    "        \"\"\"\n",
    "        return {}\n",
    "    \n",
    "    def get_batch_recs(self, uids):\n",
    "        \"\"\"Строит рекомендации для нескольких пользователей uids\n",
    "        :return: словарь типа {uid: {iid: score, ...}, ...}\n",
    "        \"\"\"\n",
    "        return {uid: self.get_recs(uid) for uid in uids}\n",
    "    \n",
    "class NonPersRecommender(BasicRecommender):\n",
    "    def __init__(self, df, top):\n",
    "        self.top=top\n",
    "        super(NonPersRecommender, self).__init__()\n",
    "        self.recs = self._prepare_recs(df)\n",
    "\n",
    "        \n",
    "    def _prepare_recs(self, df):\n",
    "        return pd.Series([])\n",
    "    \n",
    "    def get_recs(self, uid):\n",
    " \n",
    "        return self.recs[:self.top].to_dict()\n",
    "\n",
    "    \n",
    "    def get_batch_recs(self, uids):\n",
    "        non_pers_recs = self.get_recs(None)\n",
    "        return {uid: non_pers_recs for uid in uids}"
   ]
  },
  {
   "cell_type": "markdown",
   "metadata": {},
   "source": [
    "Пример неперсональной рекомендательной системы - система, рекомендующая наиболее популярный контент."
   ]
  },
  {
   "cell_type": "code",
   "execution_count": 22,
   "metadata": {
    "collapsed": true
   },
   "outputs": [],
   "source": [
    "class MostReviewedRS(NonPersRecommender):\n",
    "    def _prepare_recs(self, df):\n",
    "        # считаем количество отзывов для каждого объекта (pandas сортирует их по убыванию)\n",
    "        return df[df.dt>=1280865972].iid.value_counts()  "
   ]
  },
  {
   "cell_type": "code",
   "execution_count": 23,
   "metadata": {
    "collapsed": true
   },
   "outputs": [],
   "source": [
    "class NumberOfFife(NonPersRecommender):\n",
    "    def _prepare_recs(self, df):\n",
    "        # считаем количество отзывов для каждого объекта (pandas сортирует их по убыванию)\n",
    "        # 1280865972 - это просто 2010 год что бы исключить слишком старые игры.\n",
    "        return df[(df.dt>=1280865972) & (df.rating==5)].iid.value_counts()  \n"
   ]
  },
  {
   "cell_type": "code",
   "execution_count": 24,
   "metadata": {
    "collapsed": false
   },
   "outputs": [],
   "source": [
    "class NumberOfFifeRandom2(NonPersRecommender):\n",
    "    def _prepare_recs(self, df):\n",
    "        top= self.top\n",
    "        # считаем количество отзывов для каждого объекта (pandas сортирует их по убыванию)\n",
    "        tmpdf=df.loc[(df.dt>=1280865972) & (df.rating==5)].iid.value_counts()\n",
    "        tmpdf=tmpdf.head(4*self.top)\n",
    "        tmpdf=tmpdf.reset_index()\n",
    "        tmpdf.columns=['iid', 'five_counts']\n",
    "        print(tmpdf.head(2))\n",
    "        sumcounts=np.sum(tmpdf.five_counts)\n",
    "        tmpdf['p'] = tmpdf.five_counts/sumcounts\n",
    "        #res = np.random.choice(tmpdf.iid, 10, list(tmpdf.p))\n",
    "        return pd.DataFrame(res, columns=['iid'] )"
   ]
  },
  {
   "cell_type": "code",
   "execution_count": 134,
   "metadata": {
    "collapsed": false
   },
   "outputs": [],
   "source": [
    "class NumberOfFifeRandom(NonPersRecommender):\n",
    "    def __init__(self, df, top):\n",
    "        self.top=top\n",
    "        super(NonPersRecommender, self).__init__()\n",
    "        self.recs = self._prepare_recs(df)    \n",
    "    def _prepare_recs(self, df):\n",
    "        # считаем количество отзывов для каждого объекта (pandas сортирует их по убыванию)\n",
    "        return df[(df.dt>=1280865972) & (df.rating==5)].iid.value_counts()\n",
    "    def get_recs(self, uid):\n",
    "       \n",
    "        tmpdf=self.recs\n",
    "        tmpdf=tmpdf.head(20)\n",
    "        tmpdf=tmpdf.reset_index()\n",
    "        tmpdf.columns=['iid', 'five_counts']\n",
    "        #print(tmpdf.head(2))\n",
    "        sumcounts=np.sum(tmpdf.five_counts)\n",
    "        tmpdf['p'] = tmpdf.five_counts/sumcounts\n",
    "        res=[]\n",
    "        for i in range(0,self.top):\n",
    "            res.append(np.random.choice(tmpdf.iid, 1, list(tmpdf.p)))\n",
    "#            print(res[i][0])\n",
    "            tmpdf=tmpdf.loc[tmpdf.iid != res[i][0]]\n",
    "        res=pd.DataFrame(res,columns=['iid'])\n",
    "        res=res.iid.value_counts()\n",
    "        return res.to_dict() \n",
    "    def get_batch_recs(self, uids):\n",
    "        #non_pers_recs = self.get_recs(None)\n",
    "        res_dict ={}\n",
    "        for uid in tqdm(list(uids)):\n",
    "            res_dict[uid] = self.get_recs(uid)\n",
    "        return res_dict"
   ]
  },
  {
   "cell_type": "code",
   "execution_count": 26,
   "metadata": {
    "collapsed": false
   },
   "outputs": [],
   "source": [
    "#pd=pd.merge(training_df, ttt2, on='iid')"
   ]
  },
  {
   "cell_type": "code",
   "execution_count": 27,
   "metadata": {
    "collapsed": false
   },
   "outputs": [],
   "source": [
    "#pd.sort_values('5counts', ascending=False).head()"
   ]
  },
  {
   "cell_type": "code",
   "execution_count": 102,
   "metadata": {
    "collapsed": false
   },
   "outputs": [],
   "source": [
    "mrrs=NumberOfFife(training_df, 10)"
   ]
  },
  {
   "cell_type": "code",
   "execution_count": 135,
   "metadata": {
    "collapsed": true
   },
   "outputs": [],
   "source": [
    "mrrs_r=NumberOfFifeRandom(training_df,10)"
   ]
  },
  {
   "cell_type": "code",
   "execution_count": 136,
   "metadata": {
    "collapsed": false
   },
   "outputs": [
    {
     "data": {
      "text/plain": [
       "{6492: 1,\n",
       " 6898: 1,\n",
       " 7163: 1,\n",
       " 7591: 1,\n",
       " 7619: 1,\n",
       " 7913: 1,\n",
       " 8151: 1,\n",
       " 8159: 1,\n",
       " 8659: 1,\n",
       " 9267: 1}"
      ]
     },
     "execution_count": 136,
     "metadata": {},
     "output_type": "execute_result"
    }
   ],
   "source": [
    "mrrs_r.get_recs(3)"
   ]
  },
  {
   "cell_type": "code",
   "execution_count": 29,
   "metadata": {
    "collapsed": false
   },
   "outputs": [],
   "source": [
    "def GetTestDicts(df):\n",
    "    return {uid: {iid: 1 for iid in df.loc[df.uid == uid].iid} for uid in df.uid}"
   ]
  },
  {
   "cell_type": "code",
   "execution_count": 30,
   "metadata": {
    "collapsed": false
   },
   "outputs": [],
   "source": [
    "test_dict=get_test_dict(test_df)"
   ]
  },
  {
   "cell_type": "code",
   "execution_count": 32,
   "metadata": {
    "collapsed": false
   },
   "outputs": [],
   "source": [
    "train_dict =mrrs.get_batch_recs(test_df.uid.unique())"
   ]
  },
  {
   "cell_type": "code",
   "execution_count": 137,
   "metadata": {
    "collapsed": false
   },
   "outputs": [
    {
     "name": "stderr",
     "output_type": "stream",
     "text": [
      "100%|█████████████████████████████████████████████████████████████████████████████████████████████████████████████████████████████| 6815/6815 [01:29<00:00, 76.54it/s]\n"
     ]
    }
   ],
   "source": [
    "train_dict_r =mrrs_r.get_batch_recs(test_df.uid.unique())"
   ]
  },
  {
   "cell_type": "code",
   "execution_count": 33,
   "metadata": {
    "collapsed": false
   },
   "outputs": [
    {
     "data": {
      "text/plain": [
       "0.09948642699926633"
      ]
     },
     "execution_count": 33,
     "metadata": {},
     "output_type": "execute_result"
    }
   ],
   "source": [
    "hit_ratio(recs_dict=train_dict, test_dict=test_dict) #NumberOfFive"
   ]
  },
  {
   "cell_type": "code",
   "execution_count": 138,
   "metadata": {
    "collapsed": false
   },
   "outputs": [
    {
     "data": {
      "text/plain": [
       "0.06368305209097579"
      ]
     },
     "execution_count": 138,
     "metadata": {},
     "output_type": "execute_result"
    }
   ],
   "source": [
    "hit_ratio(recs_dict=train_dict_r, test_dict=test_dict) #NumberOfFiveRandom - лучше в продакшене"
   ]
  },
  {
   "cell_type": "raw",
   "metadata": {},
   "source": [
    "#### `HR@10` для non-personalized модели, созданной автором блокнота: 0.055"
   ]
  },
  {
   "cell_type": "markdown",
   "metadata": {},
   "source": [
    "### Подсказки\n",
    "Подумайте, какие игры обычно приобретают люди. \n",
    "* Какие свойства, помимо, популярности могут помочь покупателю выбрать игру, если у него нет явных предпочтений? \n",
    "* Можно ли как-нибудь использовать рейтинги или время публикации отзывов?"
   ]
  },
  {
   "cell_type": "markdown",
   "metadata": {
    "collapsed": true
   },
   "source": [
    "## Content-based RS"
   ]
  },
  {
   "cell_type": "markdown",
   "metadata": {},
   "source": [
    "Простая content-based рекомендательная система описывает пользователей и объекты как вектора в некотором N-мерном пространстве фич. Вектор объекта показывает, насколько объект принадлежит к той или иной фиче. Вектор пользователя показывает, насколько пользователь предпочитает ту или иную фичу. Рекомендации строятся путем поиска объектов, чьи вектора похожи на вектор предпочтений пользователя. Предполагается, что чем более похожи вектора пользователя и объекта, тем интереснее этот объект пользователю."
   ]
  },
  {
   "cell_type": "code",
   "execution_count": 34,
   "metadata": {
    "collapsed": false
   },
   "outputs": [],
   "source": [
    "def is_noun(tag):\n",
    "    return tag in ['NN', 'NNS', 'NNP', 'NNPS']\n",
    "\n",
    "def is_verb(tag):\n",
    "    return tag in ['VB', 'VBD', 'VBG', 'VBN', 'VBP', 'VBZ']\n",
    "\n",
    "def is_adverb(tag):\n",
    "    return tag in ['RB', 'RBR', 'RBS']\n",
    "\n",
    "def is_adjective(tag):\n",
    "    return tag in ['JJ', 'JJR', 'JJS']\n",
    "\n",
    "def penn_to_wn(tag):\n",
    "    if is_adjective(tag):\n",
    "        return wn.ADJ\n",
    "    elif is_noun(tag):\n",
    "        return wn.NOUN\n",
    "    elif is_adverb(tag):\n",
    "        return wn.ADV\n",
    "    elif is_verb(tag):\n",
    "        return wn.VERB\n",
    "    return wn.NOUN\n",
    "\n",
    "def normality_me(query):\n",
    "    tags = nltk.pos_tag(word_tokenize(query))\n",
    "    words=[]\n",
    "    for tag in tags:\n",
    "        wn_tag = penn_to_wn(tag[1])\n",
    "        words.append(WordNetLemmatizer().lemmatize(tag[0],wn_tag))\n",
    "    return \" \".join(words)     "
   ]
  },
  {
   "cell_type": "code",
   "execution_count": 222,
   "metadata": {
    "collapsed": false
   },
   "outputs": [
    {
     "name": "stdout",
     "output_type": "stream",
     "text": [
      "showing info https://raw.githubusercontent.com/nltk/nltk_data/gh-pages/index.xml\n"
     ]
    },
    {
     "data": {
      "text/plain": [
       "True"
      ]
     },
     "execution_count": 222,
     "metadata": {},
     "output_type": "execute_result"
    }
   ],
   "source": [
    "#nltk.download()"
   ]
  },
  {
   "cell_type": "code",
   "execution_count": 312,
   "metadata": {
    "collapsed": false
   },
   "outputs": [
    {
     "data": {
      "text/plain": [
       "'installing struggle (because windows live bugs).some championship races cars \"unlocked\" buying addon game. paid nearly 30 dollars new. dont like idea keep paying keep playing.i noticed improvement physics graphics compared dirt 2.i tossed garbage vowed never buy another codemasters game. im really tired arcade style rally/racing anyway.ill continue get fix richard burns rally, to. :)http://www.amazon.com/richard-burns-rally-pc/dp/b000c97156/ref=sr_1_1?ie=utf8&qid;=1341886844&sr;=8-1&keywords;=richard+burns+rallythank reading review! if enjoyed it, sure rate helpful.'"
      ]
     },
     "execution_count": 312,
     "metadata": {},
     "output_type": "execute_result"
    }
   ],
   "source": [
    "training_df.normalized.loc[0]"
   ]
  },
  {
   "cell_type": "code",
   "execution_count": 313,
   "metadata": {
    "collapsed": false
   },
   "outputs": [
    {
     "data": {
      "text/plain": [
       "'installing struggle (because windows live bugs) some championship races cars unlocked buying addon game paid nearly 30 dollars new dont like idea keep paying keep playing noticed improvement physics graphics compared dirt i tossed garbage vowed never buy another codemasters game really tired arcade style rally racing anyway ill continue get fix richard burns rally to ) reading review if enjoyed sure rate helpful '"
      ]
     },
     "execution_count": 313,
     "metadata": {},
     "output_type": "execute_result"
    }
   ],
   "source": [
    "training_df.normalized2.loc[0]"
   ]
  },
  {
   "cell_type": "code",
   "execution_count": 314,
   "metadata": {
    "collapsed": false
   },
   "outputs": [
    {
     "name": "stdout",
     "output_type": "stream",
     "text": [
      "installing---> instal\n",
      "struggle---> struggle\n",
      "(---> (\n",
      "because---> because\n",
      "windows---> window\n",
      "live---> live\n",
      "bugs---> bug\n",
      ")---> )\n",
      "some---> some\n",
      "championship---> championship\n",
      "races---> race\n",
      "cars---> car\n",
      "unlocked---> unlock\n",
      "buying---> buy\n",
      "addon---> addon\n",
      "game---> game\n",
      "paid---> pay\n",
      "nearly---> nearly\n",
      "30---> 30\n",
      "dollars---> dollar\n",
      "new---> new\n",
      "dont---> dont\n",
      "like---> like\n",
      "idea---> idea\n",
      "keep---> keep\n",
      "paying---> pay\n",
      "keep---> keep\n",
      "playing---> playing\n",
      "noticed---> noticed\n",
      "improvement---> improvement\n",
      "physics---> physic\n",
      "graphics---> graphic\n",
      "compared---> compare\n",
      "dirt---> dirt\n",
      "i---> i\n",
      "tossed---> toss\n",
      "garbage---> garbage\n",
      "vowed---> vow\n",
      "never---> never\n",
      "buy---> buy\n",
      "another---> another\n",
      "codemasters---> codemasters\n",
      "game---> game\n",
      "really---> really\n",
      "tired---> tired\n",
      "arcade---> arcade\n",
      "style---> style\n",
      "rally---> rally\n",
      "racing---> race\n",
      "anyway---> anyway\n",
      "ill---> ill\n",
      "continue---> continue\n",
      "get---> get\n",
      "fix---> fix\n",
      "richard---> richard\n",
      "burns---> burn\n",
      "rally---> rally\n",
      "to---> to\n",
      ")---> )\n",
      "reading---> read\n",
      "review---> review\n",
      "if---> if\n",
      "enjoyed---> enjoy\n",
      "sure---> sure\n",
      "rate---> rate\n",
      "helpful---> helpful\n"
     ]
    }
   ],
   "source": [
    "normality_me(training_df.normalized2.loc[0])"
   ]
  },
  {
   "cell_type": "code",
   "execution_count": null,
   "metadata": {
    "collapsed": true
   },
   "outputs": [],
   "source": []
  },
  {
   "cell_type": "code",
   "execution_count": 52,
   "metadata": {
    "collapsed": true
   },
   "outputs": [],
   "source": [
    "stop_words = stopwords.words('english')"
   ]
  },
  {
   "cell_type": "code",
   "execution_count": 206,
   "metadata": {
    "collapsed": true
   },
   "outputs": [],
   "source": [
    "def tokenize_me(file_text):\n",
    "    #file_text=file_text.text\n",
    "    #firstly let's apply nltk tokenization\n",
    "    tokens = nltk.word_tokenize(file_text)\n",
    "    #print(file_text)\n",
    "    tokens=file_text.split(\" \")\n",
    "    #deleting stop_words\n",
    "    stop_words = stopwords.words('english')\n",
    "    stop_words.extend(['game', 'games', 'the', 'this', 'it', 'its'])\n",
    "    tokens = [i for i in tokens if ( (i not in stop_words) & (len(i)>1) )]\n",
    "\n",
    "    #cleaning words\n",
    "    tokens = [i.replace(\"«\", \"\").replace(\"»\", \"\").replace(\"'\", \"\").replace(\"`\", \"\") for i in tokens]\n",
    "\n",
    "    return tokens"
   ]
  },
  {
   "cell_type": "code",
   "execution_count": null,
   "metadata": {
    "collapsed": false
   },
   "outputs": [],
   "source": []
  },
  {
   "cell_type": "code",
   "execution_count": 55,
   "metadata": {
    "collapsed": true
   },
   "outputs": [],
   "source": [
    "class MorphProvider:\n",
    "    def __init__(self):\n",
    "        self.cache = {}\n",
    "        self.morph = pymorphy2.MorphAnalyzer()\n",
    "    \n",
    "    def __call__(self, w):\n",
    "        w = w.lower()\n",
    "        cached = self.cache.get(w)\n",
    "        if cached:\n",
    "            return cached\n",
    "        try:\n",
    "            morphed = self.morph.parse(w)[0].normal_form\n",
    "            self.cache[w] = morphed\n",
    "            return morphed\n",
    "        except:\n",
    "            return None\n",
    "    \n",
    "    def morph_string(self, s):\n",
    "        words = tokenize_me(s)\n",
    "        return \" \".join([self.__call__(w) for w in words])"
   ]
  },
  {
   "cell_type": "code",
   "execution_count": 56,
   "metadata": {
    "collapsed": false
   },
   "outputs": [],
   "source": [
    "morph = MorphProvider()"
   ]
  },
  {
   "cell_type": "code",
   "execution_count": 57,
   "metadata": {
    "collapsed": false
   },
   "outputs": [
    {
     "name": "stderr",
     "output_type": "stream",
     "text": [
      "100%|████████████████████████████████████████████████████████████████████████████████████████████████████████████████████████| 185427/185427 [16:45<00:00, 184.34it/s]\n"
     ]
    }
   ],
   "source": [
    "training_df[\"normalized\"] = [morph.morph_string(t) for t in tqdm(training_df.review)]"
   ]
  },
  {
   "cell_type": "code",
   "execution_count": 494,
   "metadata": {
    "collapsed": true
   },
   "outputs": [],
   "source": [
    "#training_df['normalized'] = training_df.normalized.apply( tokenize_me)"
   ]
  },
  {
   "cell_type": "code",
   "execution_count": 58,
   "metadata": {
    "collapsed": false
   },
   "outputs": [
    {
     "data": {
      "text/plain": [
       "0    installing struggle (because windows live bugs...\n",
       "1    if like rally cars get fun.it oriented &#34;eu...\n",
       "3    got version instead ps3 version, turned mistak...\n",
       "4    dirt xbox 360 okay game. started playing lapto...\n",
       "5    overall well done racing game, good graphics t...\n",
       "Name: normalized, dtype: object"
      ]
     },
     "execution_count": 58,
     "metadata": {},
     "output_type": "execute_result"
    }
   ],
   "source": [
    "training_df.normalized.head(5)"
   ]
  },
  {
   "cell_type": "code",
   "execution_count": 309,
   "metadata": {
    "collapsed": false
   },
   "outputs": [],
   "source": [
    "good1 = re.compile('\\(+\\:+')\n",
    "good2 = re.compile('\\:+\\)+')\n",
    "bad1 = re.compile('\\:+\\(+')\n",
    "bad2 = re.compile('\\)+\\:+')\n",
    "matchlist = [re.compile('http:\\/\\/.*?\\s'),\n",
    "             re.compile('https?:\\/\\/.*\\s'),\n",
    "             re.compile('/<[A-Za-z\\/][^>]*>/'), \n",
    "             re.compile('୧ʕ•̀ᴥ•́ʔ୨'), \n",
    "             re.compile('<br>'), \n",
    "             re.compile('/\\s.\\s/'), \n",
    "             re.compile('[\\.,\\'\\\"\\?\\!;\\:\\-\\*\\&\\#\\/]+')]\n",
    "\n",
    "muchspase = re.compile('\\s+')\n",
    "matchxbox_list = [\n",
    "                  re.compile('/\\bx\\s*box\\s*\\d+\\b/'),\n",
    "                  re.compile('\\bx\\s*box\\s*\\d+\\b'),\n",
    "                  re.compile('/x\\s+box/'),\n",
    "                  re.compile('/^xbox/'),\n",
    "                  re.compile('x\\s+box'),    \n",
    "                  re.compile('/\\s360\\s/'),\n",
    "                  re.compile('\\s360\\s'),\n",
    "\n",
    " ]\n",
    "matchps = [re.compile('ps\\d'),\n",
    "           re.compile('sony play station\\s*\\d'),\n",
    "           re.compile('play station\\s*\\d')\n",
    "          ]"
   ]
  },
  {
   "cell_type": "code",
   "execution_count": 280,
   "metadata": {
    "collapsed": true
   },
   "outputs": [],
   "source": [
    "training_df['normalized2'] = training_df.normalized"
   ]
  },
  {
   "cell_type": "code",
   "execution_count": 281,
   "metadata": {
    "collapsed": false
   },
   "outputs": [],
   "source": [
    "training_df['normalized2'] = training_df.normalized.replace(to_replace=good1, value=r\" good \", regex=True)\n",
    "training_df['normalized2'] = training_df.normalized.replace(to_replace=good2, value=r\" good \", regex=True)"
   ]
  },
  {
   "cell_type": "code",
   "execution_count": 282,
   "metadata": {
    "collapsed": true
   },
   "outputs": [],
   "source": [
    "training_df['normalized2'] = training_df.normalized.replace(to_replace=bad1, value=r\" bad \", regex=True)\n",
    "training_df['normalized2'] = training_df.normalized.replace(to_replace=bad2, value=r\" bad \", regex=True)"
   ]
  },
  {
   "cell_type": "code",
   "execution_count": 310,
   "metadata": {
    "collapsed": false
   },
   "outputs": [],
   "source": [
    "for match in matchlist:\n",
    "    training_df['normalized2'] = training_df.normalized2.replace(to_replace=match, value=r\" \", regex=True)\n",
    "    "
   ]
  },
  {
   "cell_type": "code",
   "execution_count": 284,
   "metadata": {
    "collapsed": false
   },
   "outputs": [],
   "source": [
    "training_df.normalized2=training_df.normalized2.replace(to_replace='\\sx\\s*box\\s*\\d+\\s', value=r\" microsoft \", regex=True)"
   ]
  },
  {
   "cell_type": "code",
   "execution_count": 285,
   "metadata": {
    "collapsed": false
   },
   "outputs": [],
   "source": [
    "for match in matchxbox_list:\n",
    "    training_df['normalized2'] = training_df.normalized2.replace(to_replace=match, value=r\" microsoft \", regex=True)"
   ]
  },
  {
   "cell_type": "code",
   "execution_count": 286,
   "metadata": {
    "collapsed": true
   },
   "outputs": [],
   "source": [
    "training_df['normalized2'] = training_df.normalized2.replace(to_replace=match, value=r\" \", regex=True)"
   ]
  },
  {
   "cell_type": "code",
   "execution_count": 287,
   "metadata": {
    "collapsed": true
   },
   "outputs": [],
   "source": [
    "for match in matchps:\n",
    "    training_df['normalized2'] = training_df.normalized2.replace(to_replace=match, value=r\" sony \", regex=True)"
   ]
  },
  {
   "cell_type": "code",
   "execution_count": 288,
   "metadata": {
    "collapsed": true
   },
   "outputs": [],
   "source": [
    "training_df['normalized2'] = training_df.normalized2.replace(to_replace=matchps, value=r\" \", regex=True)"
   ]
  },
  {
   "cell_type": "code",
   "execution_count": 289,
   "metadata": {
    "collapsed": false
   },
   "outputs": [
    {
     "data": {
      "text/plain": [
       "0    installing struggle (because windows live bugs...\n",
       "1    if like rally cars get fun.it oriented &#34;eu...\n",
       "3    got version instead ps3 version, turned mistak...\n",
       "4    dirt xbox 360 okay game. started playing lapto...\n",
       "5    overall well done racing game, good graphics t...\n",
       "Name: normalized, dtype: object"
      ]
     },
     "execution_count": 289,
     "metadata": {},
     "output_type": "execute_result"
    }
   ],
   "source": [
    "training_df['normalized'].head()"
   ]
  },
  {
   "cell_type": "code",
   "execution_count": 290,
   "metadata": {
    "collapsed": false
   },
   "outputs": [
    {
     "data": {
      "text/plain": [
       "0    installing struggle (because windows live bugs...\n",
       "1    if like rally cars get fun it oriented  34 eur...\n",
       "3    got version instead  sony  version  turned mis...\n",
       "4    dirt microsoft okay game  started playing lapt...\n",
       "5    overall well done racing game  good graphics t...\n",
       "Name: normalized2, dtype: object"
      ]
     },
     "execution_count": 290,
     "metadata": {},
     "output_type": "execute_result"
    }
   ],
   "source": [
    "training_df['normalized2'].head()"
   ]
  },
  {
   "cell_type": "code",
   "execution_count": 291,
   "metadata": {
    "collapsed": false
   },
   "outputs": [],
   "source": [
    "#w2v = word2vec.Word2Vec(training_df.review, size=200)"
   ]
  },
  {
   "cell_type": "code",
   "execution_count": 292,
   "metadata": {
    "collapsed": false
   },
   "outputs": [
    {
     "data": {
      "text/plain": [
       "Series([], Name: normalized2, dtype: object)"
      ]
     },
     "execution_count": 292,
     "metadata": {},
     "output_type": "execute_result"
    }
   ],
   "source": [
    "training_df.loc[training_df.normalized2.str.match('\\snt\\s')].normalized2"
   ]
  },
  {
   "cell_type": "code",
   "execution_count": null,
   "metadata": {
    "collapsed": true
   },
   "outputs": [],
   "source": []
  },
  {
   "cell_type": "code",
   "execution_count": null,
   "metadata": {
    "collapsed": true
   },
   "outputs": [],
   "source": []
  },
  {
   "cell_type": "code",
   "execution_count": 293,
   "metadata": {
    "collapsed": true
   },
   "outputs": [],
   "source": [
    "\n",
    "# training_df['normalized2'] = training_df.normalized2.replace(to_replace='\\s.\\s', value=r\" \", regex=True)\n",
    "# training_df['normalized2'] = training_df.normalized2.replace(to_replace='^.\\s', value=r\" \", regex=True)\n",
    "# training_df['normalized2'] = training_df.normalized2.replace(to_replace='ca nt', value=r\"can not\", regex=True)    \n"
   ]
  },
  {
   "cell_type": "code",
   "execution_count": 294,
   "metadata": {
    "collapsed": true
   },
   "outputs": [],
   "source": [
    "training_df['normalized2'] = training_df.normalized2.replace(to_replace='\\snt\\s', value=r\"not\", regex=True)"
   ]
  },
  {
   "cell_type": "code",
   "execution_count": 295,
   "metadata": {
    "collapsed": true
   },
   "outputs": [],
   "source": [
    "training_df['normalized2'] = training_df.normalized2.replace(to_replace='\\sim\\s', value=r\" \", regex=True)"
   ]
  },
  {
   "cell_type": "code",
   "execution_count": 296,
   "metadata": {
    "collapsed": true
   },
   "outputs": [],
   "source": [
    "training_df['normalized2'] = training_df.normalized2.replace(to_replace='^im\\s', value=r\" \", regex=True)"
   ]
  },
  {
   "cell_type": "code",
   "execution_count": 297,
   "metadata": {
    "collapsed": true
   },
   "outputs": [],
   "source": [
    "training_df['normalized2'] = training_df.normalized2.replace(to_replace='\\s.\\s', value=r\" \", regex=True)"
   ]
  },
  {
   "cell_type": "code",
   "execution_count": 298,
   "metadata": {
    "collapsed": true
   },
   "outputs": [],
   "source": [
    "training_df['normalized2'] = training_df.normalized2.replace(to_replace='\\sits\\s', value=r\" \", regex=True)"
   ]
  },
  {
   "cell_type": "code",
   "execution_count": 299,
   "metadata": {
    "collapsed": true
   },
   "outputs": [],
   "source": [
    "training_df['normalized2'] = training_df.normalized2.replace(to_replace='\\sit\\s', value=r\" \", regex=True)"
   ]
  },
  {
   "cell_type": "code",
   "execution_count": 300,
   "metadata": {
    "collapsed": true
   },
   "outputs": [],
   "source": [
    "training_df['normalized2'] = training_df.normalized2.replace(to_replace='\\sthis\\s', value=r\" \", regex=True)"
   ]
  },
  {
   "cell_type": "code",
   "execution_count": 311,
   "metadata": {
    "collapsed": true
   },
   "outputs": [],
   "source": [
    "training_df['normalized2'] = training_df.normalized2.replace(to_replace=muchspase, value=r\" \", regex=True)"
   ]
  },
  {
   "cell_type": "code",
   "execution_count": null,
   "metadata": {
    "collapsed": true
   },
   "outputs": [],
   "source": [
    "training_df[\"normalized3\"] = [normality_me(t) for t in tqdm(training_df.normalized2)]"
   ]
  },
  {
   "cell_type": "code",
   "execution_count": 321,
   "metadata": {
    "collapsed": true
   },
   "outputs": [],
   "source": [
    "file = open('training_df2', 'wb')\n",
    "pickle.dump(training_df, file)\n",
    "file.close()"
   ]
  },
  {
   "cell_type": "code",
   "execution_count": 322,
   "metadata": {
    "collapsed": false
   },
   "outputs": [
    {
     "data": {
      "text/plain": [
       "0     instal struggle ( because window live bug ) so...\n",
       "1     if like rally car get fun orient 34 european m...\n",
       "3     get version instead sony version turn mistake ...\n",
       "4     dirt microsoft okay game start play laptop buy...\n",
       "5     overall well do racing game good graphic time ...\n",
       "6     love play dirt think graphic good purchase dir...\n",
       "7     cant tell piece dog be like everything else mi...\n",
       "8     initially give one star crash constantly recen...\n",
       "10    quite finish game dirt tour mode believe ive e...\n",
       "11    play car racing since early begin pc currently...\n",
       "14    crash vista codemasters tell dont support wind...\n",
       "15    this rip off less terrain less track less feat...\n",
       "16    in todays market easy miss race arent part lic...\n",
       "17    this really step dirt well graphic car seem li...\n",
       "18    this bug landfirst problem instal required win...\n",
       "20    lot people dont like rally already try gran tu...\n",
       "21    would like give star could get run like others...\n",
       "22    the great game windows live frustrate piece ga...\n",
       "23    this pretty fun game buy car track online stor...\n",
       "24    this must gamer codemasters really hit home ru...\n",
       "Name: normalized3, dtype: object"
      ]
     },
     "execution_count": 322,
     "metadata": {},
     "output_type": "execute_result"
    }
   ],
   "source": [
    "training_df.loc[training_df.iid==0].normalized3"
   ]
  },
  {
   "cell_type": "code",
   "execution_count": 60,
   "metadata": {
    "collapsed": false
   },
   "outputs": [
    {
     "data": {
      "text/plain": [
       "TfidfVectorizer(analyzer='word', binary=False, decode_error='strict',\n",
       "        dtype=<class 'numpy.int64'>, encoding='utf-8', input='content',\n",
       "        lowercase=True, max_df=1.0, max_features=None, min_df=1,\n",
       "        ngram_range=(1, 1), norm='l2', preprocessor=None, smooth_idf=True,\n",
       "        stop_words='english', strip_accents=None, sublinear_tf=False,\n",
       "        token_pattern='(?u)\\\\b\\\\w\\\\w+\\\\b', tokenizer=None, use_idf=True,\n",
       "        vocabulary=None)"
      ]
     },
     "execution_count": 60,
     "metadata": {},
     "output_type": "execute_result"
    }
   ],
   "source": [
    "tfidf = TfidfVectorizer(stop_words='english',analyzer='word')\n",
    "tfidf.fit(training_df.normalized3)"
   ]
  },
  {
   "cell_type": "code",
   "execution_count": 324,
   "metadata": {
    "collapsed": true
   },
   "outputs": [],
   "source": [
    "ftr_id_to_term = {ftr_id: term for term, ftr_id in tfidf.vocabulary_.items()}"
   ]
  },
  {
   "cell_type": "code",
   "execution_count": 325,
   "metadata": {
    "collapsed": false
   },
   "outputs": [
    {
     "name": "stdout",
     "output_type": "stream",
     "text": [
      "mees : 0.305559211964\n",
      "log : 0.301006623863\n",
      "live : 0.295674421404\n",
      "window : 0.260600183086\n",
      "rebuy : 0.250717062338\n",
      "necessity : 0.186032606883\n",
      "controller : 0.183218740568\n",
      "activation : 0.178309378766\n",
      "suffers : 0.164210527786\n",
      "dirt : 0.161801817348\n",
      "star : 0.161390120936\n",
      "detract : 0.159683083907\n",
      "accept : 0.155084495551\n",
      "steer : 0.153063915006\n",
      "racing : 0.151387072518\n",
      "customer : 0.14358740893\n",
      "greatly : 0.142202213591\n",
      "keyboard : 0.136592528016\n",
      "wheel : 0.135149429338\n",
      "period : 0.130419682504\n",
      "code : 0.125933997291\n",
      "personally : 0.118685511523\n",
      "impossible : 0.11859397509\n",
      "play : 0.118321994783\n",
      "family : 0.117126860521\n",
      "longer : 0.116564935942\n",
      "flaw : 0.11464464362\n",
      "support : 0.112872269163\n",
      "progress : 0.112224151254\n",
      "box : 0.109596146035\n",
      "deal : 0.101438183473\n",
      "type : 0.0903219635282\n",
      "save : 0.0877373233363\n",
      "probably : 0.0868704083629\n",
      "online : 0.0864243179229\n",
      "feature : 0.0861187470113\n",
      "overall : 0.0775707232635\n",
      "enjoy : 0.0765085893918\n",
      "game : 0.0761592951554\n",
      "work : 0.068575538145\n",
      "think : 0.0634699777192\n",
      "want : 0.0631839451434\n",
      "graphic : 0.0559224479949\n",
      "fun : 0.0521810533798\n",
      "great : 0.0508303265366\n",
      "time : 0.0497317647852\n",
      "good : 0.0481509053602\n"
     ]
    }
   ],
   "source": [
    "item_profile = tfidf.transform([training_df.loc[5].normalized3])\n",
    "item_profile \n",
    "for ftr_id, score in sorted(zip(item_profile.indices, item_profile.data), key=lambda x: x[1], reverse=True):\n",
    "    print(ftr_id_to_term[ftr_id], \":\", score)"
   ]
  },
  {
   "cell_type": "code",
   "execution_count": 478,
   "metadata": {
    "collapsed": false
   },
   "outputs": [],
   "source": [
    "#review_tf=tfidf.transform(training_df.normalized2)"
   ]
  },
  {
   "cell_type": "code",
   "execution_count": 527,
   "metadata": {
    "collapsed": false
   },
   "outputs": [
    {
     "data": {
      "text/plain": [
       "2.1999405822935234"
      ]
     },
     "execution_count": 527,
     "metadata": {},
     "output_type": "execute_result"
    }
   ],
   "source": [
    "training_df.uid.nunique()/ training_df.iid.nunique()"
   ]
  },
  {
   "cell_type": "markdown",
   "metadata": {},
   "source": [
    "n/m получается больше 2, возьмем больше 5"
   ]
  },
  {
   "cell_type": "code",
   "execution_count": 564,
   "metadata": {
    "collapsed": false
   },
   "outputs": [],
   "source": [
    "training_df2 = training_df.copy()"
   ]
  },
  {
   "cell_type": "code",
   "execution_count": 560,
   "metadata": {
    "collapsed": false
   },
   "outputs": [],
   "source": [
    "iid_nums=None"
   ]
  },
  {
   "cell_type": "code",
   "execution_count": null,
   "metadata": {
    "collapsed": true
   },
   "outputs": [],
   "source": [
    "# список фильмов и пользователей имеющих достаточное кол-во объектов (5 взята из телеграма и не подбиралась)"
   ]
  },
  {
   "cell_type": "code",
   "execution_count": 51,
   "metadata": {
    "collapsed": false
   },
   "outputs": [
    {
     "data": {
      "text/plain": [
       "(7906, 2)"
      ]
     },
     "execution_count": 51,
     "metadata": {},
     "output_type": "execute_result"
    }
   ],
   "source": [
    "iid_nums = training_df.groupby('iid').uid.count()\n",
    "iid_nums = iid_nums.reset_index()\n",
    "iid_nums.columns=['iid', 'num']\n",
    "iid_nums = iid_nums.loc[iid_nums.num>5]\n",
    "iid_nums.shape"
   ]
  },
  {
   "cell_type": "code",
   "execution_count": null,
   "metadata": {
    "collapsed": true
   },
   "outputs": [],
   "source": []
  },
  {
   "cell_type": "code",
   "execution_count": 52,
   "metadata": {
    "collapsed": false
   },
   "outputs": [
    {
     "data": {
      "text/plain": [
       "(12312, 2)"
      ]
     },
     "execution_count": 52,
     "metadata": {},
     "output_type": "execute_result"
    }
   ],
   "source": [
    "uid_nums = training_df.groupby('uid').iid.count()\n",
    "uid_nums = uid_nums.reset_index()\n",
    "uid_nums.columns =['uid', 'num']\n",
    "uid_nums = uid_nums.loc[uid_nums.num>5]\n",
    "uid_nums.shape"
   ]
  },
  {
   "cell_type": "code",
   "execution_count": null,
   "metadata": {
    "collapsed": true
   },
   "outputs": [],
   "source": []
  },
  {
   "cell_type": "code",
   "execution_count": 934,
   "metadata": {
    "collapsed": false
   },
   "outputs": [
    {
     "data": {
      "text/plain": [
       "[10385, 10385]"
      ]
     },
     "execution_count": 934,
     "metadata": {},
     "output_type": "execute_result"
    }
   ],
   "source": [
    "list(training_df.loc[training_df.rating >=4].iid)[-2:]"
   ]
  },
  {
   "cell_type": "code",
   "execution_count": null,
   "metadata": {
    "collapsed": true
   },
   "outputs": [],
   "source": [
    "# X_g = []\n",
    "\n",
    "# i=0\n",
    "# iid=None\n",
    "# tmp=[]\n",
    "# end_i=(len(training_df.loc[training_df.rating>=5].iid)-1)\n",
    "# for row in training_df.loc[training_df.rating>=5].itertuples():\n",
    "#     if  row not in list(iid_nums.iid):\n",
    "#         continue\n",
    "#     if (i>0) & (row.iid != iid):\n",
    "#         X_g.append(tmp)\n",
    "#         iid=row.iid\n",
    "#         tmp=(tfidf.transform([row.normalized2]))*row.rating\n",
    "#     if  (i>0) & (row.iid == iid):\n",
    "#         tmp = tmp + (tfidf.transform([row.normalized2]))*row.rating\n",
    "#     if i==0:\n",
    "#         tmp = (tfidf.transform([row.normalized2]))*row.rating\n",
    "#         iid=row.iid\n",
    "#     if i==end_i:\n",
    "#         X_g.append(tmp)\n",
    "#     i+=1"
   ]
  },
  {
   "cell_type": "code",
   "execution_count": 215,
   "metadata": {
    "collapsed": false
   },
   "outputs": [
    {
     "data": {
      "text/plain": [
       "0     installing struggle (because windows live bugs...\n",
       "1     if like rally cars get fun it oriented 34 euro...\n",
       "3     got version instead sony version turned mistak...\n",
       "4     dirt microsoft okay game started playing lapto...\n",
       "5     overall well done racing game good graphics ti...\n",
       "6     loved playing dirt thought graphics good purch...\n",
       "7     cant tell piece dog is like everything else mi...\n",
       "8     initially gave one star crashing constantly re...\n",
       "10     quite finished games dirt tour mode believe i...\n",
       "11    playing car racing since early beginning pc cu...\n",
       "14    crashed vista codemasters told dont support wi...\n",
       "15    this rip off it less terrain less tracks less ...\n",
       "16    in todays market its easy miss racing arent pa...\n",
       "17    this really step dirt 2 better graphics cars s...\n",
       "18    this bug landfirst problems installing require...\n",
       "20    lot people dont like rally already tried gran ...\n",
       "21    would like give stars could get run like other...\n",
       "22    the great games windows live frustrating piece...\n",
       "23    this pretty fun game buy cars tracks online st...\n",
       "24    this must gamer codemasters really hit home ru...\n",
       "Name: normalized2, dtype: object"
      ]
     },
     "execution_count": 215,
     "metadata": {},
     "output_type": "execute_result"
    }
   ],
   "source": [
    "training_df.loc[training_df.iid==0].normalized2"
   ]
  },
  {
   "cell_type": "code",
   "execution_count": 435,
   "metadata": {
    "collapsed": false
   },
   "outputs": [],
   "source": [
    "X_g = []\n",
    "\n",
    "\n",
    "i=0\n",
    "iid=None\n",
    "tmp=[]\n",
    "end_i=(len(training_df.loc[training_df.rating>=5].iid)-1)\n",
    "for iid in iid_nums.iid:\n",
    "    tmp = tfidf.transform(training_df.loc[training_df.iid==iid].normalized3)\n",
    "    X_g.append(tmp.sum(axis=0)) "
   ]
  },
  {
   "cell_type": "code",
   "execution_count": 457,
   "metadata": {
    "collapsed": false
   },
   "outputs": [],
   "source": [
    "i=0\n",
    "for row in X_g:\n",
    "    X_g[i]=csr_matrix(row)\n",
    "    i+=1"
   ]
  },
  {
   "cell_type": "code",
   "execution_count": 459,
   "metadata": {
    "collapsed": false
   },
   "outputs": [
    {
     "data": {
      "text/plain": [
       "(7906, 191419)"
      ]
     },
     "execution_count": 459,
     "metadata": {},
     "output_type": "execute_result"
    }
   ],
   "source": [
    "X_g.shape"
   ]
  },
  {
   "cell_type": "markdown",
   "metadata": {},
   "source": [
    "## Попробуем определить систему клоторой пользуется пользователь (спойлер- не получилось) "
   ]
  },
  {
   "cell_type": "code",
   "execution_count": 327,
   "metadata": {
    "collapsed": true
   },
   "outputs": [],
   "source": [
    "systemdict = {0: 'other', 2: 'microsoft', 2: 'sony', 3: 'nintendo'}"
   ]
  },
  {
   "cell_type": "code",
   "execution_count": 557,
   "metadata": {
    "collapsed": false
   },
   "outputs": [],
   "source": [
    "#iid_nums"
   ]
  },
  {
   "cell_type": "code",
   "execution_count": 452,
   "metadata": {
    "collapsed": true
   },
   "outputs": [],
   "source": [
    "iid_nums['system'] = 0"
   ]
  },
  {
   "cell_type": "code",
   "execution_count": 453,
   "metadata": {
    "collapsed": false
   },
   "outputs": [],
   "source": [
    "sonyiids = list(training_df.loc[training_df.normalized3.str.match('sony') | training_df.normalized3.str.match('ps\\s')].iid)\n",
    "microsoftiids = list(training_df.loc[training_df.normalized3.str.match('microsoft') \n",
    "                                     | training_df.normalized3.str.match('xbox') | training_df.normalized3.str.match('360')].iid)\n",
    "nintendoiids = list(training_df.loc[training_df.normalized3.str.match('nintendo')].iid)"
   ]
  },
  {
   "cell_type": "code",
   "execution_count": 454,
   "metadata": {
    "collapsed": true
   },
   "outputs": [],
   "source": [
    "i=0\n",
    "for iid in iid_nums.iid:\n",
    "    if iid in microsoftiids:\n",
    "        iid_nums.system.iloc[i] = iid_nums.system.iloc[i]+1\n",
    "    if iid in sonyiids:\n",
    "        iid_nums.system.iloc[i] = iid_nums.system.iloc[i]+5        \n",
    "    if iid in nintendoiids:\n",
    "        iid_nums.system.iloc[i] = iid_nums.system.iloc[i]+15    \n",
    "    i=i+1    "
   ]
  },
  {
   "cell_type": "code",
   "execution_count": 455,
   "metadata": {
    "collapsed": false
   },
   "outputs": [],
   "source": [
    "iid_nums.system.loc[(iid_nums.system != 1) & (iid_nums.system != 5) & (iid_nums.system != 15)] = 0"
   ]
  },
  {
   "cell_type": "code",
   "execution_count": 456,
   "metadata": {
    "collapsed": false
   },
   "outputs": [
    {
     "data": {
      "text/plain": [
       "<matplotlib.axes._subplots.AxesSubplot at 0x6d887da0>"
      ]
     },
     "execution_count": 456,
     "metadata": {},
     "output_type": "execute_result"
    },
    {
     "data": {
      "image/png": "[encoded data removed]",
      "text/plain": [
       "<matplotlib.figure.Figure at 0x6aa8d208>"
      ]
     },
     "metadata": {},
     "output_type": "display_data"
    }
   ],
   "source": [
    "iid_nums.loc[iid_nums.system != 0].system.hist()"
   ]
  },
  {
   "cell_type": "code",
   "execution_count": 439,
   "metadata": {
    "collapsed": false
   },
   "outputs": [],
   "source": [
    "#training_df.loc[].normalized3"
   ]
  },
  {
   "cell_type": "code",
   "execution_count": 460,
   "metadata": {
    "collapsed": false
   },
   "outputs": [],
   "source": [
    "# X_g_neg = []\n",
    "# y_g_neg = []\n",
    "# i=0\n",
    "# iid=None\n",
    "# tmp=[]\n",
    "# end_i=(len(training_df.loc[training_df.rating <=3].iid)-1)\n",
    "# for row in training_df.loc[training_df.rating <=3].itertuples():\n",
    "        \n",
    "#     if (i>0) & (row.iid != iid):\n",
    "#         X_g_neg.append(tmp)\n",
    "#         iid=row.iid\n",
    "#         tmp=(tfidf.transform([row.review]))*row.rating\n",
    "#     if  (i>0) & (row.iid == iid):\n",
    "#         tmp = tmp + (tfidf.transform([row.review]))*row.rating\n",
    "#     if i==0:\n",
    "#         tmp = (tfidf.transform([row.review]))*row.rating\n",
    "#         iid=row.iid\n",
    "#     if i==end_i:\n",
    "#         X_g_neg.append(tmp)\n",
    "#     i+=1"
   ]
  },
  {
   "cell_type": "code",
   "execution_count": 458,
   "metadata": {
    "collapsed": false
   },
   "outputs": [],
   "source": [
    "\n",
    "X_g = vstack(X_g, 'csr')"
   ]
  },
  {
   "cell_type": "raw",
   "metadata": {
    "collapsed": true
   },
   "source": [
    "X_g = [] #Очищенная матрица игр\n",
    "\n",
    "i=0\n",
    "iid=None\n",
    "tmp=[]\n",
    "end_i=(len(training_df.loc[training_df.rating>=5].iid)-1)\n",
    "for iid in iid_nums.iid:\n",
    "    tmp = tfidf.transform(training_df.loc[training_df.iid==iid].normalized3)\n",
    "    X_g.append(tmp.sum(axis=0))\n"
   ]
  },
  {
   "cell_type": "raw",
   "metadata": {
    "collapsed": true
   },
   "source": [
    "X_g_file=open('X_g2', 'wb')\n",
    "pickle.dump(X_g, X_g_file)\n",
    "X_g_file.close()"
   ]
  },
  {
   "cell_type": "raw",
   "metadata": {
    "collapsed": false
   },
   "source": [
    "X_g_file=open('X_g2', 'rb')\n",
    "X_g = pickle.load( X_g_file)\n",
    "X_g_file.close()"
   ]
  },
  {
   "cell_type": "raw",
   "metadata": {},
   "source": [
    "X_g_file=open('X_g_neg', 'wb')\n",
    "pickle.dump(X_g_neg, X_g_file)\n",
    "X_g_file.close()"
   ]
  },
  {
   "cell_type": "raw",
   "metadata": {},
   "source": [
    "X_g_file=open('X_g_neg', 'rb')\n",
    "X_g_neg = pickle.load(X_g_file)\n",
    "X_g_file.close()"
   ]
  },
  {
   "cell_type": "code",
   "execution_count": 61,
   "metadata": {
    "collapsed": true
   },
   "outputs": [],
   "source": [
    "X_g_file=open('tfidf', 'wb')\n",
    "pickle.dump(tfidf, X_g_file)\n",
    "X_g_file.close()"
   ]
  },
  {
   "cell_type": "raw",
   "metadata": {},
   "source": [
    "tfidf_file=open('tfidf', 'rb')\n",
    "tfidf = pickle.load(tfidf_file)\n",
    "tfidf_file.close()"
   ]
  },
  {
   "cell_type": "raw",
   "metadata": {},
   "source": [
    "X_u_file=open('X_u', 'rb')\n",
    "X_u = pickle.load(X_u_file)\n",
    "X_u_file.close()"
   ]
  },
  {
   "cell_type": "raw",
   "metadata": {},
   "source": [
    "df_file=open('training_df2', 'rb')\n",
    "training_df2 = pickle.load(df_file)\n",
    "df_file.close()"
   ]
  },
  {
   "cell_type": "code",
   "execution_count": 38,
   "metadata": {
    "collapsed": true
   },
   "outputs": [],
   "source": [
    "training_df['normalized3'] = training_df2.normalized3"
   ]
  },
  {
   "cell_type": "code",
   "execution_count": 477,
   "metadata": {
    "collapsed": true
   },
   "outputs": [],
   "source": [
    "training_df['system'] = 0"
   ]
  },
  {
   "cell_type": "code",
   "execution_count": 479,
   "metadata": {
    "collapsed": false
   },
   "outputs": [],
   "source": [
    "sony_bool_list=training_df.normalized3.str.match('sony') | training_df.normalized3.str.match('ps\\s')"
   ]
  },
  {
   "cell_type": "code",
   "execution_count": 481,
   "metadata": {
    "collapsed": false
   },
   "outputs": [],
   "source": [
    "microsoft_bool_list = training_df.normalized3.str.match('microsoft') \\\n",
    "                                     | training_df.normalized3.str.match('xbox') | training_df.normalized3.str.match('360')"
   ]
  },
  {
   "cell_type": "code",
   "execution_count": 482,
   "metadata": {
    "collapsed": true
   },
   "outputs": [],
   "source": [
    "nintendo_bool_list = training_df.normalized3.str.match('nintendo')"
   ]
  },
  {
   "cell_type": "code",
   "execution_count": null,
   "metadata": {
    "collapsed": true
   },
   "outputs": [],
   "source": []
  },
  {
   "cell_type": "code",
   "execution_count": 483,
   "metadata": {
    "collapsed": false
   },
   "outputs": [],
   "source": [
    "training_df.loc[sony_bool_list, 'system'] = training_df.loc[sony_bool_list, 'system'] + 5\n",
    "training_df.loc[microsoft_bool_list, 'system'] = training_df.loc[microsoft_bool_list, 'system'] +  1\n",
    "training_df.loc[nintendo_bool_list, 'system'] =  training_df.loc[nintendo_bool_list, 'system'] + 15"
   ]
  },
  {
   "cell_type": "code",
   "execution_count": 485,
   "metadata": {
    "collapsed": false
   },
   "outputs": [],
   "source": [
    "training_df.loc[(training_df.system != 1) & (training_df.system != 5) & (training_df.system != 15)] = 0"
   ]
  },
  {
   "cell_type": "code",
   "execution_count": 488,
   "metadata": {
    "collapsed": false
   },
   "outputs": [
    {
     "data": {
      "text/plain": [
       "<matplotlib.axes._subplots.AxesSubplot at 0x587d0c18>"
      ]
     },
     "execution_count": 488,
     "metadata": {},
     "output_type": "execute_result"
    },
    {
     "data": {
      "image/png": "[encoded data removed]",
      "text/plain": [
       "<matplotlib.figure.Figure at 0x6a317e10>"
      ]
     },
     "metadata": {},
     "output_type": "display_data"
    }
   ],
   "source": [
    "training_df.groupby('iid').system.mean().hist()"
   ]
  },
  {
   "cell_type": "code",
   "execution_count": 489,
   "metadata": {
    "collapsed": false
   },
   "outputs": [
    {
     "data": {
      "text/plain": [
       "<matplotlib.axes._subplots.AxesSubplot at 0x6c400668>"
      ]
     },
     "execution_count": 489,
     "metadata": {},
     "output_type": "execute_result"
    },
    {
     "data": {
      "image/png": "[encoded data removed]",
      "text/plain": [
       "<matplotlib.figure.Figure at 0x6ccd5588>"
      ]
     },
     "metadata": {},
     "output_type": "display_data"
    }
   ],
   "source": [
    "training_df.groupby('uid').system.mean().hist()"
   ]
  },
  {
   "cell_type": "code",
   "execution_count": 60,
   "metadata": {
    "collapsed": true
   },
   "outputs": [],
   "source": []
  },
  {
   "cell_type": "code",
   "execution_count": 61,
   "metadata": {
    "collapsed": false
   },
   "outputs": [
    {
     "ename": "AttributeError",
     "evalue": "'DataFrame' object has no attribute 'system'",
     "output_type": "error",
     "traceback": [
      "\u001b[1;31m---------------------------------------------------------------------------\u001b[0m",
      "\u001b[1;31mAttributeError\u001b[0m                            Traceback (most recent call last)",
      "\u001b[1;32m<ipython-input-61-123df24aa0bd>\u001b[0m in \u001b[0;36m<module>\u001b[1;34m()\u001b[0m\n\u001b[1;32m----> 1\u001b[1;33m \u001b[0mtraining_df\u001b[0m\u001b[1;33m[\u001b[0m\u001b[1;34m'system'\u001b[0m\u001b[1;33m]\u001b[0m \u001b[1;33m=\u001b[0m \u001b[0mtraining_df2\u001b[0m\u001b[1;33m.\u001b[0m\u001b[0msystem\u001b[0m\u001b[1;33m\u001b[0m\u001b[0m\n\u001b[0m",
      "\u001b[1;32mD:\\distr\\anaconda\\lib\\site-packages\\pandas\\core\\generic.py\u001b[0m in \u001b[0;36m__getattr__\u001b[1;34m(self, name)\u001b[0m\n\u001b[0;32m   3079\u001b[0m             \u001b[1;32mif\u001b[0m \u001b[0mname\u001b[0m \u001b[1;32min\u001b[0m \u001b[0mself\u001b[0m\u001b[1;33m.\u001b[0m\u001b[0m_info_axis\u001b[0m\u001b[1;33m:\u001b[0m\u001b[1;33m\u001b[0m\u001b[0m\n\u001b[0;32m   3080\u001b[0m                 \u001b[1;32mreturn\u001b[0m \u001b[0mself\u001b[0m\u001b[1;33m[\u001b[0m\u001b[0mname\u001b[0m\u001b[1;33m]\u001b[0m\u001b[1;33m\u001b[0m\u001b[0m\n\u001b[1;32m-> 3081\u001b[1;33m             \u001b[1;32mreturn\u001b[0m \u001b[0mobject\u001b[0m\u001b[1;33m.\u001b[0m\u001b[0m__getattribute__\u001b[0m\u001b[1;33m(\u001b[0m\u001b[0mself\u001b[0m\u001b[1;33m,\u001b[0m \u001b[0mname\u001b[0m\u001b[1;33m)\u001b[0m\u001b[1;33m\u001b[0m\u001b[0m\n\u001b[0m\u001b[0;32m   3082\u001b[0m \u001b[1;33m\u001b[0m\u001b[0m\n\u001b[0;32m   3083\u001b[0m     \u001b[1;32mdef\u001b[0m \u001b[0m__setattr__\u001b[0m\u001b[1;33m(\u001b[0m\u001b[0mself\u001b[0m\u001b[1;33m,\u001b[0m \u001b[0mname\u001b[0m\u001b[1;33m,\u001b[0m \u001b[0mvalue\u001b[0m\u001b[1;33m)\u001b[0m\u001b[1;33m:\u001b[0m\u001b[1;33m\u001b[0m\u001b[0m\n",
      "\u001b[1;31mAttributeError\u001b[0m: 'DataFrame' object has no attribute 'system'"
     ]
    }
   ],
   "source": [
    "training_df['system'] = training_df2.system"
   ]
  },
  {
   "cell_type": "code",
   "execution_count": 632,
   "metadata": {
    "collapsed": true
   },
   "outputs": [],
   "source": [
    "uid_system = training_df.groupby('uid').system.max()"
   ]
  },
  {
   "cell_type": "code",
   "execution_count": 633,
   "metadata": {
    "collapsed": false
   },
   "outputs": [
    {
     "data": {
      "text/plain": [
       "22215"
      ]
     },
     "execution_count": 633,
     "metadata": {},
     "output_type": "execute_result"
    }
   ],
   "source": [
    "len(uid_system)"
   ]
  },
  {
   "cell_type": "code",
   "execution_count": 623,
   "metadata": {
    "collapsed": true
   },
   "outputs": [],
   "source": [
    "uid_system=uid_system.reset_index()"
   ]
  },
  {
   "cell_type": "code",
   "execution_count": 630,
   "metadata": {
    "collapsed": false
   },
   "outputs": [
    {
     "data": {
      "text/html": [
       "<div>\n",
       "<style>\n",
       "    .dataframe thead tr:only-child th {\n",
       "        text-align: right;\n",
       "    }\n",
       "\n",
       "    .dataframe thead th {\n",
       "        text-align: left;\n",
       "    }\n",
       "\n",
       "    .dataframe tbody tr th {\n",
       "        vertical-align: top;\n",
       "    }\n",
       "</style>\n",
       "<table border=\"1\" class=\"dataframe\">\n",
       "  <thead>\n",
       "    <tr style=\"text-align: right;\">\n",
       "      <th></th>\n",
       "      <th>uid</th>\n",
       "      <th>system</th>\n",
       "    </tr>\n",
       "  </thead>\n",
       "  <tbody>\n",
       "    <tr>\n",
       "      <th>0</th>\n",
       "      <td>0</td>\n",
       "      <td>0</td>\n",
       "    </tr>\n",
       "    <tr>\n",
       "      <th>1</th>\n",
       "      <td>1</td>\n",
       "      <td>0</td>\n",
       "    </tr>\n",
       "    <tr>\n",
       "      <th>2</th>\n",
       "      <td>2</td>\n",
       "      <td>0</td>\n",
       "    </tr>\n",
       "    <tr>\n",
       "      <th>3</th>\n",
       "      <td>3</td>\n",
       "      <td>1</td>\n",
       "    </tr>\n",
       "    <tr>\n",
       "      <th>4</th>\n",
       "      <td>4</td>\n",
       "      <td>0</td>\n",
       "    </tr>\n",
       "  </tbody>\n",
       "</table>\n",
       "</div>"
      ],
      "text/plain": [
       "   uid  system\n",
       "0    0       0\n",
       "1    1       0\n",
       "2    2       0\n",
       "3    3       1\n",
       "4    4       0"
      ]
     },
     "execution_count": 630,
     "metadata": {},
     "output_type": "execute_result"
    }
   ],
   "source": [
    "uid_system.head()"
   ]
  },
  {
   "cell_type": "code",
   "execution_count": 625,
   "metadata": {
    "collapsed": true
   },
   "outputs": [],
   "source": [
    "microsoft_uids = list(training_df.loc[microsoft_bool_list].uid)\n",
    "sony_uids = list(training_df[sony_bool_list].uid)\n",
    "nintendo_uids = list(training_df[nintendo_bool_list].uid)"
   ]
  },
  {
   "cell_type": "code",
   "execution_count": 626,
   "metadata": {
    "collapsed": false
   },
   "outputs": [
    {
     "data": {
      "text/plain": [
       "238"
      ]
     },
     "execution_count": 626,
     "metadata": {},
     "output_type": "execute_result"
    }
   ],
   "source": [
    "len(sony_uids)"
   ]
  },
  {
   "cell_type": "code",
   "execution_count": 627,
   "metadata": {
    "collapsed": true
   },
   "outputs": [],
   "source": [
    "uid_nums['system'] =0"
   ]
  },
  {
   "cell_type": "code",
   "execution_count": 628,
   "metadata": {
    "collapsed": false
   },
   "outputs": [],
   "source": [
    "i=0\n",
    "for uid in list(uid_nums.uid):\n",
    "    if uid in list(uid_system.uid):\n",
    "        uid_nums.system.iloc[i] =  list(uid_system.loc[uid_system.uid==uid].system)[0]\n",
    "    i=i+1         "
   ]
  },
  {
   "cell_type": "code",
   "execution_count": 372,
   "metadata": {
    "collapsed": false
   },
   "outputs": [
    {
     "ename": "AttributeError",
     "evalue": "'DataFrame' object has no attribute 'system'",
     "output_type": "error",
     "traceback": [
      "\u001b[1;31m---------------------------------------------------------------------------\u001b[0m",
      "\u001b[1;31mAttributeError\u001b[0m                            Traceback (most recent call last)",
      "\u001b[1;32m<ipython-input-372-2079d914aae8>\u001b[0m in \u001b[0;36m<module>\u001b[1;34m()\u001b[0m\n\u001b[1;32m----> 1\u001b[1;33m \u001b[0muid_nums\u001b[0m\u001b[1;33m.\u001b[0m\u001b[0mloc\u001b[0m\u001b[1;33m[\u001b[0m\u001b[0muid_nums\u001b[0m\u001b[1;33m.\u001b[0m\u001b[0msystem\u001b[0m\u001b[1;33m!=\u001b[0m\u001b[1;36m0\u001b[0m\u001b[1;33m]\u001b[0m\u001b[1;33m.\u001b[0m\u001b[0msystem\u001b[0m\u001b[1;33m.\u001b[0m\u001b[0mhist\u001b[0m\u001b[1;33m(\u001b[0m\u001b[1;33m)\u001b[0m\u001b[1;33m\u001b[0m\u001b[0m\n\u001b[0m",
      "\u001b[1;32mD:\\distr\\anaconda\\lib\\site-packages\\pandas\\core\\generic.py\u001b[0m in \u001b[0;36m__getattr__\u001b[1;34m(self, name)\u001b[0m\n\u001b[0;32m   3079\u001b[0m             \u001b[1;32mif\u001b[0m \u001b[0mname\u001b[0m \u001b[1;32min\u001b[0m \u001b[0mself\u001b[0m\u001b[1;33m.\u001b[0m\u001b[0m_info_axis\u001b[0m\u001b[1;33m:\u001b[0m\u001b[1;33m\u001b[0m\u001b[0m\n\u001b[0;32m   3080\u001b[0m                 \u001b[1;32mreturn\u001b[0m \u001b[0mself\u001b[0m\u001b[1;33m[\u001b[0m\u001b[0mname\u001b[0m\u001b[1;33m]\u001b[0m\u001b[1;33m\u001b[0m\u001b[0m\n\u001b[1;32m-> 3081\u001b[1;33m             \u001b[1;32mreturn\u001b[0m \u001b[0mobject\u001b[0m\u001b[1;33m.\u001b[0m\u001b[0m__getattribute__\u001b[0m\u001b[1;33m(\u001b[0m\u001b[0mself\u001b[0m\u001b[1;33m,\u001b[0m \u001b[0mname\u001b[0m\u001b[1;33m)\u001b[0m\u001b[1;33m\u001b[0m\u001b[0m\n\u001b[0m\u001b[0;32m   3082\u001b[0m \u001b[1;33m\u001b[0m\u001b[0m\n\u001b[0;32m   3083\u001b[0m     \u001b[1;32mdef\u001b[0m \u001b[0m__setattr__\u001b[0m\u001b[1;33m(\u001b[0m\u001b[0mself\u001b[0m\u001b[1;33m,\u001b[0m \u001b[0mname\u001b[0m\u001b[1;33m,\u001b[0m \u001b[0mvalue\u001b[0m\u001b[1;33m)\u001b[0m\u001b[1;33m:\u001b[0m\u001b[1;33m\u001b[0m\u001b[0m\n",
      "\u001b[1;31mAttributeError\u001b[0m: 'DataFrame' object has no attribute 'system'"
     ]
    }
   ],
   "source": [
    "uid_nums.loc[uid_nums.system!=0].system.hist()\n",
    "#попытка вычислить систему для пользователя провалилась, т.к. в разрезе пользователей у большинства найти не удалось, \n",
    "# да и в разрезе item максимум 300 "
   ]
  },
  {
   "cell_type": "code",
   "execution_count": 62,
   "metadata": {
    "collapsed": false
   },
   "outputs": [
    {
     "data": {
      "text/plain": [
       "(7906, 191419)"
      ]
     },
     "execution_count": 62,
     "metadata": {},
     "output_type": "execute_result"
    }
   ],
   "source": [
    "X_g.shape"
   ]
  },
  {
   "cell_type": "code",
   "execution_count": 646,
   "metadata": {
    "collapsed": false
   },
   "outputs": [
    {
     "name": "stderr",
     "output_type": "stream",
     "text": [
      "  0%|                                                                                                                                           | 0/2 [00:00<?, ?it/s]D:\\distr\\anaconda\\lib\\site-packages\\scipy\\sparse\\compressed.py:774: SparseEfficiencyWarning: Changing the sparsity structure of a csr_matrix is expensive. lil_matrix is more efficient.\n",
      "  SparseEfficiencyWarning)\n",
      "100%|███████████████████████████████████████████████████████████████████████████████████████████████████████████████████████████████████| 2/2 [00:56<00:00, 27.10s/it]\n"
     ]
    }
   ],
   "source": [
    "# Слишком медленно\n",
    "# X_u = []\n",
    "# iids_u  = []\n",
    "\n",
    "# for uid in tqdm(uid_nums.uid.loc[:2]):\n",
    "#     tmp=csr_matrix((X_g.shape[1],X_g.shape[0]))    \n",
    "#     iids_u = list(training_df.loc[training_df.uid==uid].iid.unique())\n",
    "#     j=0\n",
    "#     for iid2 in iid_nums.iid:\n",
    "#         if iid2 in iids_u:\n",
    "#             tmp[:,j] = 1\n",
    "#         j=j+1\n",
    "#     tmp2 = X_g.multiply(tmp.T)    \n",
    "#     X_u.append(tmp2.sum(axis=0))\n",
    "#     tmp=None\n",
    "#     tmp2=None"
   ]
  },
  {
   "cell_type": "markdown",
   "metadata": {},
   "source": [
    "## Вектора пользователей разными методами"
   ]
  },
  {
   "cell_type": "raw",
   "metadata": {
    "collapsed": false
   },
   "source": [
    "X_u = []\n",
    "iids_u  = []\n",
    "\n",
    "for uid in tqdm(uid_nums.uid):\n",
    "    tmp=[]   \n",
    "    iids_u = training_df.loc[training_df.uid==uid].iid.unique()\n",
    "    j=0\n",
    "    for iid2 in iid_nums.iid:\n",
    "        if iid2 in iids_u:\n",
    "            tmp.append(X_g[j,:])\n",
    "        j=j+1\n",
    "    tmp = vstack(tmp, 'csr')\n",
    "    X_u.append(tmp.sum(axis=0))"
   ]
  },
  {
   "cell_type": "code",
   "execution_count": 410,
   "metadata": {
    "collapsed": false
   },
   "outputs": [
    {
     "data": {
      "text/html": [
       "<div>\n",
       "<style>\n",
       "    .dataframe thead tr:only-child th {\n",
       "        text-align: right;\n",
       "    }\n",
       "\n",
       "    .dataframe thead th {\n",
       "        text-align: left;\n",
       "    }\n",
       "\n",
       "    .dataframe tbody tr th {\n",
       "        vertical-align: top;\n",
       "    }\n",
       "</style>\n",
       "<table border=\"1\" class=\"dataframe\">\n",
       "  <thead>\n",
       "    <tr style=\"text-align: right;\">\n",
       "      <th></th>\n",
       "      <th>uid</th>\n",
       "      <th>iid</th>\n",
       "      <th>review</th>\n",
       "      <th>rating</th>\n",
       "      <th>dt</th>\n",
       "      <th>normalized3</th>\n",
       "    </tr>\n",
       "  </thead>\n",
       "  <tbody>\n",
       "    <tr>\n",
       "      <th>0</th>\n",
       "      <td>0</td>\n",
       "      <td>0</td>\n",
       "      <td>Installing the game was a struggle (because of...</td>\n",
       "      <td>1.0</td>\n",
       "      <td>1341792000</td>\n",
       "      <td>instal struggle ( because window live bug ) so...</td>\n",
       "    </tr>\n",
       "    <tr>\n",
       "      <th>1</th>\n",
       "      <td>1</td>\n",
       "      <td>0</td>\n",
       "      <td>If you like rally cars get this game you will ...</td>\n",
       "      <td>4.0</td>\n",
       "      <td>1372550400</td>\n",
       "      <td>if like rally car get fun orient 34 european m...</td>\n",
       "    </tr>\n",
       "    <tr>\n",
       "      <th>3</th>\n",
       "      <td>3</td>\n",
       "      <td>0</td>\n",
       "      <td>I got this version instead of the PS3 version,...</td>\n",
       "      <td>3.0</td>\n",
       "      <td>1315958400</td>\n",
       "      <td>get version instead sony version turn mistake ...</td>\n",
       "    </tr>\n",
       "  </tbody>\n",
       "</table>\n",
       "</div>"
      ],
      "text/plain": [
       "   uid  iid                                             review  rating  \\\n",
       "0    0    0  Installing the game was a struggle (because of...     1.0   \n",
       "1    1    0  If you like rally cars get this game you will ...     4.0   \n",
       "3    3    0  I got this version instead of the PS3 version,...     3.0   \n",
       "\n",
       "           dt                                        normalized3  \n",
       "0  1341792000  instal struggle ( because window live bug ) so...  \n",
       "1  1372550400  if like rally car get fun orient 34 european m...  \n",
       "3  1315958400  get version instead sony version turn mistake ...  "
      ]
     },
     "execution_count": 410,
     "metadata": {},
     "output_type": "execute_result"
    }
   ],
   "source": [
    "training_df.head(3)"
   ]
  },
  {
   "cell_type": "code",
   "execution_count": 454,
   "metadata": {
    "collapsed": false
   },
   "outputs": [
    {
     "data": {
      "text/plain": [
       "1"
      ]
     },
     "execution_count": 454,
     "metadata": {},
     "output_type": "execute_result"
    }
   ],
   "source": [
    "len(training_df.loc[(training_df.iid==3760) &(training_df.uid == 2)])"
   ]
  },
  {
   "cell_type": "code",
   "execution_count": 462,
   "metadata": {
    "collapsed": false
   },
   "outputs": [
    {
     "data": {
      "text/plain": [
       "1"
      ]
     },
     "execution_count": 462,
     "metadata": {},
     "output_type": "execute_result"
    }
   ],
   "source": [
    "training_df.loc[(training_df.iid==3760) &(training_df.uid == 2)].rating.values[0]"
   ]
  },
  {
   "cell_type": "code",
   "execution_count": 62,
   "metadata": {
    "collapsed": false
   },
   "outputs": [
    {
     "name": "stderr",
     "output_type": "stream",
     "text": [
      "100%|███████████████████████████████████████████████████████████████████████████████████████████████████████████████████████████| 6815/6815 [3:23:42<00:00,  1.10it/s]\n"
     ]
    }
   ],
   "source": [
    "X_u2 = []\n",
    "X_u3 = []\n",
    "iids_u  = []\n",
    "rating = 1\n",
    "\n",
    "for uid in tqdm(test_df.uid.unique()):\n",
    "    tmp=[]   \n",
    "    tmp2=[]    \n",
    "    iids_u = training_df.loc[training_df.uid==uid].iid.unique()\n",
    "    j=0\n",
    "    for iid2 in iids_u:\n",
    "        if len(training_df.loc[(training_df.iid==iid2) &(training_df.uid == uid)])>0:\n",
    "            rating = training_df.loc[(training_df.iid==iid2) &(training_df.uid == uid)].rating.values[0].astype(int)\n",
    "        else :\n",
    "            rating = 1\n",
    "        tmp.append( tfidf.transform(training_df.loc[training_df.iid==iid2].normalized3))\n",
    "        tmp2.append( tfidf.transform(training_df.loc[training_df.iid==iid2].normalized3) * rating)        \n",
    "        j=j+1\n",
    "    i=0\n",
    "    for row in tmp:\n",
    "        tmp[i]=csr_matrix(row)\n",
    "        i+=1   \n",
    "    i=0\n",
    "    for row in tmp2:\n",
    "        tmp2[i]=csr_matrix(row)\n",
    "        i+=1  \n",
    "        tmp = vstack(tmp, 'csr')\n",
    "    X_u2.append(tmp.sum(axis=0))\n",
    "    X_u3.append(tmp.sum(axis=0))"
   ]
  },
  {
   "cell_type": "code",
   "execution_count": 63,
   "metadata": {
    "collapsed": false
   },
   "outputs": [],
   "source": [
    "i=0\n",
    "for row in X_u2:\n",
    "    X_u2[i]=csr_matrix(row)\n",
    "    i+=1"
   ]
  },
  {
   "cell_type": "code",
   "execution_count": 64,
   "metadata": {
    "collapsed": true
   },
   "outputs": [],
   "source": [
    "i=0\n",
    "for row in X_u3:\n",
    "    X_u3[i]=csr_matrix(row)\n",
    "    i+=1"
   ]
  },
  {
   "cell_type": "code",
   "execution_count": 65,
   "metadata": {
    "collapsed": true
   },
   "outputs": [],
   "source": [
    "X_u2=vstack(X_u2, 'csr')"
   ]
  },
  {
   "cell_type": "code",
   "execution_count": 66,
   "metadata": {
    "collapsed": true
   },
   "outputs": [],
   "source": [
    "X_u3=vstack(X_u3, 'csr')"
   ]
  },
  {
   "cell_type": "code",
   "execution_count": 67,
   "metadata": {
    "collapsed": false
   },
   "outputs": [
    {
     "data": {
      "text/plain": [
       "(6815, 191419)"
      ]
     },
     "execution_count": 67,
     "metadata": {},
     "output_type": "execute_result"
    }
   ],
   "source": [
    "X_u3.shape"
   ]
  },
  {
   "cell_type": "raw",
   "metadata": {
    "collapsed": true
   },
   "source": [
    "file = open('X_u_2', 'wb')\n",
    "pickle.dump(X_u2, file)\n",
    "file.close()"
   ]
  },
  {
   "cell_type": "raw",
   "metadata": {
    "collapsed": true
   },
   "source": [
    "file = open('X_u_3', 'wb')\n",
    "pickle.dump(X_u3, file)\n",
    "file.close()"
   ]
  },
  {
   "cell_type": "raw",
   "metadata": {},
   "source": [
    "file = open('X_u_onlyiidlist_alliid_norating', 'wb')\n",
    "pickle.dump(X_u, file)\n",
    "file.close()"
   ]
  },
  {
   "cell_type": "markdown",
   "metadata": {},
   "source": [
    "## Предсказания"
   ]
  },
  {
   "cell_type": "code",
   "execution_count": 78,
   "metadata": {
    "collapsed": false
   },
   "outputs": [],
   "source": [
    "class ContentBased_ByCos(BasicRecommender):\n",
    "    def __init__(self, top, iidlist, uidlist):\n",
    "        self.top=top\n",
    "        self.iidlist=iidlist\n",
    "        self.uidlist=uidlist\n",
    "        self.npuids = np.array(uidlist.uid)\n",
    "#        self.recs = self._prepare_recs(df)\n",
    "    def fit_warm(self,itemsprof, df, userprofile,testdf):\n",
    "        self.itemsprof = normalize(itemsprof)\n",
    "        self.userprofile = normalize(userprofile)\n",
    "        self.df = df\n",
    "        self.recs = self._prepare_recs(df)\n",
    "        self.npuids = np.array(testdf.uid.unique())\n",
    "    def user_profile(self,uid, b,c):\n",
    "        X_u = []\n",
    "        iid_list =  training_df.loc[(training_df.uid) == uid & (training_df.rating>=4)].groupby('iid').rating.mean()\n",
    "        iid_list = iid_list.reset_index()   \n",
    "        self.iid_list = iid_list     \n",
    "        X_u_neg = []\n",
    "        i=0\n",
    "\n",
    "        \n",
    "        for iid in iid_list.itertuples():\n",
    "            for row in training_df.loc[(training_df.iid == iid.iid )].itertuples():\n",
    "                X_u.append((tfidf.transform([row.normalized3])))\n",
    "\n",
    "        ii=0\n",
    "        for row in X_u:\n",
    "            X_u[ii]=csr_matrix(row)\n",
    "            ii+=1\n",
    "\n",
    "        X_u = vstack(X_u, 'csr')\n",
    "        X_u = X_u.sum(axis=0)\n",
    "\n",
    "#        return b*X_u - c*X_u_neg  #Ухудшает качество\n",
    "        return X_u \n",
    "    \n",
    "    def _prepare_recs(self, df):\n",
    "        # считаем количество отзывов для каждого объекта (pandas сортирует их по убыванию)\n",
    "        return df[(df.dt>=1280865972) & (df.rating==5)].iid.value_counts()\n",
    "    \n",
    "    def get_recs(self, uid ,b ,c):\n",
    "#         if len(self.df.loc[(self.df.uid == uid) & (self.df.rating>=4)])==0:\n",
    "# #            return self.recs[:self.top].to_dict()\n",
    "#             return {}\n",
    "\n",
    "#         if uid in self.npuids:\n",
    "# #            return self.recs[:self.top].to_dict()\n",
    "        X_u=self.userprofile[np.nonzero(self.npuids==uid)[0][0],:]  \n",
    "#         else:\n",
    "#             X_u = normalize(self.user_profile(uid, b, c))\n",
    "        \n",
    "  \n",
    "        \n",
    "        u_iid_list =  training_df.loc[(training_df.uid == uid)].groupby('iid').rating.mean()\n",
    "        u_iid_list = u_iid_list.reset_index()   \n",
    "        \n",
    "        res = self.itemsprof.dot(X_u.T)\n",
    "        if uid in self.npuids:\n",
    "             res=res.todense() \n",
    "\n",
    "        shape0=len(self.iidlist.iid)\n",
    "        res = np.hstack((self.iidlist.iid.values.reshape(7906, 1),res))\n",
    "        res = pd.DataFrame(res, columns=['iid','cos'])\n",
    "\n",
    "        \n",
    "        res.iid=res.iid.astype(int)\n",
    "        dropiid = [c for c in list(u_iid_list.iid) if c in list(res.iid)]\n",
    "        for iid in dropiid:\n",
    "            res = res.loc[res.iid != iid]      \n",
    "        \n",
    "        res=res.sort_values('cos', ascending=False).iid.unique()[:self.top]\n",
    "        res= pd.Series(res)\n",
    "        #res = res.iid.as_type(int)\n",
    "        res=res.value_counts()  \n",
    "        return res.to_dict() \n",
    "    def get_batch_recs(self, uids):\n",
    "        #non_pers_recs = self.get_recs(None)\n",
    "        return {uid: self.get_recs(uid) for uid in uids}"
   ]
  },
  {
   "cell_type": "code",
   "execution_count": 79,
   "metadata": {
    "collapsed": false
   },
   "outputs": [],
   "source": [
    "cb_cos=ContentBased_ByCos(10, iid_nums, uid_nums)"
   ]
  },
  {
   "cell_type": "code",
   "execution_count": 80,
   "metadata": {
    "collapsed": false
   },
   "outputs": [
    {
     "data": {
      "text/plain": [
       "(6815, 191419)"
      ]
     },
     "execution_count": 80,
     "metadata": {},
     "output_type": "execute_result"
    }
   ],
   "source": [
    "X_u3.shape"
   ]
  },
  {
   "cell_type": "code",
   "execution_count": 81,
   "metadata": {
    "collapsed": false
   },
   "outputs": [
    {
     "data": {
      "text/plain": [
       "(7906, 191419)"
      ]
     },
     "execution_count": 81,
     "metadata": {},
     "output_type": "execute_result"
    }
   ],
   "source": [
    "X_g.shape"
   ]
  },
  {
   "cell_type": "code",
   "execution_count": 89,
   "metadata": {
    "collapsed": false
   },
   "outputs": [],
   "source": [
    "#cb_cos.fit_warm(X_g,training_df, review_tf)\n",
    "cb_cos.fit_warm(X_g,training_df, X_u3, test_df)"
   ]
  },
  {
   "cell_type": "code",
   "execution_count": 90,
   "metadata": {
    "collapsed": false
   },
   "outputs": [
    {
     "name": "stdout",
     "output_type": "stream",
     "text": [
      "Wall time: 132 ms\n"
     ]
    },
    {
     "data": {
      "text/plain": [
       "{2969: 1,\n",
       " 3938: 1,\n",
       " 4331: 1,\n",
       " 4335: 1,\n",
       " 6964: 1,\n",
       " 8310: 1,\n",
       " 8356: 1,\n",
       " 8559: 1,\n",
       " 9114: 1,\n",
       " 9944: 1}"
      ]
     },
     "execution_count": 90,
     "metadata": {},
     "output_type": "execute_result"
    }
   ],
   "source": [
    "%%time\n",
    "cb_cos.get_recs(39,4,1)"
   ]
  },
  {
   "cell_type": "code",
   "execution_count": 91,
   "metadata": {
    "collapsed": false
   },
   "outputs": [
    {
     "name": "stderr",
     "output_type": "stream",
     "text": [
      "100%|█████████████████████████████████████████████████████████████████████████████████████████████████████████████████████████████| 6815/6815 [08:09<00:00, 12.81it/s]\n"
     ]
    },
    {
     "name": "stdout",
     "output_type": "stream",
     "text": [
      "Wall time: 8min 9s\n"
     ]
    }
   ],
   "source": [
    "%%time\n",
    "train_dict_cb ={}\n",
    "for uid in tqdm(list(test_df.uid.unique())):\n",
    "    train_dict_cb[uid] = cb_cos.get_recs(uid, 3, 1)"
   ]
  },
  {
   "cell_type": "code",
   "execution_count": 369,
   "metadata": {
    "collapsed": false
   },
   "outputs": [],
   "source": [
    "#cb_cos_recs =cb_cos.get_batch_recs(list(test_df.uid.unique())"
   ]
  },
  {
   "cell_type": "code",
   "execution_count": 370,
   "metadata": {
    "collapsed": false
   },
   "outputs": [
    {
     "data": {
      "text/plain": [
       "0.05385179750550257"
      ]
     },
     "execution_count": 370,
     "metadata": {},
     "output_type": "execute_result"
    }
   ],
   "source": [
    "hit_ratio(recs_dict=train_dict_cb, test_dict=test_dict) # user profile only this user review with ratings"
   ]
  },
  {
   "cell_type": "code",
   "execution_count": 251,
   "metadata": {
    "collapsed": false
   },
   "outputs": [
    {
     "data": {
      "text/plain": [
       "0.08451944240645634"
      ]
     },
     "execution_count": 251,
     "metadata": {},
     "output_type": "execute_result"
    }
   ],
   "source": [
    "hit_ratio(recs_dict=train_dict_cb, test_dict=test_dict) # with nonpersonal system - 0.084"
   ]
  },
  {
   "cell_type": "code",
   "execution_count": 364,
   "metadata": {
    "collapsed": false
   },
   "outputs": [
    {
     "data": {
      "text/plain": [
       "0.021716801173881143"
      ]
     },
     "execution_count": 364,
     "metadata": {},
     "output_type": "execute_result"
    }
   ],
   "source": [
    "hit_ratio(recs_dict=train_dict_cb, test_dict=test_dict)\n",
    "# with user reviews by itemsum 0.048/by item sum but for user not in list -  with user items revies 0.021 "
   ]
  },
  {
   "cell_type": "code",
   "execution_count": 443,
   "metadata": {
    "collapsed": false
   },
   "outputs": [
    {
     "data": {
      "text/plain": [
       "0.0628026412325752"
      ]
     },
     "execution_count": 443,
     "metadata": {},
     "output_type": "execute_result"
    }
   ],
   "source": [
    "hit_ratio(recs_dict=train_dict_cb, test_dict=test_dict)# all ratings as weight only users review 0.49\n",
    "# all raiting as waeight + with user items reviews 0.021 \n",
    "# X_g - cleaned without ratings, userprof - extended, by items sum, without ratings(X_u2) - 0.062 "
   ]
  },
  {
   "cell_type": "code",
   "execution_count": 85,
   "metadata": {
    "collapsed": false
   },
   "outputs": [
    {
     "data": {
      "text/plain": [
       "0.0628026412325752"
      ]
     },
     "execution_count": 85,
     "metadata": {},
     "output_type": "execute_result"
    }
   ],
   "source": [
    "hit_ratio(recs_dict=train_dict_cb, test_dict=test_dict)\n",
    "# X_g - cleaned without ratings, userprof - extended, by items sum, with ratings(X_u3) - 0.062"
   ]
  },
  {
   "cell_type": "markdown",
   "metadata": {},
   "source": [
    "#### `HR@10` для content-based, модели созданной автором блокнота: 0.065"
   ]
  },
  {
   "cell_type": "markdown",
   "metadata": {},
   "source": [
    "## Item-based collaborative filtering RS"
   ]
  },
  {
   "cell_type": "markdown",
   "metadata": {},
   "source": [
    "Item-based CF основан на идее, что пользователь предпочтет объекты, похожие на те, что он приобретал ранее. Данные в CF модели представлены матрицей `user x item`, где ячейка матрицы соответствует рейтингу, который пользователь поставил объекту. Вместо рейтингов в матрице могут быть вероятности (т.е. вероятность, что пользователь воспользуется объектом). Для работы модели необходимо построить матрицу `item x item` схожести объектов. Обычно для построения матрицы схожести используется исходная матрица `user x item`. Чтобы уменьшить шумы в матрице схожести, для каждого объекта хранят только $K$ наиболее похожих объектов.\n",
    "\n",
    "В простейшем случае рекомендации строятся путем нахождения объектов с наибольшим значением предсказанного рейтинга:\n",
    "$$\\hat{r}_{ui} = \\frac{\\sum_{j \\in I_u} r_{uj} * sim(j, i)}{\\sum_{j \\in I_u} r_{uj}}$$\n",
    "\n",
    "* $I_u$ - множество объектов, оцененных пользователем\n",
    "* $sim(j, i)$ - схожесть между объектами $j$ и $i$\n",
    "\n",
    "Часто из финальных рекомендаций для пользователя $u$ исключаются объекты $I_u$."
   ]
  },
  {
   "cell_type": "code",
   "execution_count": 20,
   "metadata": {
    "collapsed": true
   },
   "outputs": [],
   "source": [
    "# вспомогательные функции, которые могут пригодиться при построении Item-based CF\n",
    "def nullify_main_diagonal(m):\n",
    "    positions = range(m.shape[0])\n",
    "    eye = csr_matrix((np.ones(len(positions)), (positions, positions)), m.shape)\n",
    "    return m - m.multiply(eye)\n",
    "\n",
    "\n",
    "def get_topk(matrix, top, axis=1):\n",
    "    \"\"\"Converts source matrix to Top-K matrix\n",
    "    where each row or column contains only top K values\n",
    "\n",
    "    :param matrix: source matrix\n",
    "    :param top: number of top items to be stored\n",
    "    :param axis: 0 - top by column, 1 - top by row\n",
    "    :return:\n",
    "    \"\"\"\n",
    "    rows = []\n",
    "    cols = []\n",
    "    data = []\n",
    "\n",
    "    if axis == 0:\n",
    "        matrix = matrix.T.tocsr()\n",
    "\n",
    "    for row_id, row in enumerate(matrix):\n",
    "        if top is not None and row.nnz > top:\n",
    "            top_args = np.argsort(row.data)[-top:]\n",
    "\n",
    "            rows += [row_id] * top\n",
    "            cols += row.indices[top_args].tolist()\n",
    "            data += row.data[top_args].tolist()\n",
    "        elif row.nnz > 0:\n",
    "            rows += [row_id] * row.nnz\n",
    "            cols += row.indices.tolist()\n",
    "            data += row.data.tolist()\n",
    "\n",
    "    topk_m = csr_matrix((data, (rows, cols)), (matrix.shape[0], matrix.shape[1]))\n",
    "\n",
    "    if axis == 0:\n",
    "        topk_m = topk_m.T.tocsr()\n",
    "\n",
    "    return topk_m"
   ]
  },
  {
   "cell_type": "markdown",
   "metadata": {},
   "source": [
    "#### `HR@10` для item-based CF модели, созданной автором блокнота: 0.085"
   ]
  },
  {
   "cell_type": "markdown",
   "metadata": {},
   "source": [
    "### Подcказки\n",
    "* Определитесь с тем, что вы пытаетесь предсказать (рейтинги, вероятности, ...)\n",
    "* Оптимальный способ вычисления матрицы схожести выглядит так:\n",
    " * Привести строки в матрице `user x item` к единичной длине (выделяет основные предпочтения пользователя)\n",
    " * Построить матрицу схожести `item x item`\n",
    " * Для каждого объекта оставить только $K$ наиболее похожих объектов\n",
    " * Для каждого объекта привести к единичной длине вектор схожести этого объекта (выделяет наиболее схожие объекты)\n",
    "* Удалили ли вы из рекомендаций объекты, которые пользователь уже оценивал?\n",
    "* Статья \"Item-Based Top-N Recommendation Algorithms\", Mukund Deshpande и George Karypis"
   ]
  },
  {
   "cell_type": "markdown",
   "metadata": {},
   "source": [
    "## Hybrid RS"
   ]
  },
  {
   "cell_type": "markdown",
   "metadata": {},
   "source": [
    "Гибридная рекомендательная система - это объединение нескольких рекомендательных систем (мы не будем перечислять тут возможные способы гибридизации). Цель гибридизации - воспользоваться сильными сторонами нескольких моделей, чтобы улучшить качество рекомендаций.\n",
    "\n",
    "В данном задании студент должен создать гибридную систему, состояющую **как минимум** из двух подсистем."
   ]
  },
  {
   "cell_type": "markdown",
   "metadata": {},
   "source": [
    "#### `HR@10` для гибридной модели, созданной автором блокнота: 0.096"
   ]
  },
  {
   "cell_type": "markdown",
   "metadata": {},
   "source": [
    "### Подcказки\n",
    "* Определите сильные и слабые стороны различных моделей\n",
    "* Какие из них коррелируют? А какие могут дополнять друг друга?\n",
    "* Только конечный результат работы системы должен содержать $N$ рекомендаций (промежуточные могут содержать больше)"
   ]
  },
  {
   "cell_type": "markdown",
   "metadata": {},
   "source": [
    "## P.S.\n",
    "В коде возможны пасхальные яйца ]:->, если у вас возникли вопросы, не стесняйтесь их задавать."
   ]
  },
  {
   "cell_type": "code",
   "execution_count": null,
   "metadata": {
    "collapsed": true
   },
   "outputs": [],
   "source": []
  },
  {
   "cell_type": "code",
   "execution_count": null,
   "metadata": {
    "collapsed": true
   },
   "outputs": [],
   "source": []
  }
 ],
 "metadata": {
  "kernelspec": {
   "display_name": "Python 3",
   "language": "python",
   "name": "python3"
  },
  "language_info": {
   "codemirror_mode": {
    "name": "ipython",
    "version": 3
   },
   "file_extension": ".py",
   "mimetype": "text/x-python",
   "name": "python",
   "nbconvert_exporter": "python",
   "pygments_lexer": "ipython3",
   "version": "3.6.2"
  }
 },
 "nbformat": 4,
 "nbformat_minor": 2
}
