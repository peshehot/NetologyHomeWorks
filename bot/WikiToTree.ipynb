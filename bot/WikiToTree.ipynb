{
 "cells": [
  {
   "cell_type": "code",
   "execution_count": 1,
   "metadata": {
    "collapsed": true
   },
   "outputs": [],
   "source": [
    "import numpy as np\n",
    "from collections import defaultdict\n",
    "import re\n",
    "from bs4 import BeautifulSoup\n",
    "import graphviz\n",
    "import codecs\n",
    "import os\n",
    "os.environ[\"PATH\"] += os.pathsep + 'D:/Program Files (x86)/Graphviz2.38/bin/'  "
   ]
  },
  {
   "cell_type": "code",
   "execution_count": 2,
   "metadata": {
    "collapsed": false
   },
   "outputs": [],
   "source": [
    "class Node():\n",
    "    def __init__(self, nodedata, nodeid, wikiid, originaltext):\n",
    "        self.nodeid = nodeid\n",
    "        self.nodedata = str(nodedata)\n",
    "        self.wikiid = wikiid\n",
    "        self.originaltext = originaltext\n",
    "        self.state = 'init'\n",
    "        self.type = 'answer' ## другие возможные типы: quetion, answer, action, external\n",
    "\n",
    "    "
   ]
  },
  {
   "cell_type": "code",
   "execution_count": 19,
   "metadata": {
    "collapsed": false
   },
   "outputs": [],
   "source": [
    "class Relation():\n",
    "    def __init__(self, parentnodeid, childnodeid, relationdata, activation):\n",
    "        self.parentnodeid=parentnodeid\n",
    "        self.childnodeid=childnodeid\n",
    "        self.activation = activation\n",
    "        self.relationdata = str(relationdata)\n",
    "        self.relationType = 'userinput'\n",
    "    def evaluate(self, answer, question, context):\n",
    "        self.weight = self.activation(self.relationdata, answer, question, context) \n",
    "        return [str(self.childnodeid),  float(self.weight) ]    \n"
   ]
  },
  {
   "cell_type": "code",
   "execution_count": 156,
   "metadata": {
    "collapsed": false
   },
   "outputs": [
    {
     "ename": "SyntaxError",
     "evalue": "invalid syntax (<ipython-input-156-204fec98d220>, line 105)",
     "output_type": "error",
     "traceback": [
      "\u001b[1;36m  File \u001b[1;32m\"<ipython-input-156-204fec98d220>\"\u001b[1;36m, line \u001b[1;32m105\u001b[0m\n\u001b[1;33m    else continue\u001b[0m\n\u001b[1;37m                ^\u001b[0m\n\u001b[1;31mSyntaxError\u001b[0m\u001b[1;31m:\u001b[0m invalid syntax\n"
     ]
    }
   ],
   "source": [
    "class TreeGraph():\n",
    "    '''\n",
    "    activation - distance function betven labeldata and answer\n",
    "    '''\n",
    "    def __init__(self, activation, threshold):\n",
    "        self.activation=activation\n",
    "        self.nodelist = {}\n",
    "        self.relationlist=defaultdict(list)\n",
    "        self.threshold = threshold\n",
    "        self.context={}\n",
    "        self.nodenumbers={}\n",
    "    def addNode(self,nodeid, nodedata, wikiid, originaltext):\n",
    "        self.nodelist[nodeid] = Node(nodedata, nodeid,wikiid,  originaltext)\n",
    "        self.nodenumbers[nodeid] = len(self.nodelist)\n",
    "    def addRealtion(self, parentnodeid, childnodeid, relationdata):\n",
    "        self.relationlist[parentnodeid].append(Relation(parentnodeid, childnodeid, relationdata, self.activation))  \n",
    "    def evaluateNode(self, nodeid):\n",
    "        if nodeid in self.relationlist.keys():\n",
    "            question=self.nodelist[nodeid].nodedata\n",
    "            for relrel in self.relationlist[nodeid]:\n",
    "                print(relrel.relationdata)\n",
    "            answer = input(question + \": \")\n",
    "            self.context[nodeid] = answer\n",
    "            tmp=np.zeros((len(self.relationlist[nodeid]), 2),dtype=object)\n",
    "\n",
    "            for i,relation in enumerate(self.relationlist[nodeid]):\n",
    "                tmp[i] = relation.evaluate(answer, question, self.context)\n",
    "\n",
    "            if np.min(tmp[:,1]) >= self.threshold:\n",
    "                return(self.default())\n",
    "            n=np.argmin(tmp[:,1])\n",
    "            nextnodeid=str(tmp[n,0])\n",
    "            self.evaluateNode(nextnodeid)\n",
    "        else:\n",
    "            print(self.nodelist[nodeid].nodedata)\n",
    "            return(self.nodelist[nodeid].nodedata)\n",
    "    def default(self):\n",
    "        print(\"Я не понял о чем вы\")\n",
    "        #можно попробывать перефразировать вопрос и задать еще раз, или вернуться выше и пойти другой веткой\n",
    "        return \"Я не понял о чем вы\"\n",
    "    def _exporttovis_i(self, result, nodeid, iteration):\n",
    "        if nodeid in list(self.relationlist.keys()):\n",
    "\n",
    "            result= '\\n' + str(self.nodenumbers[nodeid]) +' [label=\\\"' + self.nodelist[nodeid].nodedata + '\\\"] ;'\n",
    "            iteration +=1\n",
    "            j=0\n",
    "            for relrel in self.relationlist[nodeid]:\n",
    "                result+='\\n' + str(self.nodenumbers[nodeid]) +' -> ' + str(self.nodenumbers[relrel.childnodeid]) + \\\n",
    "                ' [headlabel=\\\"' +relrel.relationdata + '\\\"];'\n",
    "                j+=1\n",
    "                resulttmp, iteration=self._exporttovis_i(result, relrel.childnodeid, iteration)\n",
    "                result+=resulttmp\n",
    "                \n",
    "     \n",
    "        else:\n",
    "            result='\\n'+str(self.nodenumbers[nodeid]) +' [label=\\\"' + self.nodelist[nodeid].nodedata + '\\\"] ;'\n",
    "            iteration+=1\n",
    "            return (result, iteration)\n",
    "        return (result, iteration)\n",
    "    def exporttovis(self):\n",
    "        result=''\n",
    "\n",
    "        tmp=0\n",
    "        result, tmp=self._exporttovis_i(result, list(self.nodelist.keys())[0],0)\n",
    "        result = 'digraph Tree {  node [shape=box] ;' + result\n",
    "        result += ' }'\n",
    "        file=open(\"output.txt\", \"w\")\n",
    "        print(result, file=file)\n",
    "        file.close()\n",
    "        return result\n",
    "    def cleantext(self,text):\n",
    "\n",
    "        pattern_cleanbegin = re.compile('(^)[\\.\\s\\']+')\n",
    "        pattern_cleanend = re.compile('[\\'\\s\\.]+($)')\n",
    "        pattern_wikibold = re.compile('\\'{2,}')\n",
    "\n",
    "        \n",
    "        text = text.replace('\\r', '').replace('\\n', '')\n",
    "        text = pattern_cleanbegin.sub(r'\\1', text)\n",
    "        text = pattern_cleanend.sub(r'\\1', text)\n",
    "        text = pattern_wikibold.sub('', text)\n",
    "        text = text.replace('\\r', '').replace('\\n', '')\n",
    "        text = text.replace('\\t', '').replace('\\s+', ' ')\n",
    "        return text\n",
    "    def filltree(self, filepath, encode):\n",
    "            \n",
    "        pattern_firstdigit = re.compile('^\\s*(\\d+)\\.([^\\d]*.*)')\n",
    "        pattern_firstdash = re.compile('^\\s*(-|(?:\\d+\\.\\d+))\\s*(?:Если)+(.*?),[(?:то)\\s]*(.*)')\n",
    "        pattern_digitincentre = re.compile('.*(?:(?:вопрос)|(?:пункт)).{1,3}?((?:\\d+\\.\\d+)|\\d+)')\n",
    "        pattern_treeend = re.compile('</tree>')\n",
    "        pattern_treestart = re.compile('<tree>')\n",
    "        \n",
    "        \n",
    "        additionalnode=0\n",
    "        lastmainnodeid = None\n",
    "        additionalnodeid=None\n",
    "        last = 'init'\n",
    "        treestart = True\n",
    "        \n",
    "        with codecs.open(filepath, 'r', encode) as f:\n",
    "            for line in f:\n",
    "                line=line.strip()\n",
    "                if treestart:\n",
    "                    if pattern_treestart.match(line):\n",
    "                        treestart=False\n",
    "                    else continue\n",
    "                if pattern_treeend.match(line):\n",
    "                    break\n",
    "                digitinline = pattern_firstdigit.search(line)\n",
    "                dashinline = pattern_firstdash.search(line)    \n",
    "                if digitinline is not None:\n",
    "                    lastmainnodeid= digitinline.group(1)\n",
    "                    nodedata = digitinline.group(2)\n",
    "                    nodedata = self.cleantext(nodedata)\n",
    "                    self.addNode(digitinline.group(1),nodedata, 0, nodedata)\n",
    "                    additionalnode=0      \n",
    "                    last = 'main'\n",
    "                    continue\n",
    "                if (dashinline is not None) & (last !=\"init\")  :\n",
    "                    digitincentre=pattern_digitincentre.search(line)\n",
    "                    if digitincentre is not None:\n",
    "                        labeldata = dashinline.group(2)\n",
    "                        labeldata = self.cleantext( labeldata)\n",
    "                        self.addRealtion(lastmainnodeid, digitincentre.group(1),labeldata)\n",
    "                    else:\n",
    "                        \n",
    "                        if dashinline.group(1) == '-':\n",
    "                            additionalnodeid=str(lastmainnodeid) + \"_\" + str(additionalnode)\n",
    "                        else:\n",
    "                            additionalnodeid = dashinline.group(1)\n",
    "                        nodedata=dashinline.group(3)\n",
    "                        nodedata = self.cleantext(nodedata)\n",
    "                        tree.addNode(additionalnodeid, dashinline.group(3), 0, nodedata )\n",
    "\n",
    "                        labeldata = dashinline.group(2)\n",
    "                        labeldata = self.cleantext(labeldata)\n",
    "                \n",
    "                        tree.addRealtion(lastmainnodeid, additionalnodeid, labeldata)\n",
    "                \n",
    "                        additionalnode+=1\n",
    "                        last='additional'\n",
    "                    continue\n",
    "                if last=='main':\n",
    "                    line =self.cleantext(line)\n",
    "                    self.nodelist[lastmainnodeid].nodedata = self.nodelist[lastmainnodeid].nodedata + \" \" + line\n",
    "                    self.nodelist[lastmainnodeid].originaltext = self.nodelist[lastmainnodeid].nodedata + \"\\n\" + line\n",
    "            \n",
    "                if last =='additional':\n",
    "                    line =self.cleantext(line)\n",
    "                    self.nodelist[additionalnodeid].nodedata = self.nodelist[additionalnodeid].nodedata + \" \" + line\n",
    "                    self.nodelist[additionalnodeid].originaltext = self.nodelist[lastmainnodeid].nodedata + \"\\n\" + line\n",
    "        "
   ]
  },
  {
   "cell_type": "code",
   "execution_count": null,
   "metadata": {
    "collapsed": false
   },
   "outputs": [],
   "source": [
    "def activation(template,answer, question, context):\n",
    "    if re.match('.*' + answer + '.*', template) is not None:\n",
    "        return 1\n",
    "    else:\n",
    "        return 0"
   ]
  },
  {
   "cell_type": "code",
   "execution_count": 157,
   "metadata": {
    "collapsed": false
   },
   "outputs": [],
   "source": [
    "def iterative_levenshtein(s, t, nope,nope1, costs=(1, 4, 4)):\n",
    "    \"\"\" \n",
    "        iterative_levenshtein(s, t) -> ldist\n",
    "        ldist is the Levenshtein distance between the strings \n",
    "        s and t.\n",
    "        For all i and j, dist[i,j] will contain the Levenshtein \n",
    "        distance between the first i characters of s and the \n",
    "        first j characters of t\n",
    "        \n",
    "        costs: a tuple or a list with three integers (d, i, s)\n",
    "               where d defines the costs for a deletion\n",
    "                     i defines the costs for an insertion and\n",
    "                     s defines the costs for a substitution\n",
    "    \"\"\"\n",
    "    s=s.lower()\n",
    "    t=t.lower()\n",
    "    rows = len(s)+1\n",
    "    cols = len(t)+1\n",
    "    deletes, inserts, substitutes = costs\n",
    "    \n",
    "    dist = [[0 for x in range(cols)] for x in range(rows)]\n",
    "    # source prefixes can be transformed into empty strings \n",
    "    # by deletions:\n",
    "    for row in range(1, rows):\n",
    "        dist[row][0] = row * deletes\n",
    "    # target prefixes can be created from an empty source string\n",
    "    # by inserting the characters\n",
    "    for col in range(1, cols):\n",
    "        dist[0][col] = col * inserts\n",
    "        \n",
    "    for col in range(1, cols):\n",
    "        for row in range(1, rows):\n",
    "            if s[row-1] == t[col-1]:\n",
    "                cost = 0\n",
    "            else:\n",
    "                cost = substitutes\n",
    "            dist[row][col] = min(dist[row-1][col] + deletes,\n",
    "                                 dist[row][col-1] + inserts,\n",
    "                                 dist[row-1][col-1] + cost) # substitution\n",
    "    \n",
    " \n",
    "    return dist[row][col]\n"
   ]
  },
  {
   "cell_type": "code",
   "execution_count": 158,
   "metadata": {
    "collapsed": false
   },
   "outputs": [
    {
     "data": {
      "text/plain": [
       "16"
      ]
     },
     "execution_count": 158,
     "metadata": {},
     "output_type": "execute_result"
    }
   ],
   "source": [
    "iterative_levenshtein( 'профиль Клиента не заполнен','не заполнен', '111','222')"
   ]
  },
  {
   "cell_type": "code",
   "execution_count": 159,
   "metadata": {
    "collapsed": false
   },
   "outputs": [
    {
     "data": {
      "text/plain": [
       "1"
      ]
     },
     "execution_count": 159,
     "metadata": {},
     "output_type": "execute_result"
    }
   ],
   "source": [
    "iterative_levenshtein('Нет', 'не', '111','222')"
   ]
  },
  {
   "cell_type": "code",
   "execution_count": 160,
   "metadata": {
    "collapsed": true
   },
   "outputs": [],
   "source": [
    "tree = TreeGraph(iterative_levenshtein, 40) \n",
    "# для начала  расстояние левенштеина, потом можно будет заменить на косинусное расстояние или что нибудь похожее"
   ]
  },
  {
   "cell_type": "code",
   "execution_count": 161,
   "metadata": {
    "collapsed": false
   },
   "outputs": [],
   "source": [
    "tree.filltree('WikiAccountBlocked2.txt', 'utf-8-sig')"
   ]
  },
  {
   "cell_type": "code",
   "execution_count": 155,
   "metadata": {
    "collapsed": false
   },
   "outputs": [
    {
     "name": "stdout",
     "output_type": "stream",
     "text": [
      "Да\n",
      "Нет\n",
      "Учетную запись заблокировали после ввода пароля?  : Да\n",
      "профиль Клиента заполнен\n",
      "профиль Клиента не заполнен\n",
      "Необходимо уточнить заполнен ли в АС СББОЛ Профиль Клиента? : не заполнен\n",
      "Клиент помнит пароль\n",
      "Клиент не помнит пароль\n",
      "Уточняем у Клиента помнит ли он свой пароль?  : не помнит\n",
      "переводим Клиента на линию Операционной поддержки для проведения процедуры аутентификации (8-800-5555-777, далее «6», затем «4») с обязательной передачей информации по Клиенту оператору. \n"
     ]
    }
   ],
   "source": [
    "tree.evaluateNode('1')"
   ]
  },
  {
   "cell_type": "code",
   "execution_count": 162,
   "metadata": {
    "collapsed": false
   },
   "outputs": [],
   "source": [
    "graph_src = tree.exporttovis()"
   ]
  },
  {
   "cell_type": "code",
   "execution_count": 164,
   "metadata": {
    "collapsed": false
   },
   "outputs": [
    {
     "data": {
      "text/plain": [
       "'tree.pdf'"
      ]
     },
     "execution_count": 164,
     "metadata": {},
     "output_type": "execute_result"
    }
   ],
   "source": [
    "graph = graphviz.Source(graph_src)  \n",
    "graph.render('tree')"
   ]
  },
  {
   "cell_type": "code",
   "execution_count": null,
   "metadata": {
    "collapsed": true
   },
   "outputs": [],
   "source": []
  }
 ],
 "metadata": {
  "kernelspec": {
   "display_name": "Python 3",
   "language": "python",
   "name": "python3"
  },
  "language_info": {
   "codemirror_mode": {
    "name": "ipython",
    "version": 3
   },
   "file_extension": ".py",
   "mimetype": "text/x-python",
   "name": "python",
   "nbconvert_exporter": "python",
   "pygments_lexer": "ipython3",
   "version": "3.6.2"
  }
 },
 "nbformat": 4,
 "nbformat_minor": 2
}
