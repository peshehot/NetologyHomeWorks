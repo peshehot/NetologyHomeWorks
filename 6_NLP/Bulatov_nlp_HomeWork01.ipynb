{
 "cells": [
  {
   "cell_type": "code",
   "execution_count": 48,
   "metadata": {
    "collapsed": true
   },
   "outputs": [],
   "source": [
    "import numpy as np\n",
    "import re\n",
    "import pandas as pd\n",
    "import os\n",
    "import codecs\n",
    "os.environ[\"PATH\"] += os.pathsep + 'D:/Program Files (x86)/Graphviz2.38/bin/' "
   ]
  },
  {
   "cell_type": "code",
   "execution_count": 49,
   "metadata": {
    "collapsed": false
   },
   "outputs": [],
   "source": [
    "from gensim.models.word2vec import Word2Vec\n",
    "from gensim.models import KeyedVectors\n",
    "from gensim import utils\n",
    "from stop_words import get_stop_words\n",
    "import nltk\n",
    "import string\n",
    "from nltk.corpus import stopwords\n",
    "from tqdm import tqdm\n",
    "from nltk.tokenize import word_tokenize\n",
    "from sklearn.preprocessing import normalize\n",
    "from nltk.stem.wordnet import WordNetLemmatizer\n",
    "from nltk.tokenize import word_tokenize\n",
    "from nltk.corpus import wordnet as wn\n",
    "import pymorphy2\n",
    "import pymystem3"
   ]
  },
  {
   "cell_type": "code",
   "execution_count": 50,
   "metadata": {
    "collapsed": false
   },
   "outputs": [],
   "source": [
    "df_neg = pd.read_csv('negative.csv', delimiter=';',header=None )\n",
    "df_pos = pd.read_csv('positive.csv', delimiter=';',header=None )"
   ]
  },
  {
   "cell_type": "code",
   "execution_count": 51,
   "metadata": {
    "collapsed": false
   },
   "outputs": [],
   "source": [
    "df_neg.columns = ['id','tdate','tmane','ttext','ttype','trep','trtw','tfav','tstcount','tfol','tfrien','listcount']\n",
    "df_pos.columns = ['id','tdate','tmane','ttext','ttype','trep','trtw','tfav','tstcount','tfol','tfrien','listcount']"
   ]
  },
  {
   "cell_type": "code",
   "execution_count": 52,
   "metadata": {
    "collapsed": false
   },
   "outputs": [
    {
     "data": {
      "text/html": [
       "<div>\n",
       "<style>\n",
       "    .dataframe thead tr:only-child th {\n",
       "        text-align: right;\n",
       "    }\n",
       "\n",
       "    .dataframe thead th {\n",
       "        text-align: left;\n",
       "    }\n",
       "\n",
       "    .dataframe tbody tr th {\n",
       "        vertical-align: top;\n",
       "    }\n",
       "</style>\n",
       "<table border=\"1\" class=\"dataframe\">\n",
       "  <thead>\n",
       "    <tr style=\"text-align: right;\">\n",
       "      <th></th>\n",
       "      <th>id</th>\n",
       "      <th>tdate</th>\n",
       "      <th>tmane</th>\n",
       "      <th>ttext</th>\n",
       "      <th>ttype</th>\n",
       "      <th>trep</th>\n",
       "      <th>trtw</th>\n",
       "      <th>tfav</th>\n",
       "      <th>tstcount</th>\n",
       "      <th>tfol</th>\n",
       "      <th>tfrien</th>\n",
       "      <th>listcount</th>\n",
       "    </tr>\n",
       "  </thead>\n",
       "  <tbody>\n",
       "    <tr>\n",
       "      <th>0</th>\n",
       "      <td>408906762813579264</td>\n",
       "      <td>1386325944</td>\n",
       "      <td>dugarchikbellko</td>\n",
       "      <td>на работе был полный пиддес :| и так каждое за...</td>\n",
       "      <td>-1</td>\n",
       "      <td>0</td>\n",
       "      <td>0</td>\n",
       "      <td>0</td>\n",
       "      <td>8064</td>\n",
       "      <td>111</td>\n",
       "      <td>94</td>\n",
       "      <td>2</td>\n",
       "    </tr>\n",
       "    <tr>\n",
       "      <th>1</th>\n",
       "      <td>408906818262687744</td>\n",
       "      <td>1386325957</td>\n",
       "      <td>nugemycejela</td>\n",
       "      <td>Коллеги сидят рубятся в Urban terror, а я из-з...</td>\n",
       "      <td>-1</td>\n",
       "      <td>0</td>\n",
       "      <td>0</td>\n",
       "      <td>0</td>\n",
       "      <td>26</td>\n",
       "      <td>42</td>\n",
       "      <td>39</td>\n",
       "      <td>0</td>\n",
       "    </tr>\n",
       "    <tr>\n",
       "      <th>2</th>\n",
       "      <td>408906858515398656</td>\n",
       "      <td>1386325966</td>\n",
       "      <td>4post21</td>\n",
       "      <td>@elina_4post как говорят обещаного три года жд...</td>\n",
       "      <td>-1</td>\n",
       "      <td>0</td>\n",
       "      <td>0</td>\n",
       "      <td>0</td>\n",
       "      <td>718</td>\n",
       "      <td>49</td>\n",
       "      <td>249</td>\n",
       "      <td>0</td>\n",
       "    </tr>\n",
       "    <tr>\n",
       "      <th>3</th>\n",
       "      <td>408906914437685248</td>\n",
       "      <td>1386325980</td>\n",
       "      <td>Poliwake</td>\n",
       "      <td>Желаю хорошего полёта и удачной посадки,я буду...</td>\n",
       "      <td>-1</td>\n",
       "      <td>0</td>\n",
       "      <td>0</td>\n",
       "      <td>0</td>\n",
       "      <td>10628</td>\n",
       "      <td>207</td>\n",
       "      <td>200</td>\n",
       "      <td>0</td>\n",
       "    </tr>\n",
       "    <tr>\n",
       "      <th>4</th>\n",
       "      <td>408906914723295232</td>\n",
       "      <td>1386325980</td>\n",
       "      <td>capyvixowe</td>\n",
       "      <td>Обновил за каким-то лешим surf, теперь не рабо...</td>\n",
       "      <td>-1</td>\n",
       "      <td>0</td>\n",
       "      <td>0</td>\n",
       "      <td>0</td>\n",
       "      <td>35</td>\n",
       "      <td>17</td>\n",
       "      <td>34</td>\n",
       "      <td>0</td>\n",
       "    </tr>\n",
       "  </tbody>\n",
       "</table>\n",
       "</div>"
      ],
      "text/plain": [
       "                   id       tdate            tmane  \\\n",
       "0  408906762813579264  1386325944  dugarchikbellko   \n",
       "1  408906818262687744  1386325957     nugemycejela   \n",
       "2  408906858515398656  1386325966          4post21   \n",
       "3  408906914437685248  1386325980         Poliwake   \n",
       "4  408906914723295232  1386325980       capyvixowe   \n",
       "\n",
       "                                               ttext  ttype  trep  trtw  tfav  \\\n",
       "0  на работе был полный пиддес :| и так каждое за...     -1     0     0     0   \n",
       "1  Коллеги сидят рубятся в Urban terror, а я из-з...     -1     0     0     0   \n",
       "2  @elina_4post как говорят обещаного три года жд...     -1     0     0     0   \n",
       "3  Желаю хорошего полёта и удачной посадки,я буду...     -1     0     0     0   \n",
       "4  Обновил за каким-то лешим surf, теперь не рабо...     -1     0     0     0   \n",
       "\n",
       "   tstcount  tfol  tfrien  listcount  \n",
       "0      8064   111      94          2  \n",
       "1        26    42      39          0  \n",
       "2       718    49     249          0  \n",
       "3     10628   207     200          0  \n",
       "4        35    17      34          0  "
      ]
     },
     "execution_count": 52,
     "metadata": {},
     "output_type": "execute_result"
    }
   ],
   "source": [
    "df_neg.head()"
   ]
  },
  {
   "cell_type": "code",
   "execution_count": 53,
   "metadata": {
    "collapsed": false
   },
   "outputs": [
    {
     "data": {
      "text/html": [
       "<div>\n",
       "<style>\n",
       "    .dataframe thead tr:only-child th {\n",
       "        text-align: right;\n",
       "    }\n",
       "\n",
       "    .dataframe thead th {\n",
       "        text-align: left;\n",
       "    }\n",
       "\n",
       "    .dataframe tbody tr th {\n",
       "        vertical-align: top;\n",
       "    }\n",
       "</style>\n",
       "<table border=\"1\" class=\"dataframe\">\n",
       "  <thead>\n",
       "    <tr style=\"text-align: right;\">\n",
       "      <th></th>\n",
       "      <th>id</th>\n",
       "      <th>tdate</th>\n",
       "      <th>tmane</th>\n",
       "      <th>ttext</th>\n",
       "      <th>ttype</th>\n",
       "      <th>trep</th>\n",
       "      <th>trtw</th>\n",
       "      <th>tfav</th>\n",
       "      <th>tstcount</th>\n",
       "      <th>tfol</th>\n",
       "      <th>tfrien</th>\n",
       "      <th>listcount</th>\n",
       "    </tr>\n",
       "  </thead>\n",
       "  <tbody>\n",
       "    <tr>\n",
       "      <th>0</th>\n",
       "      <td>408906692374446080</td>\n",
       "      <td>1386325927</td>\n",
       "      <td>pleease_shut_up</td>\n",
       "      <td>@first_timee хоть я и школота, но поверь, у на...</td>\n",
       "      <td>1</td>\n",
       "      <td>0</td>\n",
       "      <td>0</td>\n",
       "      <td>0</td>\n",
       "      <td>7569</td>\n",
       "      <td>62</td>\n",
       "      <td>61</td>\n",
       "      <td>0</td>\n",
       "    </tr>\n",
       "    <tr>\n",
       "      <th>1</th>\n",
       "      <td>408906692693221377</td>\n",
       "      <td>1386325927</td>\n",
       "      <td>alinakirpicheva</td>\n",
       "      <td>Да, все-таки он немного похож на него. Но мой ...</td>\n",
       "      <td>1</td>\n",
       "      <td>0</td>\n",
       "      <td>0</td>\n",
       "      <td>0</td>\n",
       "      <td>11825</td>\n",
       "      <td>59</td>\n",
       "      <td>31</td>\n",
       "      <td>2</td>\n",
       "    </tr>\n",
       "    <tr>\n",
       "      <th>2</th>\n",
       "      <td>408906695083954177</td>\n",
       "      <td>1386325927</td>\n",
       "      <td>EvgeshaRe</td>\n",
       "      <td>RT @KatiaCheh: Ну ты идиотка) я испугалась за ...</td>\n",
       "      <td>1</td>\n",
       "      <td>0</td>\n",
       "      <td>1</td>\n",
       "      <td>0</td>\n",
       "      <td>1273</td>\n",
       "      <td>26</td>\n",
       "      <td>27</td>\n",
       "      <td>0</td>\n",
       "    </tr>\n",
       "    <tr>\n",
       "      <th>3</th>\n",
       "      <td>408906695356973056</td>\n",
       "      <td>1386325927</td>\n",
       "      <td>ikonnikova_21</td>\n",
       "      <td>RT @digger2912: \"Кто то в углу сидит и погибае...</td>\n",
       "      <td>1</td>\n",
       "      <td>0</td>\n",
       "      <td>1</td>\n",
       "      <td>0</td>\n",
       "      <td>1549</td>\n",
       "      <td>19</td>\n",
       "      <td>17</td>\n",
       "      <td>0</td>\n",
       "    </tr>\n",
       "    <tr>\n",
       "      <th>4</th>\n",
       "      <td>408906761416867842</td>\n",
       "      <td>1386325943</td>\n",
       "      <td>JumpyAlex</td>\n",
       "      <td>@irina_dyshkant Вот что значит страшилка :D\\nН...</td>\n",
       "      <td>1</td>\n",
       "      <td>0</td>\n",
       "      <td>0</td>\n",
       "      <td>0</td>\n",
       "      <td>597</td>\n",
       "      <td>16</td>\n",
       "      <td>23</td>\n",
       "      <td>1</td>\n",
       "    </tr>\n",
       "  </tbody>\n",
       "</table>\n",
       "</div>"
      ],
      "text/plain": [
       "                   id       tdate            tmane  \\\n",
       "0  408906692374446080  1386325927  pleease_shut_up   \n",
       "1  408906692693221377  1386325927  alinakirpicheva   \n",
       "2  408906695083954177  1386325927        EvgeshaRe   \n",
       "3  408906695356973056  1386325927    ikonnikova_21   \n",
       "4  408906761416867842  1386325943        JumpyAlex   \n",
       "\n",
       "                                               ttext  ttype  trep  trtw  tfav  \\\n",
       "0  @first_timee хоть я и школота, но поверь, у на...      1     0     0     0   \n",
       "1  Да, все-таки он немного похож на него. Но мой ...      1     0     0     0   \n",
       "2  RT @KatiaCheh: Ну ты идиотка) я испугалась за ...      1     0     1     0   \n",
       "3  RT @digger2912: \"Кто то в углу сидит и погибае...      1     0     1     0   \n",
       "4  @irina_dyshkant Вот что значит страшилка :D\\nН...      1     0     0     0   \n",
       "\n",
       "   tstcount  tfol  tfrien  listcount  \n",
       "0      7569    62      61          0  \n",
       "1     11825    59      31          2  \n",
       "2      1273    26      27          0  \n",
       "3      1549    19      17          0  \n",
       "4       597    16      23          1  "
      ]
     },
     "execution_count": 53,
     "metadata": {},
     "output_type": "execute_result"
    }
   ],
   "source": [
    "df_pos.head()"
   ]
  },
  {
   "cell_type": "code",
   "execution_count": 67,
   "metadata": {
    "collapsed": false
   },
   "outputs": [],
   "source": [
    "df =pd.concat((df_pos, df_neg), axis=0)"
   ]
  },
  {
   "cell_type": "code",
   "execution_count": 68,
   "metadata": {
    "collapsed": true
   },
   "outputs": [],
   "source": [
    "y =df.ttype"
   ]
  },
  {
   "cell_type": "code",
   "execution_count": 69,
   "metadata": {
    "collapsed": false
   },
   "outputs": [],
   "source": [
    "del df['ttype']"
   ]
  },
  {
   "cell_type": "code",
   "execution_count": 70,
   "metadata": {
    "collapsed": false
   },
   "outputs": [],
   "source": [
    "df.drop(['id', 'tdate'], inplace=True)"
   ]
  },
  {
   "cell_type": "code",
   "execution_count": 71,
   "metadata": {
    "collapsed": false
   },
   "outputs": [
    {
     "name": "stdout",
     "output_type": "stream",
     "text": [
      "<class 'pandas.core.frame.DataFrame'>\n",
      "Int64Index: 226834 entries, 0 to 111922\n",
      "Data columns (total 11 columns):\n",
      "id           226834 non-null int64\n",
      "tdate        226834 non-null int64\n",
      "tmane        226834 non-null object\n",
      "ttext        226834 non-null object\n",
      "trep         226834 non-null int64\n",
      "trtw         226834 non-null int64\n",
      "tfav         226834 non-null int64\n",
      "tstcount     226834 non-null int64\n",
      "tfol         226834 non-null int64\n",
      "tfrien       226834 non-null int64\n",
      "listcount    226834 non-null int64\n",
      "dtypes: int64(9), object(2)\n",
      "memory usage: 20.8+ MB\n"
     ]
    }
   ],
   "source": [
    "df.info()"
   ]
  },
  {
   "cell_type": "code",
   "execution_count": 72,
   "metadata": {
    "collapsed": false
   },
   "outputs": [
    {
     "data": {
      "text/plain": [
       "139658"
      ]
     },
     "execution_count": 72,
     "metadata": {},
     "output_type": "execute_result"
    }
   ],
   "source": [
    "df.tmane.nunique()"
   ]
  },
  {
   "cell_type": "code",
   "execution_count": 73,
   "metadata": {
    "collapsed": true
   },
   "outputs": [],
   "source": [
    "df.drop(['tmane'], inplace=True)"
   ]
  },
  {
   "cell_type": "code",
   "execution_count": null,
   "metadata": {
    "collapsed": false
   },
   "outputs": [],
   "source": []
  },
  {
   "cell_type": "code",
   "execution_count": 61,
   "metadata": {
    "collapsed": true
   },
   "outputs": [],
   "source": [
    "import matplotlib\n",
    "import seaborn as sns"
   ]
  },
  {
   "cell_type": "code",
   "execution_count": 66,
   "metadata": {
    "collapsed": false
   },
   "outputs": [],
   "source": [
    "%config InlineBackend.figure_format = 'png' \n",
    "sns_plot = sns.pairplot(\n",
    "    df);\n",
    "sns_plot.savefig('pairplot.png')"
   ]
  },
  {
   "cell_type": "code",
   "execution_count": null,
   "metadata": {
    "collapsed": true
   },
   "outputs": [],
   "source": [
    "class Morpher():\n",
    "    '''\n",
    "    activation - distance function betven labeldata and answer\n",
    "    '''\n",
    "\n",
    "    def __init__(self, model_rucopr,mystem, pymorphy ):\n",
    "        self.model_rucopr=model_rucopr\n",
    "        self.mystem = mystem\n",
    "        self.pymorph = pymorphy\n",
    "        self.count=0\n",
    "    def normality_me(self,query):\n",
    "        if (self.count%50000) ==0:\n",
    "            print(self.count)\n",
    "        self.count+=1\n",
    "        penn_to_wn = { \n",
    "            'S': wn.NOUN, \n",
    "            'V': wn.VERB, \n",
    "            'ADV': wn.ADV, \n",
    "            'A': wn.ADJ}\n",
    "        pym_to_rutag ={\n",
    "            'S': 'NOUN',  \n",
    "            'V': 'VERB',\n",
    "            'ADV': 'ADV', \n",
    "            'A': 'ADJ'  }          \n",
    "    \n",
    "#        tags = [(morph.parse(word)[0].word, morph.parse(word)[0].tag.POS) for word in  word_tokenize(query)]\n",
    "        \n",
    "#         tmpinput = codecs.open('tmpinput', 'w', 'utf-8') \n",
    "#         tmpinput.write(query)\n",
    "#         tmpinput.close()\n",
    "#         tmpoutput = codecs.open('tmpoutput', 'w', 'utf-8')\n",
    "#         tmpoutput.close()\n",
    "#         !mystem -dnil -e utf-8 tmpinput tmpoutput\n",
    "#         tmpoutput = codecs.open('tmpoutput', 'r', 'utf-8')\n",
    "#         lines = tmpoutput.readlines()\n",
    "#         tmpoutput.close()\n",
    "#         words = self.mystem.lemmatize(query)\n",
    "\n",
    "\n",
    "        words = [self.pymorph.parse(s)[0][2] for s in  word_tokenize(query)]\n",
    "        return ' '.join(words)\n",
    "\n",
    "        patternnotvalid = re.compile('.*\\?.*')\n",
    "        tags = [(tstres[11]['analysis'][0]['gr'].split(',')[0],tstres[11]['analysis'][0]['lex']) for line in lines if not bool(patternnotvalid.match(tstres[11]['analysis'][0]['lex'])) ]\n",
    "\n",
    "                                            \n",
    "        words=[]\n",
    "        for tag in tags:\n",
    "            wn_tag = penn_to_wn.get(tag[1], wn.NOUN)\n",
    "            word = morph.normal_forms(tag[0])[0]\n",
    "            words.append((WordNetLemmatizer().lemmatize(word,wn_tag).lower() + \"_\" + pym_to_rutag.get(tag[1], 'NOUN')))\n",
    "        return \" \".join(words)\n",
    "    def text_to_vec(self, text):\n",
    "        if (len(text)==0) | (text is None):\n",
    "            return (np.zeros((1,300)), '', '' , '')\n",
    "        if 1==1:\n",
    "            pattern= re.compile('[^А-Яа-я\\s]+')\n",
    "            pattern_spaces = re.compile('\\s{1,}')\n",
    "            text = pattern_spaces.sub(' ', pattern.sub(' ', text))\n",
    "            text = self.normality_me(text)\n",
    "            \n",
    "            words = text.split(' ')\n",
    "            words_err = []\n",
    "            words_true = []\n",
    "            sumvec = np.zeros((300,))\n",
    "            \n",
    "            for word in words:\n",
    "                try:\n",
    "                    vec = self.model_rucopr.word_vec(word)\n",
    "                    sumvec = sumvec + vec\n",
    "                    words_true.append(word)\n",
    "                except:\n",
    "                    words_err.append(word)\n",
    "        return(normalize(sumvec.reshape(1, -1)), words, words_true, words_err)"
   ]
  },
  {
   "cell_type": "code",
   "execution_count": 17,
   "metadata": {
    "collapsed": false
   },
   "outputs": [],
   "source": [
    "model_rucopr = KeyedVectors.load_word2vec_format('D:\\home\\datasets\\\\ruwikiruscorpora_0_300_20.bin', binary=True)"
   ]
  },
  {
   "cell_type": "code",
   "execution_count": 18,
   "metadata": {
    "collapsed": false
   },
   "outputs": [],
   "source": [
    "pymorph = pymorphy2.MorphAnalyzer()\n",
    "mystem = pymystem3.Mystem()"
   ]
  },
  {
   "cell_type": "code",
   "execution_count": 19,
   "metadata": {
    "collapsed": false
   },
   "outputs": [
    {
     "data": {
      "text/plain": [
       "'мыло'"
      ]
     },
     "execution_count": 19,
     "metadata": {},
     "output_type": "execute_result"
    }
   ],
   "source": [
    "pymorph.parse('мыла')[0][2]"
   ]
  },
  {
   "cell_type": "code",
   "execution_count": 20,
   "metadata": {
    "collapsed": false
   },
   "outputs": [
    {
     "data": {
      "text/plain": [
       "['мама', ' ', 'мыть', ' ', 'рама', '\\n']"
      ]
     },
     "execution_count": 20,
     "metadata": {},
     "output_type": "execute_result"
    }
   ],
   "source": [
    "mystem.lemmatize('Мама мыла раму') ## намного лучше но оооочень долго, по прогнозам больше 20 часов"
   ]
  },
  {
   "cell_type": "code",
   "execution_count": 21,
   "metadata": {
    "collapsed": false
   },
   "outputs": [],
   "source": [
    "mymorph = Morpher(model_rucopr,mystem,pymorph )"
   ]
  },
  {
   "cell_type": "code",
   "execution_count": 22,
   "metadata": {
    "collapsed": false
   },
   "outputs": [
    {
     "name": "stdout",
     "output_type": "stream",
     "text": [
      "0\n",
      "Wall time: 3.85 s\n"
     ]
    }
   ],
   "source": [
    "%%time\n",
    "testlemotise=[mymorph.normality_me(s) for s in df.ttext.head(10)]"
   ]
  },
  {
   "cell_type": "code",
   "execution_count": 23,
   "metadata": {
    "collapsed": false
   },
   "outputs": [
    {
     "data": {
      "text/plain": [
       "['@ first_timee хоть я и школотый , но поверь , у мы то же самый : d общество профилировать предмет тип )',\n",
       " 'да , всё-таки он немного похожий на он . но мой мальчик весь равно хороший : d',\n",
       " 'rt @ katiacheh : ну ты идиотка ) я испугаться за ты ! ! !',\n",
       " \"rt @ digger2912 : `` кто то в угол сидеть и погибать от голод , а мы ещё 2 порция взять , хотя уже и так жрать не хотеть '' : dd http : //t.co/gqg6iue2…\",\n",
       " '@ irina_dyshkant вот что значит страшилка : d но блин , посмотреть весь часть , у ты создаться ощущение , что автор курить что-то : d',\n",
       " 'ну любить или нет ? — я не знать кто ты бля : d http : //t.co/brf9eng1u6',\n",
       " 'rt @ spoonlamer : ох,900 : d ну это конечно же @ twinkleayo . чтобы у нея быть много друг , ведь она такой мимими & lt ; 3',\n",
       " 'rt @ veregijytaqo : у ты есть ухажёр ? нет - мой ухо не кто не жрать : d',\n",
       " 'поприветствовать мой новое читатель @ alexey1789 ; )',\n",
       " 'теперь у я есть частичка сидней : ) # sydney # sydneyoperahouse http : //t.co/agnto3czei']"
      ]
     },
     "execution_count": 23,
     "metadata": {},
     "output_type": "execute_result"
    }
   ],
   "source": [
    "testlemotise"
   ]
  },
  {
   "cell_type": "code",
   "execution_count": 42,
   "metadata": {
    "collapsed": false
   },
   "outputs": [
    {
     "data": {
      "text/plain": [
       "'$username$ Вот что значит страшилка :D\\n yj'"
      ]
     },
     "execution_count": 42,
     "metadata": {},
     "output_type": "execute_result"
    }
   ],
   "source": [
    "re.sub('\\s\\d+\\s', '$number$', re.sub('[\\(\\)\\s09(?:\\:d+)]+', ' ', re.sub(  '@[A-Za-z\\_\\d]+', '$username$', \n",
    "                                                                                '$username$ Вот что значит страшилка :D\\n yj'), re.IGNORECASE))"
   ]
  },
  {
   "cell_type": "code",
   "execution_count": 75,
   "metadata": {
    "collapsed": true
   },
   "outputs": [],
   "source": [
    "pattern_user=re.compile('@[A-Za-z\\_\\d]+')\n",
    "pattern_num = re.compile('\\s\\d+\\s')\n",
    "pattern_smile = re.compile('[\\(\\)\\s09(?:\\:D+)(?:\\:d+)]+')"
   ]
  },
  {
   "cell_type": "code",
   "execution_count": 80,
   "metadata": {
    "collapsed": true
   },
   "outputs": [],
   "source": [
    "def preproc(s):\n",
    "    s=pattern_user.sub(' $username$ ', s)\n",
    "    s=pattern_smile.sub(' ', s)\n",
    "    s=pattern_num.sub(' $number$ ', s)\n",
    "    return s"
   ]
  },
  {
   "cell_type": "code",
   "execution_count": 81,
   "metadata": {
    "collapsed": false
   },
   "outputs": [],
   "source": [
    "df.ttext = [preproc(s) for s in df.ttext]"
   ]
  },
  {
   "cell_type": "code",
   "execution_count": 82,
   "metadata": {
    "collapsed": false
   },
   "outputs": [
    {
     "data": {
      "text/plain": [
       "0     $username$ хоть я и школота, но поверь, у нас...\n",
       "1    Да, все-таки он немного похож на него. Но мой ...\n",
       "2    RT $username$ Ну ты идиотка я испугалась за те...\n",
       "3    RT $username$ \"Кто то в углу сидит и погибает ...\n",
       "4     $username$ Вот что значит страшилка Но блин,п...\n",
       "Name: ttext, dtype: object"
      ]
     },
     "execution_count": 82,
     "metadata": {},
     "output_type": "execute_result"
    }
   ],
   "source": [
    "df.ttext.head()"
   ]
  },
  {
   "cell_type": "code",
   "execution_count": 84,
   "metadata": {
    "collapsed": false
   },
   "outputs": [
    {
     "name": "stdout",
     "output_type": "stream",
     "text": [
      "10000\n",
      "20000\n",
      "30000\n",
      "40000\n",
      "50000\n",
      "60000\n",
      "70000\n",
      "80000\n",
      "90000\n",
      "100000\n",
      "110000\n",
      "120000\n",
      "130000\n",
      "140000\n",
      "150000\n",
      "160000\n",
      "170000\n",
      "180000\n",
      "190000\n",
      "200000\n",
      "210000\n",
      "220000\n",
      "Wall time: 3h 25min 20s\n"
     ]
    }
   ],
   "source": [
    "%%time\n",
    "df['ttext_norm'] = [mymorph.normality_me(s) for s in df.ttext ]"
   ]
  },
  {
   "cell_type": "code",
   "execution_count": 85,
   "metadata": {
    "collapsed": true
   },
   "outputs": [],
   "source": [
    "import pickle"
   ]
  },
  {
   "cell_type": "code",
   "execution_count": 86,
   "metadata": {
    "collapsed": false
   },
   "outputs": [],
   "source": [
    "file = open('df', 'wb')\n",
    "pickle.dump(df,file)\n",
    "file.close()"
   ]
  },
  {
   "cell_type": "code",
   "execution_count": 87,
   "metadata": {
    "collapsed": true
   },
   "outputs": [],
   "source": [
    "from sklearn.model_selection import train_test_split\n",
    "from sklearn.metrics import confusion_matrix\n",
    "from sklearn.preprocessing import StandardScaler"
   ]
  },
  {
   "cell_type": "code",
   "execution_count": 88,
   "metadata": {
    "collapsed": true
   },
   "outputs": [],
   "source": [
    "y_tr, y_val, x_tr,  x_val = train_test_split(y, df, test_size=0.2, random_state=42 )"
   ]
  },
  {
   "cell_type": "code",
   "execution_count": 89,
   "metadata": {
    "collapsed": false
   },
   "outputs": [],
   "source": [
    "text = x_tr.ttext_norm"
   ]
  },
  {
   "cell_type": "code",
   "execution_count": 90,
   "metadata": {
    "collapsed": true
   },
   "outputs": [],
   "source": [
    "from sklearn.feature_extraction.text import CountVectorizer\n",
    "from sklearn.feature_extraction.text import TfidfVectorizer"
   ]
  },
  {
   "cell_type": "code",
   "execution_count": 91,
   "metadata": {
    "collapsed": true
   },
   "outputs": [],
   "source": [
    "from nltk.corpus import stopwords"
   ]
  },
  {
   "cell_type": "code",
   "execution_count": 92,
   "metadata": {
    "collapsed": false
   },
   "outputs": [
    {
     "data": {
      "text/plain": [
       "['и', 'в', 'во', 'не', 'что', 'он', 'на', 'я', 'с', 'со']"
      ]
     },
     "execution_count": 92,
     "metadata": {},
     "output_type": "execute_result"
    }
   ],
   "source": [
    "stopwords.words('russian')[:10]"
   ]
  },
  {
   "cell_type": "code",
   "execution_count": 93,
   "metadata": {
    "collapsed": false
   },
   "outputs": [],
   "source": [
    "countvec = CountVectorizer(min_df= 5, stop_words= stopwords.words('russian'),\n",
    "                            preprocessor= lambda s: re.sub('http',' ', s) \n",
    "                          )"
   ]
  },
  {
   "cell_type": "code",
   "execution_count": 94,
   "metadata": {
    "collapsed": true
   },
   "outputs": [],
   "source": [
    "countvec2 = CountVectorizer(min_df= 5, stop_words= stopwords.words('russian'),\n",
    "                            preprocessor= lambda s: re.sub('http',' ', s) \n",
    "                          )"
   ]
  },
  {
   "cell_type": "code",
   "execution_count": 95,
   "metadata": {
    "collapsed": true
   },
   "outputs": [],
   "source": [
    "tfidf = TfidfVectorizer(min_df= 5, stop_words= stopwords.words('russian'))"
   ]
  },
  {
   "cell_type": "code",
   "execution_count": 96,
   "metadata": {
    "collapsed": true
   },
   "outputs": [],
   "source": [
    "tfidf2 = TfidfVectorizer(min_df= 5, stop_words= stopwords.words('russian'))"
   ]
  },
  {
   "cell_type": "code",
   "execution_count": 97,
   "metadata": {
    "collapsed": false
   },
   "outputs": [
    {
     "name": "stdout",
     "output_type": "stream",
     "text": [
      "Wall time: 11.4 s\n"
     ]
    }
   ],
   "source": [
    "%%time\n",
    "data_cv      = countvec.fit_transform(x_tr.ttext)\n",
    "data_cv_norm = countvec2.fit_transform(x_tr.ttext_norm)"
   ]
  },
  {
   "cell_type": "code",
   "execution_count": 98,
   "metadata": {
    "collapsed": false
   },
   "outputs": [
    {
     "name": "stdout",
     "output_type": "stream",
     "text": [
      "Wall time: 10.8 s\n"
     ]
    }
   ],
   "source": [
    "%%time\n",
    "data_tf      = tfidf.fit_transform(x_tr.ttext)\n",
    "data_tf_norm = tfidf2.fit_transform(x_tr.ttext_norm)"
   ]
  },
  {
   "cell_type": "code",
   "execution_count": 99,
   "metadata": {
    "collapsed": true
   },
   "outputs": [],
   "source": [
    "ss_cv = StandardScaler(with_mean=False)\n",
    "ss_cv_norm = StandardScaler(with_mean=False)\n",
    "ss_tf = StandardScaler(with_mean=False)\n",
    "ss_tf_norm = StandardScaler(with_mean=False)"
   ]
  },
  {
   "cell_type": "code",
   "execution_count": 100,
   "metadata": {
    "collapsed": false
   },
   "outputs": [
    {
     "name": "stderr",
     "output_type": "stream",
     "text": [
      "D:\\distr\\anaconda\\lib\\site-packages\\sklearn\\utils\\validation.py:429: DataConversionWarning: Data with input dtype int64 was converted to float64 by StandardScaler.\n",
      "  warnings.warn(msg, _DataConversionWarning)\n"
     ]
    }
   ],
   "source": [
    "data_cv_ss=ss_cv.fit_transform(data_cv)\n",
    "data_cv_norm_ss=ss_cv_norm.fit_transform(data_cv_norm)\n",
    "data_tf_ss = ss_tf.fit_transform(data_tf)\n",
    "data_tf_norm_ss = ss_tf_norm.fit_transform(data_tf_norm)"
   ]
  },
  {
   "cell_type": "code",
   "execution_count": 101,
   "metadata": {
    "collapsed": false
   },
   "outputs": [],
   "source": [
    "from sklearn.tree import DecisionTreeClassifier\n",
    "from sklearn.linear_model import LogisticRegression"
   ]
  },
  {
   "cell_type": "code",
   "execution_count": 102,
   "metadata": {
    "collapsed": false
   },
   "outputs": [],
   "source": [
    "logreg = LogisticRegression(C=0.0001)"
   ]
  },
  {
   "cell_type": "code",
   "execution_count": 103,
   "metadata": {
    "collapsed": true
   },
   "outputs": [],
   "source": [
    "from sklearn.model_selection import cross_val_score"
   ]
  },
  {
   "cell_type": "code",
   "execution_count": 104,
   "metadata": {
    "collapsed": true
   },
   "outputs": [],
   "source": [
    "res={}"
   ]
  },
  {
   "cell_type": "code",
   "execution_count": 105,
   "metadata": {
    "collapsed": false
   },
   "outputs": [],
   "source": [
    "res['cv'] = np.mean(cross_val_score(logreg, data_cv, y_tr, cv = 5, scoring='accuracy'))"
   ]
  },
  {
   "cell_type": "code",
   "execution_count": 106,
   "metadata": {
    "collapsed": true
   },
   "outputs": [],
   "source": [
    "res['cv_ss'] = np.mean(cross_val_score(logreg, data_cv_ss, y_tr, cv = 5, scoring='accuracy'))"
   ]
  },
  {
   "cell_type": "code",
   "execution_count": 107,
   "metadata": {
    "collapsed": true
   },
   "outputs": [],
   "source": [
    "res['cv_norm_ss'] = np.mean(cross_val_score(logreg, data_cv_norm_ss, y_tr, cv = 5, scoring='accuracy'))"
   ]
  },
  {
   "cell_type": "code",
   "execution_count": 108,
   "metadata": {
    "collapsed": true
   },
   "outputs": [],
   "source": [
    "res['tf'] = np.mean(cross_val_score(logreg, data_tf, y_tr, cv = 5, scoring='accuracy'))"
   ]
  },
  {
   "cell_type": "code",
   "execution_count": 109,
   "metadata": {
    "collapsed": true
   },
   "outputs": [],
   "source": [
    "res['tf_ss'] = np.mean(cross_val_score(logreg, data_tf_ss, y_tr, cv = 5, scoring='accuracy'))"
   ]
  },
  {
   "cell_type": "code",
   "execution_count": 110,
   "metadata": {
    "collapsed": true
   },
   "outputs": [],
   "source": [
    "res['tf_norm_ss'] = np.mean(cross_val_score(logreg, data_tf_norm_ss, y_tr, cv = 5, scoring='accuracy'))"
   ]
  },
  {
   "cell_type": "code",
   "execution_count": 111,
   "metadata": {
    "collapsed": false
   },
   "outputs": [
    {
     "data": {
      "text/plain": [
       "{'cv': 0.5974143821334017,\n",
       " 'cv_norm_ss': 0.72164635558762802,\n",
       " 'cv_ss': 0.72037891024419465,\n",
       " 'tf': 0.50950861440820439,\n",
       " 'tf_norm_ss': 0.71600896223148369,\n",
       " 'tf_ss': 0.71595382117394768}"
      ]
     },
     "execution_count": 111,
     "metadata": {},
     "output_type": "execute_result"
    }
   ],
   "source": [
    "res"
   ]
  },
  {
   "cell_type": "markdown",
   "metadata": {},
   "source": [
    "### как мы видим нормализация помогла совсем чуть-чуть, больше буста дал - StandartScaler \n",
    "### tfidf чуть хуже CountVec в данном случае, думаю потому, что много опечаток, и тексты короткие"
   ]
  },
  {
   "cell_type": "code",
   "execution_count": 112,
   "metadata": {
    "collapsed": false
   },
   "outputs": [
    {
     "data": {
      "text/plain": [
       "LogisticRegression(C=0.0001, class_weight=None, dual=False,\n",
       "          fit_intercept=True, intercept_scaling=1, max_iter=100,\n",
       "          multi_class='ovr', n_jobs=1, penalty='l2', random_state=None,\n",
       "          solver='liblinear', tol=0.0001, verbose=0, warm_start=False)"
      ]
     },
     "execution_count": 112,
     "metadata": {},
     "output_type": "execute_result"
    }
   ],
   "source": [
    "logreg.fit(data_cv_norm_ss, y_tr)"
   ]
  },
  {
   "cell_type": "code",
   "execution_count": 115,
   "metadata": {
    "collapsed": false
   },
   "outputs": [
    {
     "data": {
      "text/plain": [
       "array([[-0.14785172, -0.12358586, -0.11852034, ...,  0.11628097,\n",
       "         0.15191541,  0.18309084]])"
      ]
     },
     "execution_count": 115,
     "metadata": {},
     "output_type": "execute_result"
    }
   ],
   "source": [
    "logreg.coef_[0,np.argsort(logreg.coef_)]"
   ]
  },
  {
   "cell_type": "code",
   "execution_count": 116,
   "metadata": {
    "collapsed": false
   },
   "outputs": [],
   "source": [
    "features = np.array(countvec2.get_feature_names())"
   ]
  },
  {
   "cell_type": "code",
   "execution_count": 117,
   "metadata": {
    "collapsed": false
   },
   "outputs": [
    {
     "ename": "NameError",
     "evalue": "name 'logreg2' is not defined",
     "output_type": "error",
     "traceback": [
      "\u001b[1;31m---------------------------------------------------------------------------\u001b[0m",
      "\u001b[1;31mNameError\u001b[0m                                 Traceback (most recent call last)",
      "\u001b[1;32m<ipython-input-117-2975630b1e61>\u001b[0m in \u001b[0;36m<module>\u001b[1;34m()\u001b[0m\n\u001b[1;32m----> 1\u001b[1;33m \u001b[0marr\u001b[0m\u001b[1;33m=\u001b[0m \u001b[0mnp\u001b[0m\u001b[1;33m.\u001b[0m\u001b[0mabs\u001b[0m\u001b[1;33m(\u001b[0m\u001b[0mlogreg2\u001b[0m\u001b[1;33m.\u001b[0m\u001b[0mcoef_\u001b[0m\u001b[1;33m)\u001b[0m\u001b[1;33m\u001b[0m\u001b[0m\n\u001b[0m",
      "\u001b[1;31mNameError\u001b[0m: name 'logreg2' is not defined"
     ]
    }
   ],
   "source": [
    "arr= np.abs(logreg.coef_)"
   ]
  },
  {
   "cell_type": "code",
   "execution_count": 430,
   "metadata": {
    "collapsed": true
   },
   "outputs": [],
   "source": [
    "indexes = arr.argsort()"
   ]
  },
  {
   "cell_type": "code",
   "execution_count": 431,
   "metadata": {
    "collapsed": false
   },
   "outputs": [
    {
     "data": {
      "text/plain": [
       "array([21639,     0, 21638,     1, 21637,     2,     3,     4,     5,\n",
       "           6,     7, 21636, 21635,     8, 21634,     9,    10, 21633,\n",
       "          11,    12], dtype=int64)"
      ]
     },
     "execution_count": 431,
     "metadata": {},
     "output_type": "execute_result"
    }
   ],
   "source": [
    "indexes[0,-20:][::-1]"
   ]
  },
  {
   "cell_type": "code",
   "execution_count": 432,
   "metadata": {
    "collapsed": false
   },
   "outputs": [
    {
     "data": {
      "text/plain": [
       "array([ 0.18139612, -0.14777354,  0.13342191, -0.12512714,  0.12282642,\n",
       "       -0.11866454, -0.11834752, -0.11273263, -0.10497601, -0.10066051,\n",
       "       -0.09639302,  0.09156947,  0.08878459, -0.08820877,  0.08703229,\n",
       "       -0.08372495, -0.08333463,  0.07566398, -0.07232287, -0.07065004])"
      ]
     },
     "execution_count": 432,
     "metadata": {},
     "output_type": "execute_result"
    }
   ],
   "source": [
    "logreg2.coef_[0,indexes[0,-20:][::-1]]"
   ]
  },
  {
   "cell_type": "code",
   "execution_count": 433,
   "metadata": {
    "collapsed": false
   },
   "outputs": [
    {
     "data": {
      "text/plain": [
       "array(['өөрөө', '00', 'өөрсдийгөө', '000', 'өөрийгөө', '0000',\n",
       "       '000nana000', '00darya', '00okaay', '01', '02', 'өөр', 'өө', '03',\n",
       "       'өнөөдөр', '04', '05', 'өмнө', '06', '07'],\n",
       "      dtype='<U33')"
      ]
     },
     "execution_count": 433,
     "metadata": {},
     "output_type": "execute_result"
    }
   ],
   "source": [
    "features[indexes[0,-20:][::-1]]"
   ]
  },
  {
   "cell_type": "code",
   "execution_count": 435,
   "metadata": {
    "collapsed": false
   },
   "outputs": [],
   "source": [
    "feature_imp = np.vstack((features[indexes[0,-20:][::-1]],    logreg2.coef_[0,indexes[0,-20:][::-1]]))"
   ]
  },
  {
   "cell_type": "code",
   "execution_count": 436,
   "metadata": {
    "collapsed": false
   },
   "outputs": [
    {
     "data": {
      "text/plain": [
       "array([['өөрөө', '0.18139611783258958'],\n",
       "       ['00', '-0.14777354205522386'],\n",
       "       ['өөрсдийгөө', '0.13342190647512253'],\n",
       "       ['000', '-0.12512713594840152'],\n",
       "       ['өөрийгөө', '0.12282641567570128'],\n",
       "       ['0000', '-0.11866454324548698'],\n",
       "       ['000nana000', '-0.11834752316401838'],\n",
       "       ['00darya', '-0.11273263373450153'],\n",
       "       ['00okaay', '-0.1049760075425699'],\n",
       "       ['01', '-0.10066050547392473'],\n",
       "       ['02', '-0.09639302225164473'],\n",
       "       ['өөр', '0.09156946634552089'],\n",
       "       ['өө', '0.08878458992383059'],\n",
       "       ['03', '-0.08820876647269975'],\n",
       "       ['өнөөдөр', '0.08703228719052573'],\n",
       "       ['04', '-0.08372494731861087'],\n",
       "       ['05', '-0.08333463253976603'],\n",
       "       ['өмнө', '0.07566397929019616'],\n",
       "       ['06', '-0.07232286860019824'],\n",
       "       ['07', '-0.07065003691034456']],\n",
       "      dtype='<U33')"
      ]
     },
     "execution_count": 436,
     "metadata": {},
     "output_type": "execute_result"
    }
   ],
   "source": [
    "feature_imp.T"
   ]
  },
  {
   "cell_type": "code",
   "execution_count": 297,
   "metadata": {
    "collapsed": true
   },
   "outputs": [],
   "source": [
    "from  sklearn.metrics import confusion_matrix"
   ]
  },
  {
   "cell_type": "code",
   "execution_count": 298,
   "metadata": {
    "collapsed": false
   },
   "outputs": [
    {
     "name": "stderr",
     "output_type": "stream",
     "text": [
      "D:\\distr\\anaconda\\lib\\site-packages\\sklearn\\utils\\validation.py:429: DataConversionWarning: Data with input dtype int64 was converted to float64 by StandardScaler.\n",
      "  warnings.warn(msg, _DataConversionWarning)\n"
     ]
    }
   ],
   "source": [
    "data_cv_norm_ss_val = ss_cv_norm.transform(countvec2.transform(x_val.ttext_norm))"
   ]
  },
  {
   "cell_type": "code",
   "execution_count": 306,
   "metadata": {
    "collapsed": true
   },
   "outputs": [],
   "source": [
    "prediction_cv_norm_ss_val= logreg.predict(data_cv_norm_ss_val)"
   ]
  },
  {
   "cell_type": "code",
   "execution_count": 307,
   "metadata": {
    "collapsed": false
   },
   "outputs": [
    {
     "data": {
      "text/plain": [
       "array([[16181,  5645],\n",
       "       [ 6299, 17242]])"
      ]
     },
     "execution_count": 307,
     "metadata": {},
     "output_type": "execute_result"
    }
   ],
   "source": [
    "confusion_matrix(prediction_cv_norm_ss_val, y_val)"
   ]
  },
  {
   "cell_type": "code",
   "execution_count": null,
   "metadata": {
    "collapsed": true
   },
   "outputs": [],
   "source": []
  }
 ],
 "metadata": {
  "kernelspec": {
   "display_name": "Python 3",
   "language": "python",
   "name": "python3"
  },
  "language_info": {
   "codemirror_mode": {
    "name": "ipython",
    "version": 3
   },
   "file_extension": ".py",
   "mimetype": "text/x-python",
   "name": "python",
   "nbconvert_exporter": "python",
   "pygments_lexer": "ipython3",
   "version": "3.6.2"
  }
 },
 "nbformat": 4,
 "nbformat_minor": 2
}
