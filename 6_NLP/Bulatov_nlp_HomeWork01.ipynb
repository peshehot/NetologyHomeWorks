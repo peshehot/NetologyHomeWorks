{
 "cells": [
  {
   "cell_type": "code",
   "execution_count": 1,
   "metadata": {
    "collapsed": true
   },
   "outputs": [],
   "source": [
    "import numpy as np\n",
    "import re\n",
    "import pandas as pd\n",
    "import os\n",
    "os.environ[\"PATH\"] += os.pathsep + 'D:/Program Files (x86)/Graphviz2.38/bin/' "
   ]
  },
  {
   "cell_type": "code",
   "execution_count": 2,
   "metadata": {
    "collapsed": false
   },
   "outputs": [],
   "source": [
    "df_neg = pd.read_csv('negative.csv', delimiter=';',header=None )\n",
    "df_pos = pd.read_csv('positive.csv', delimiter=';',header=None )"
   ]
  },
  {
   "cell_type": "code",
   "execution_count": 3,
   "metadata": {
    "collapsed": false
   },
   "outputs": [],
   "source": [
    "df_neg.columns = ['id','tdate','tmane','ttext','ttype','trep','trtw','tfav','tstcount','tfol','tfrien','listcount']\n",
    "df_pos.columns = ['id','tdate','tmane','ttext','ttype','trep','trtw','tfav','tstcount','tfol','tfrien','listcount']"
   ]
  },
  {
   "cell_type": "code",
   "execution_count": 4,
   "metadata": {
    "collapsed": false
   },
   "outputs": [
    {
     "data": {
      "text/html": [
       "<div>\n",
       "<style>\n",
       "    .dataframe thead tr:only-child th {\n",
       "        text-align: right;\n",
       "    }\n",
       "\n",
       "    .dataframe thead th {\n",
       "        text-align: left;\n",
       "    }\n",
       "\n",
       "    .dataframe tbody tr th {\n",
       "        vertical-align: top;\n",
       "    }\n",
       "</style>\n",
       "<table border=\"1\" class=\"dataframe\">\n",
       "  <thead>\n",
       "    <tr style=\"text-align: right;\">\n",
       "      <th></th>\n",
       "      <th>id</th>\n",
       "      <th>tdate</th>\n",
       "      <th>tmane</th>\n",
       "      <th>ttext</th>\n",
       "      <th>ttype</th>\n",
       "      <th>trep</th>\n",
       "      <th>trtw</th>\n",
       "      <th>tfav</th>\n",
       "      <th>tstcount</th>\n",
       "      <th>tfol</th>\n",
       "      <th>tfrien</th>\n",
       "      <th>listcount</th>\n",
       "    </tr>\n",
       "  </thead>\n",
       "  <tbody>\n",
       "    <tr>\n",
       "      <th>0</th>\n",
       "      <td>408906762813579264</td>\n",
       "      <td>1386325944</td>\n",
       "      <td>dugarchikbellko</td>\n",
       "      <td>на работе был полный пиддес :| и так каждое за...</td>\n",
       "      <td>-1</td>\n",
       "      <td>0</td>\n",
       "      <td>0</td>\n",
       "      <td>0</td>\n",
       "      <td>8064</td>\n",
       "      <td>111</td>\n",
       "      <td>94</td>\n",
       "      <td>2</td>\n",
       "    </tr>\n",
       "    <tr>\n",
       "      <th>1</th>\n",
       "      <td>408906818262687744</td>\n",
       "      <td>1386325957</td>\n",
       "      <td>nugemycejela</td>\n",
       "      <td>Коллеги сидят рубятся в Urban terror, а я из-з...</td>\n",
       "      <td>-1</td>\n",
       "      <td>0</td>\n",
       "      <td>0</td>\n",
       "      <td>0</td>\n",
       "      <td>26</td>\n",
       "      <td>42</td>\n",
       "      <td>39</td>\n",
       "      <td>0</td>\n",
       "    </tr>\n",
       "    <tr>\n",
       "      <th>2</th>\n",
       "      <td>408906858515398656</td>\n",
       "      <td>1386325966</td>\n",
       "      <td>4post21</td>\n",
       "      <td>@elina_4post как говорят обещаного три года жд...</td>\n",
       "      <td>-1</td>\n",
       "      <td>0</td>\n",
       "      <td>0</td>\n",
       "      <td>0</td>\n",
       "      <td>718</td>\n",
       "      <td>49</td>\n",
       "      <td>249</td>\n",
       "      <td>0</td>\n",
       "    </tr>\n",
       "    <tr>\n",
       "      <th>3</th>\n",
       "      <td>408906914437685248</td>\n",
       "      <td>1386325980</td>\n",
       "      <td>Poliwake</td>\n",
       "      <td>Желаю хорошего полёта и удачной посадки,я буду...</td>\n",
       "      <td>-1</td>\n",
       "      <td>0</td>\n",
       "      <td>0</td>\n",
       "      <td>0</td>\n",
       "      <td>10628</td>\n",
       "      <td>207</td>\n",
       "      <td>200</td>\n",
       "      <td>0</td>\n",
       "    </tr>\n",
       "    <tr>\n",
       "      <th>4</th>\n",
       "      <td>408906914723295232</td>\n",
       "      <td>1386325980</td>\n",
       "      <td>capyvixowe</td>\n",
       "      <td>Обновил за каким-то лешим surf, теперь не рабо...</td>\n",
       "      <td>-1</td>\n",
       "      <td>0</td>\n",
       "      <td>0</td>\n",
       "      <td>0</td>\n",
       "      <td>35</td>\n",
       "      <td>17</td>\n",
       "      <td>34</td>\n",
       "      <td>0</td>\n",
       "    </tr>\n",
       "  </tbody>\n",
       "</table>\n",
       "</div>"
      ],
      "text/plain": [
       "                   id       tdate            tmane  \\\n",
       "0  408906762813579264  1386325944  dugarchikbellko   \n",
       "1  408906818262687744  1386325957     nugemycejela   \n",
       "2  408906858515398656  1386325966          4post21   \n",
       "3  408906914437685248  1386325980         Poliwake   \n",
       "4  408906914723295232  1386325980       capyvixowe   \n",
       "\n",
       "                                               ttext  ttype  trep  trtw  tfav  \\\n",
       "0  на работе был полный пиддес :| и так каждое за...     -1     0     0     0   \n",
       "1  Коллеги сидят рубятся в Urban terror, а я из-з...     -1     0     0     0   \n",
       "2  @elina_4post как говорят обещаного три года жд...     -1     0     0     0   \n",
       "3  Желаю хорошего полёта и удачной посадки,я буду...     -1     0     0     0   \n",
       "4  Обновил за каким-то лешим surf, теперь не рабо...     -1     0     0     0   \n",
       "\n",
       "   tstcount  tfol  tfrien  listcount  \n",
       "0      8064   111      94          2  \n",
       "1        26    42      39          0  \n",
       "2       718    49     249          0  \n",
       "3     10628   207     200          0  \n",
       "4        35    17      34          0  "
      ]
     },
     "execution_count": 4,
     "metadata": {},
     "output_type": "execute_result"
    }
   ],
   "source": [
    "df_neg.head()"
   ]
  },
  {
   "cell_type": "code",
   "execution_count": 5,
   "metadata": {
    "collapsed": false
   },
   "outputs": [
    {
     "data": {
      "text/html": [
       "<div>\n",
       "<style>\n",
       "    .dataframe thead tr:only-child th {\n",
       "        text-align: right;\n",
       "    }\n",
       "\n",
       "    .dataframe thead th {\n",
       "        text-align: left;\n",
       "    }\n",
       "\n",
       "    .dataframe tbody tr th {\n",
       "        vertical-align: top;\n",
       "    }\n",
       "</style>\n",
       "<table border=\"1\" class=\"dataframe\">\n",
       "  <thead>\n",
       "    <tr style=\"text-align: right;\">\n",
       "      <th></th>\n",
       "      <th>id</th>\n",
       "      <th>tdate</th>\n",
       "      <th>tmane</th>\n",
       "      <th>ttext</th>\n",
       "      <th>ttype</th>\n",
       "      <th>trep</th>\n",
       "      <th>trtw</th>\n",
       "      <th>tfav</th>\n",
       "      <th>tstcount</th>\n",
       "      <th>tfol</th>\n",
       "      <th>tfrien</th>\n",
       "      <th>listcount</th>\n",
       "    </tr>\n",
       "  </thead>\n",
       "  <tbody>\n",
       "    <tr>\n",
       "      <th>0</th>\n",
       "      <td>408906692374446080</td>\n",
       "      <td>1386325927</td>\n",
       "      <td>pleease_shut_up</td>\n",
       "      <td>@first_timee хоть я и школота, но поверь, у на...</td>\n",
       "      <td>1</td>\n",
       "      <td>0</td>\n",
       "      <td>0</td>\n",
       "      <td>0</td>\n",
       "      <td>7569</td>\n",
       "      <td>62</td>\n",
       "      <td>61</td>\n",
       "      <td>0</td>\n",
       "    </tr>\n",
       "    <tr>\n",
       "      <th>1</th>\n",
       "      <td>408906692693221377</td>\n",
       "      <td>1386325927</td>\n",
       "      <td>alinakirpicheva</td>\n",
       "      <td>Да, все-таки он немного похож на него. Но мой ...</td>\n",
       "      <td>1</td>\n",
       "      <td>0</td>\n",
       "      <td>0</td>\n",
       "      <td>0</td>\n",
       "      <td>11825</td>\n",
       "      <td>59</td>\n",
       "      <td>31</td>\n",
       "      <td>2</td>\n",
       "    </tr>\n",
       "    <tr>\n",
       "      <th>2</th>\n",
       "      <td>408906695083954177</td>\n",
       "      <td>1386325927</td>\n",
       "      <td>EvgeshaRe</td>\n",
       "      <td>RT @KatiaCheh: Ну ты идиотка) я испугалась за ...</td>\n",
       "      <td>1</td>\n",
       "      <td>0</td>\n",
       "      <td>1</td>\n",
       "      <td>0</td>\n",
       "      <td>1273</td>\n",
       "      <td>26</td>\n",
       "      <td>27</td>\n",
       "      <td>0</td>\n",
       "    </tr>\n",
       "    <tr>\n",
       "      <th>3</th>\n",
       "      <td>408906695356973056</td>\n",
       "      <td>1386325927</td>\n",
       "      <td>ikonnikova_21</td>\n",
       "      <td>RT @digger2912: \"Кто то в углу сидит и погибае...</td>\n",
       "      <td>1</td>\n",
       "      <td>0</td>\n",
       "      <td>1</td>\n",
       "      <td>0</td>\n",
       "      <td>1549</td>\n",
       "      <td>19</td>\n",
       "      <td>17</td>\n",
       "      <td>0</td>\n",
       "    </tr>\n",
       "    <tr>\n",
       "      <th>4</th>\n",
       "      <td>408906761416867842</td>\n",
       "      <td>1386325943</td>\n",
       "      <td>JumpyAlex</td>\n",
       "      <td>@irina_dyshkant Вот что значит страшилка :D\\nН...</td>\n",
       "      <td>1</td>\n",
       "      <td>0</td>\n",
       "      <td>0</td>\n",
       "      <td>0</td>\n",
       "      <td>597</td>\n",
       "      <td>16</td>\n",
       "      <td>23</td>\n",
       "      <td>1</td>\n",
       "    </tr>\n",
       "  </tbody>\n",
       "</table>\n",
       "</div>"
      ],
      "text/plain": [
       "                   id       tdate            tmane  \\\n",
       "0  408906692374446080  1386325927  pleease_shut_up   \n",
       "1  408906692693221377  1386325927  alinakirpicheva   \n",
       "2  408906695083954177  1386325927        EvgeshaRe   \n",
       "3  408906695356973056  1386325927    ikonnikova_21   \n",
       "4  408906761416867842  1386325943        JumpyAlex   \n",
       "\n",
       "                                               ttext  ttype  trep  trtw  tfav  \\\n",
       "0  @first_timee хоть я и школота, но поверь, у на...      1     0     0     0   \n",
       "1  Да, все-таки он немного похож на него. Но мой ...      1     0     0     0   \n",
       "2  RT @KatiaCheh: Ну ты идиотка) я испугалась за ...      1     0     1     0   \n",
       "3  RT @digger2912: \"Кто то в углу сидит и погибае...      1     0     1     0   \n",
       "4  @irina_dyshkant Вот что значит страшилка :D\\nН...      1     0     0     0   \n",
       "\n",
       "   tstcount  tfol  tfrien  listcount  \n",
       "0      7569    62      61          0  \n",
       "1     11825    59      31          2  \n",
       "2      1273    26      27          0  \n",
       "3      1549    19      17          0  \n",
       "4       597    16      23          1  "
      ]
     },
     "execution_count": 5,
     "metadata": {},
     "output_type": "execute_result"
    }
   ],
   "source": [
    "df_pos.head()"
   ]
  },
  {
   "cell_type": "code",
   "execution_count": 6,
   "metadata": {
    "collapsed": false
   },
   "outputs": [],
   "source": [
    "df =pd.concat((df_pos, df_neg), axis=0)"
   ]
  },
  {
   "cell_type": "code",
   "execution_count": 7,
   "metadata": {
    "collapsed": true
   },
   "outputs": [],
   "source": [
    "y =df.ttype"
   ]
  },
  {
   "cell_type": "code",
   "execution_count": 8,
   "metadata": {
    "collapsed": false
   },
   "outputs": [],
   "source": [
    "del df['ttype']"
   ]
  },
  {
   "cell_type": "code",
   "execution_count": 9,
   "metadata": {
    "collapsed": false
   },
   "outputs": [],
   "source": [
    "df.drop(['id', 'tdate'], inplace=True)"
   ]
  },
  {
   "cell_type": "code",
   "execution_count": 10,
   "metadata": {
    "collapsed": false
   },
   "outputs": [
    {
     "name": "stdout",
     "output_type": "stream",
     "text": [
      "<class 'pandas.core.frame.DataFrame'>\n",
      "Int64Index: 226834 entries, 0 to 111922\n",
      "Data columns (total 11 columns):\n",
      "id           226834 non-null int64\n",
      "tdate        226834 non-null int64\n",
      "tmane        226834 non-null object\n",
      "ttext        226834 non-null object\n",
      "trep         226834 non-null int64\n",
      "trtw         226834 non-null int64\n",
      "tfav         226834 non-null int64\n",
      "tstcount     226834 non-null int64\n",
      "tfol         226834 non-null int64\n",
      "tfrien       226834 non-null int64\n",
      "listcount    226834 non-null int64\n",
      "dtypes: int64(9), object(2)\n",
      "memory usage: 20.8+ MB\n"
     ]
    }
   ],
   "source": [
    "df.info()"
   ]
  },
  {
   "cell_type": "code",
   "execution_count": 11,
   "metadata": {
    "collapsed": false
   },
   "outputs": [
    {
     "data": {
      "text/plain": [
       "139658"
      ]
     },
     "execution_count": 11,
     "metadata": {},
     "output_type": "execute_result"
    }
   ],
   "source": [
    "df.tmane.nunique()"
   ]
  },
  {
   "cell_type": "code",
   "execution_count": 12,
   "metadata": {
    "collapsed": true
   },
   "outputs": [],
   "source": [
    "df.drop(['tmane'], inplace=True)"
   ]
  },
  {
   "cell_type": "code",
   "execution_count": null,
   "metadata": {
    "collapsed": false
   },
   "outputs": [],
   "source": []
  },
  {
   "cell_type": "code",
   "execution_count": 13,
   "metadata": {
    "collapsed": true
   },
   "outputs": [],
   "source": [
    "import matplotlib\n",
    "import seaborn as sns"
   ]
  },
  {
   "cell_type": "code",
   "execution_count": 14,
   "metadata": {
    "collapsed": true
   },
   "outputs": [],
   "source": [
    "%config InlineBackend.figure_format = 'png' \n",
    "sns_plot = sns.pairplot(\n",
    "    df);\n",
    "sns_plot.savefig('pairplot.png')"
   ]
  },
  {
   "cell_type": "code",
   "execution_count": 15,
   "metadata": {
    "collapsed": true
   },
   "outputs": [],
   "source": [
    "from sklearn.model_selection import train_test_split\n",
    "from sklearn.metrics import confusion_matrix\n",
    "from sklearn.preprocessing import StandardScaler"
   ]
  },
  {
   "cell_type": "code",
   "execution_count": 16,
   "metadata": {
    "collapsed": true
   },
   "outputs": [],
   "source": [
    "y_tr, y_val, x_tr,  x_val = train_test_split(y, df, test_size=0.2, random_state=42 )"
   ]
  },
  {
   "cell_type": "code",
   "execution_count": 446,
   "metadata": {
    "collapsed": false
   },
   "outputs": [],
   "source": [
    "text = x_tr.ttext"
   ]
  },
  {
   "cell_type": "code",
   "execution_count": 447,
   "metadata": {
    "collapsed": true
   },
   "outputs": [],
   "source": [
    "from sklearn.feature_extraction.text import CountVectorizer"
   ]
  },
  {
   "cell_type": "code",
   "execution_count": 448,
   "metadata": {
    "collapsed": true
   },
   "outputs": [],
   "source": [
    "from nltk.corpus import stopwords"
   ]
  },
  {
   "cell_type": "code",
   "execution_count": 449,
   "metadata": {
    "collapsed": false
   },
   "outputs": [
    {
     "data": {
      "text/plain": [
       "['и', 'в', 'во', 'не', 'что', 'он', 'на', 'я', 'с', 'со']"
      ]
     },
     "execution_count": 449,
     "metadata": {},
     "output_type": "execute_result"
    }
   ],
   "source": [
    "stopwords.words('russian')[:10]"
   ]
  },
  {
   "cell_type": "code",
   "execution_count": 450,
   "metadata": {
    "collapsed": false
   },
   "outputs": [],
   "source": [
    "re_positive= re.compile('([\\:;]*\\-*[\\)]+)|([\\)D\\*]+\\-*\\:)|(\\^\\_\\^)|(\\:\\-*[d\\*])', re.IGNORECASE)\n",
    "re_negative = re.compile('(\\:*\\-*[(]+)|([\\)D]+\\-*\\:)|(\\:-*\\|)|(\\:\\-\\/)', re.IGNORECASE)\n",
    "re_voscl =  re.compile('\\!+')\n",
    "re_users = re.compile('(@[\\w\\_]+)')\n",
    "re_newline = re.compile('[\\n\\r]')\n"
   ]
  },
  {
   "cell_type": "code",
   "execution_count": 451,
   "metadata": {
    "collapsed": true
   },
   "outputs": [],
   "source": [
    "def preProcess(s):\n",
    "    s= re_newline.sub(' ', s)\n",
    "    s= re_users.sub(' $USER$ ', s)    \n",
    "    s= re_positive.sub(' $POSITIVE$ ', s)\n",
    "    s= re_negative.sub(' $NEGATIVE$ ', s)\n",
    "    s= re_voscl.sub(' ! ', s)\n",
    "\n",
    "    return s.lower()"
   ]
  },
  {
   "cell_type": "code",
   "execution_count": 452,
   "metadata": {
    "collapsed": false
   },
   "outputs": [],
   "source": [
    "#list(filter(None,re.split('([^а-яА-Я\\s]+)|\\s+', s)) )"
   ]
  },
  {
   "cell_type": "code",
   "execution_count": 541,
   "metadata": {
    "collapsed": false
   },
   "outputs": [],
   "source": [
    "countvec = CountVectorizer(min_df= 5, stop_words= stopwords.words('russian'),\n",
    "                           preprocessor= preProcess,\n",
    "                           tokenizer= lambda s: list(filter(None,re.split('([^а-яА-Я\\s\\d]+)|[\\s+\\.\\!]', s))) ,\n",
    "#                           token_pattern='(?u)\\\\b[\\\\w\\\\$\\\\!]{2,}\\\\b',\n",
    "                           \n",
    "                          )"
   ]
  },
  {
   "cell_type": "code",
   "execution_count": 542,
   "metadata": {
    "collapsed": false
   },
   "outputs": [],
   "source": [
    "countvec2 = CountVectorizer(min_df= 5, stop_words= stopwords.words('russian'),\n",
    "                            preprocessor= lambda s: re.sub('http',' ', s) \n",
    "                          )"
   ]
  },
  {
   "cell_type": "code",
   "execution_count": 543,
   "metadata": {
    "collapsed": false
   },
   "outputs": [
    {
     "name": "stdout",
     "output_type": "stream",
     "text": [
      "Wall time: 15 s\n"
     ]
    },
    {
     "data": {
      "text/plain": [
       "CountVectorizer(analyzer='word', binary=False, decode_error='strict',\n",
       "        dtype=<class 'numpy.int64'>, encoding='utf-8', input='content',\n",
       "        lowercase=True, max_df=1.0, max_features=None, min_df=5,\n",
       "        ngram_range=(1, 1),\n",
       "        preprocessor=<function preProcess at 0x000000004DF3E7B8>,\n",
       "        stop_words=['и', 'в', 'во', 'не', 'что', 'он', 'на', 'я', 'с', 'со', 'как', 'а', 'то', 'все', 'она', 'так', 'его', 'но', 'да', 'ты', 'к', 'у', 'же', 'вы', 'за', 'бы', 'по', 'только', 'ее', 'мне', 'было', 'вот', 'от', 'меня', 'еще', 'нет', 'о', 'из', 'ему', 'теперь', 'когда', 'даже', 'ну', 'вдруг', '...гда', 'лучше', 'чуть', 'том', 'нельзя', 'такой', 'им', 'более', 'всегда', 'конечно', 'всю', 'между'],\n",
       "        strip_accents=None, token_pattern='(?u)\\\\b\\\\w\\\\w+\\\\b',\n",
       "        tokenizer=<function <lambda> at 0x0000000046801158>,\n",
       "        vocabulary=None)"
      ]
     },
     "execution_count": 543,
     "metadata": {},
     "output_type": "execute_result"
    }
   ],
   "source": [
    "%%time\n",
    "countvec.fit(x_tr.ttext)"
   ]
  },
  {
   "cell_type": "code",
   "execution_count": 544,
   "metadata": {
    "collapsed": false
   },
   "outputs": [
    {
     "name": "stdout",
     "output_type": "stream",
     "text": [
      "Wall time: 5.46 s\n"
     ]
    },
    {
     "data": {
      "text/plain": [
       "CountVectorizer(analyzer='word', binary=False, decode_error='strict',\n",
       "        dtype=<class 'numpy.int64'>, encoding='utf-8', input='content',\n",
       "        lowercase=True, max_df=1.0, max_features=None, min_df=5,\n",
       "        ngram_range=(1, 1),\n",
       "        preprocessor=<function <lambda> at 0x0000000046801598>,\n",
       "        stop_words=['и', 'в', 'во', 'не', 'что', 'он', 'на', 'я', 'с', 'со', 'как', 'а', 'то', 'все', 'она', 'так', 'его', 'но', 'да', 'ты', 'к', 'у', 'же', 'вы', 'за', 'бы', 'по', 'только', 'ее', 'мне', 'было', 'вот', 'от', 'меня', 'еще', 'нет', 'о', 'из', 'ему', 'теперь', 'когда', 'даже', 'ну', 'вдруг', '...гда', 'лучше', 'чуть', 'том', 'нельзя', 'такой', 'им', 'более', 'всегда', 'конечно', 'всю', 'между'],\n",
       "        strip_accents=None, token_pattern='(?u)\\\\b\\\\w\\\\w+\\\\b',\n",
       "        tokenizer=None, vocabulary=None)"
      ]
     },
     "execution_count": 544,
     "metadata": {},
     "output_type": "execute_result"
    }
   ],
   "source": [
    "%%time\n",
    "countvec2.fit(x_tr.ttext)"
   ]
  },
  {
   "cell_type": "code",
   "execution_count": 545,
   "metadata": {
    "collapsed": false
   },
   "outputs": [],
   "source": [
    "data = countvec.transform(x_tr.ttext)"
   ]
  },
  {
   "cell_type": "code",
   "execution_count": 546,
   "metadata": {
    "collapsed": false
   },
   "outputs": [],
   "source": [
    "data2 = countvec2.transform(x_tr.ttext)"
   ]
  },
  {
   "cell_type": "code",
   "execution_count": 547,
   "metadata": {
    "collapsed": true
   },
   "outputs": [],
   "source": [
    "from sklearn.tree import DecisionTreeClassifier"
   ]
  },
  {
   "cell_type": "code",
   "execution_count": 575,
   "metadata": {
    "collapsed": true
   },
   "outputs": [],
   "source": [
    "tree = DecisionTreeClassifier(max_depth=3,  min_samples_leaf=10)"
   ]
  },
  {
   "cell_type": "code",
   "execution_count": 576,
   "metadata": {
    "collapsed": true
   },
   "outputs": [],
   "source": [
    "tree2 = DecisionTreeClassifier(min_samples_leaf=10, min_samples_split=50)"
   ]
  },
  {
   "cell_type": "code",
   "execution_count": 577,
   "metadata": {
    "collapsed": true
   },
   "outputs": [],
   "source": [
    "from sklearn.model_selection import cross_val_score"
   ]
  },
  {
   "cell_type": "code",
   "execution_count": 578,
   "metadata": {
    "collapsed": false
   },
   "outputs": [],
   "source": [
    "res = cross_val_score(tree, data, y_tr, cv = 5, scoring='accuracy')"
   ]
  },
  {
   "cell_type": "code",
   "execution_count": 579,
   "metadata": {
    "collapsed": false
   },
   "outputs": [
    {
     "data": {
      "text/plain": [
       "array([ 1.        ,  0.99994489,  0.99997245,  0.99991734,  0.99994489])"
      ]
     },
     "execution_count": 579,
     "metadata": {},
     "output_type": "execute_result"
    }
   ],
   "source": [
    "res"
   ]
  },
  {
   "cell_type": "code",
   "execution_count": 580,
   "metadata": {
    "collapsed": true
   },
   "outputs": [],
   "source": [
    "res2 = cross_val_score(tree2, data2, y_tr, cv = 5, scoring='accuracy')"
   ]
  },
  {
   "cell_type": "code",
   "execution_count": 581,
   "metadata": {
    "collapsed": false
   },
   "outputs": [
    {
     "data": {
      "text/plain": [
       "array([ 0.6665289 ,  0.66955971,  0.6749876 ,  0.66910975,  0.67257247])"
      ]
     },
     "execution_count": 581,
     "metadata": {},
     "output_type": "execute_result"
    }
   ],
   "source": [
    "res2  # с обычной токинизацией это почти монетка, а со смайликами почти сто процентное попадание"
   ]
  },
  {
   "cell_type": "code",
   "execution_count": 554,
   "metadata": {
    "collapsed": true
   },
   "outputs": [],
   "source": [
    "from  sklearn.metrics import confusion_matrix"
   ]
  },
  {
   "cell_type": "code",
   "execution_count": 582,
   "metadata": {
    "collapsed": false
   },
   "outputs": [
    {
     "data": {
      "text/plain": [
       "DecisionTreeClassifier(class_weight=None, criterion='gini', max_depth=3,\n",
       "            max_features=None, max_leaf_nodes=None,\n",
       "            min_impurity_split=1e-07, min_samples_leaf=10,\n",
       "            min_samples_split=2, min_weight_fraction_leaf=0.0,\n",
       "            presort=False, random_state=None, splitter='best')"
      ]
     },
     "execution_count": 582,
     "metadata": {},
     "output_type": "execute_result"
    }
   ],
   "source": [
    "%%time\n",
    "tree.fit(data, y_tr)"
   ]
  },
  {
   "cell_type": "code",
   "execution_count": 584,
   "metadata": {
    "collapsed": false
   },
   "outputs": [
    {
     "name": "stdout",
     "output_type": "stream",
     "text": [
      "Wall time: 1min 26s\n"
     ]
    },
    {
     "data": {
      "text/plain": [
       "DecisionTreeClassifier(class_weight=None, criterion='gini', max_depth=None,\n",
       "            max_features=None, max_leaf_nodes=None,\n",
       "            min_impurity_split=1e-07, min_samples_leaf=10,\n",
       "            min_samples_split=50, min_weight_fraction_leaf=0.0,\n",
       "            presort=False, random_state=None, splitter='best')"
      ]
     },
     "execution_count": 584,
     "metadata": {},
     "output_type": "execute_result"
    }
   ],
   "source": [
    "%%time\n",
    "tree2.fit(data2, y_tr)"
   ]
  },
  {
   "cell_type": "code",
   "execution_count": 585,
   "metadata": {
    "collapsed": true
   },
   "outputs": [],
   "source": [
    "data_val =  countvec.transform(x_val.ttext)\n",
    "data2_val = countvec2.transform(x_val.ttext)"
   ]
  },
  {
   "cell_type": "code",
   "execution_count": 586,
   "metadata": {
    "collapsed": false
   },
   "outputs": [
    {
     "data": {
      "text/plain": [
       "(45367, 29110)"
      ]
     },
     "execution_count": 586,
     "metadata": {},
     "output_type": "execute_result"
    }
   ],
   "source": [
    "data_val.shape"
   ]
  },
  {
   "cell_type": "code",
   "execution_count": 587,
   "metadata": {
    "collapsed": false
   },
   "outputs": [
    {
     "data": {
      "text/plain": [
       "((181467, 33027), (45367, 33027))"
      ]
     },
     "execution_count": 587,
     "metadata": {},
     "output_type": "execute_result"
    }
   ],
   "source": [
    "(data2.shape, data2_val.shape)"
   ]
  },
  {
   "cell_type": "code",
   "execution_count": 588,
   "metadata": {
    "collapsed": false
   },
   "outputs": [],
   "source": [
    "prediction = tree.predict(data_val)\n",
    "prediction2 = tree2.predict(data2_val)"
   ]
  },
  {
   "cell_type": "code",
   "execution_count": 589,
   "metadata": {
    "collapsed": false
   },
   "outputs": [
    {
     "data": {
      "text/plain": [
       "array([[22478,     1],\n",
       "       [    2, 22886]])"
      ]
     },
     "execution_count": 589,
     "metadata": {},
     "output_type": "execute_result"
    }
   ],
   "source": [
    "confusion_matrix(prediction, y_val)"
   ]
  },
  {
   "cell_type": "code",
   "execution_count": 590,
   "metadata": {
    "collapsed": false
   },
   "outputs": [
    {
     "data": {
      "text/plain": [
       "array([[15032,  7455],\n",
       "       [ 7448, 15432]])"
      ]
     },
     "execution_count": 590,
     "metadata": {},
     "output_type": "execute_result"
    }
   ],
   "source": [
    "confusion_matrix(prediction2, y_val)"
   ]
  },
  {
   "cell_type": "code",
   "execution_count": 591,
   "metadata": {
    "collapsed": true
   },
   "outputs": [],
   "source": [
    "import graphviz\n",
    "import codecs\n",
    "import os\n",
    "os.environ[\"PATH\"] += os.pathsep + 'D:/Program Files (x86)/Graphviz2.38/bin/' "
   ]
  },
  {
   "cell_type": "code",
   "execution_count": 592,
   "metadata": {
    "collapsed": false
   },
   "outputs": [],
   "source": [
    "#tree.fit(data,y_tr)"
   ]
  },
  {
   "cell_type": "code",
   "execution_count": 593,
   "metadata": {
    "collapsed": false
   },
   "outputs": [
    {
     "data": {
      "text/plain": [
       "array([  9.98718810e-01,   1.27831390e-03,   1.47005685e-06,\n",
       "         7.57740408e-07,   4.64797386e-07,   1.83510394e-07,\n",
       "         0.00000000e+00,   0.00000000e+00,   0.00000000e+00,\n",
       "         0.00000000e+00])"
      ]
     },
     "execution_count": 593,
     "metadata": {},
     "output_type": "execute_result"
    }
   ],
   "source": [
    "np.sort(tree.feature_importances_)[::-1][:10]"
   ]
  },
  {
   "cell_type": "code",
   "execution_count": 594,
   "metadata": {
    "collapsed": false
   },
   "outputs": [],
   "source": [
    "featureimp = np.vstack((np.array(countvec.get_feature_names())[np.argsort(tree.feature_importances_)[::-1][:10]],\n",
    "                        np.sort(tree.feature_importances_)[::-1][:10]))"
   ]
  },
  {
   "cell_type": "code",
   "execution_count": 595,
   "metadata": {
    "collapsed": false
   },
   "outputs": [
    {
     "data": {
      "text/plain": [
       "(2, 10)"
      ]
     },
     "execution_count": 595,
     "metadata": {},
     "output_type": "execute_result"
    }
   ],
   "source": [
    "featureimp.shape"
   ]
  },
  {
   "cell_type": "code",
   "execution_count": 596,
   "metadata": {
    "collapsed": false
   },
   "outputs": [
    {
     "data": {
      "text/plain": [
       "array([['$positive$', '0.998718809990012'],\n",
       "       ['$negative$', '0.001278313904951309'],\n",
       "       ['rt', '1.4700568488577327e-06'],\n",
       "       ['испугалась', '7.577404075800801e-07'],\n",
       "       [',', '4.6479738603594265e-07'],\n",
       "       ['бабушка', '1.8351039434014745e-07'],\n",
       "       ['избежать', '0.0'],\n",
       "       ['идут', '0.0'],\n",
       "       ['идэх', '0.0'],\n",
       "       ['ие6', '0.0']],\n",
       "      dtype='<U34')"
      ]
     },
     "execution_count": 596,
     "metadata": {},
     "output_type": "execute_result"
    }
   ],
   "source": [
    "featureimp.T"
   ]
  },
  {
   "cell_type": "code",
   "execution_count": 597,
   "metadata": {
    "collapsed": true
   },
   "outputs": [],
   "source": [
    "featureimp2 = np.vstack((np.array(countvec2.get_feature_names())[np.argsort(tree2.feature_importances_)[::-1][:10]],\n",
    "                        np.sort(tree2.feature_importances_)[::-1][:10]))"
   ]
  },
  {
   "cell_type": "code",
   "execution_count": 598,
   "metadata": {
    "collapsed": false
   },
   "outputs": [
    {
     "data": {
      "text/plain": [
       "array([['co', '0.07352844670839581'],\n",
       "       ['хочу', '0.02371388541220776'],\n",
       "       ['о_О', '0.020010626835206657'],\n",
       "       ['DD', '0.019626308670202826'],\n",
       "       ['спасибо', '0.01801094045981832'],\n",
       "       ['могу', '0.014057771275314613'],\n",
       "       ['блин', '0.013372414486879312'],\n",
       "       ['жаль', '0.010685760266744768'],\n",
       "       ['болит', '0.010529955552317713'],\n",
       "       ['Спасибо', '0.010460792222791159']],\n",
       "      dtype='<U33')"
      ]
     },
     "execution_count": 598,
     "metadata": {},
     "output_type": "execute_result"
    }
   ],
   "source": [
    "featureimp2.T"
   ]
  },
  {
   "cell_type": "code",
   "execution_count": 599,
   "metadata": {
    "collapsed": true
   },
   "outputs": [],
   "source": [
    "data_all = countvec.transform(df.ttext)"
   ]
  },
  {
   "cell_type": "code",
   "execution_count": 600,
   "metadata": {
    "collapsed": true
   },
   "outputs": [],
   "source": [
    "pred = tree.predict(data_all)"
   ]
  },
  {
   "cell_type": "code",
   "execution_count": 601,
   "metadata": {
    "collapsed": false
   },
   "outputs": [],
   "source": [
    "check = np.vstack((df.ttext,y,pred) )"
   ]
  },
  {
   "cell_type": "code",
   "execution_count": 602,
   "metadata": {
    "collapsed": false
   },
   "outputs": [
    {
     "data": {
      "text/plain": [
       "array([ '@first_timee хоть я и школота, но поверь, у нас то же самое :D общество профилирующий предмет типа)',\n",
       "       1, 1], dtype=object)"
      ]
     },
     "execution_count": 602,
     "metadata": {},
     "output_type": "execute_result"
    }
   ],
   "source": [
    "check[:,0]"
   ]
  },
  {
   "cell_type": "code",
   "execution_count": 603,
   "metadata": {
    "collapsed": true
   },
   "outputs": [],
   "source": [
    "import pandas as pd"
   ]
  },
  {
   "cell_type": "code",
   "execution_count": 604,
   "metadata": {
    "collapsed": false
   },
   "outputs": [],
   "source": [
    "check = pd.DataFrame(check.T, columns=['text', 'y', 'pred'])"
   ]
  },
  {
   "cell_type": "code",
   "execution_count": 605,
   "metadata": {
    "collapsed": false
   },
   "outputs": [
    {
     "data": {
      "text/html": [
       "<div>\n",
       "<style>\n",
       "    .dataframe thead tr:only-child th {\n",
       "        text-align: right;\n",
       "    }\n",
       "\n",
       "    .dataframe thead th {\n",
       "        text-align: left;\n",
       "    }\n",
       "\n",
       "    .dataframe tbody tr th {\n",
       "        vertical-align: top;\n",
       "    }\n",
       "</style>\n",
       "<table border=\"1\" class=\"dataframe\">\n",
       "  <thead>\n",
       "    <tr style=\"text-align: right;\">\n",
       "      <th></th>\n",
       "      <th>text</th>\n",
       "      <th>y</th>\n",
       "      <th>pred</th>\n",
       "    </tr>\n",
       "  </thead>\n",
       "  <tbody>\n",
       "    <tr>\n",
       "      <th>0</th>\n",
       "      <td>@first_timee хоть я и школота, но поверь, у на...</td>\n",
       "      <td>1</td>\n",
       "      <td>1</td>\n",
       "    </tr>\n",
       "    <tr>\n",
       "      <th>1</th>\n",
       "      <td>Да, все-таки он немного похож на него. Но мой ...</td>\n",
       "      <td>1</td>\n",
       "      <td>1</td>\n",
       "    </tr>\n",
       "    <tr>\n",
       "      <th>2</th>\n",
       "      <td>RT @KatiaCheh: Ну ты идиотка) я испугалась за ...</td>\n",
       "      <td>1</td>\n",
       "      <td>1</td>\n",
       "    </tr>\n",
       "    <tr>\n",
       "      <th>3</th>\n",
       "      <td>RT @digger2912: \"Кто то в углу сидит и погибае...</td>\n",
       "      <td>1</td>\n",
       "      <td>1</td>\n",
       "    </tr>\n",
       "    <tr>\n",
       "      <th>4</th>\n",
       "      <td>@irina_dyshkant Вот что значит страшилка :D\\nН...</td>\n",
       "      <td>1</td>\n",
       "      <td>1</td>\n",
       "    </tr>\n",
       "  </tbody>\n",
       "</table>\n",
       "</div>"
      ],
      "text/plain": [
       "                                                text  y pred\n",
       "0  @first_timee хоть я и школота, но поверь, у на...  1    1\n",
       "1  Да, все-таки он немного похож на него. Но мой ...  1    1\n",
       "2  RT @KatiaCheh: Ну ты идиотка) я испугалась за ...  1    1\n",
       "3  RT @digger2912: \"Кто то в углу сидит и погибае...  1    1\n",
       "4  @irina_dyshkant Вот что значит страшилка :D\\nН...  1    1"
      ]
     },
     "execution_count": 605,
     "metadata": {},
     "output_type": "execute_result"
    }
   ],
   "source": [
    "check.head()"
   ]
  },
  {
   "cell_type": "code",
   "execution_count": 606,
   "metadata": {
    "collapsed": false
   },
   "outputs": [
    {
     "data": {
      "text/html": [
       "<div>\n",
       "<style>\n",
       "    .dataframe thead tr:only-child th {\n",
       "        text-align: right;\n",
       "    }\n",
       "\n",
       "    .dataframe thead th {\n",
       "        text-align: left;\n",
       "    }\n",
       "\n",
       "    .dataframe tbody tr th {\n",
       "        vertical-align: top;\n",
       "    }\n",
       "</style>\n",
       "<table border=\"1\" class=\"dataframe\">\n",
       "  <thead>\n",
       "    <tr style=\"text-align: right;\">\n",
       "      <th></th>\n",
       "      <th>text</th>\n",
       "      <th>y</th>\n",
       "      <th>pred</th>\n",
       "    </tr>\n",
       "  </thead>\n",
       "  <tbody>\n",
       "    <tr>\n",
       "      <th>18236</th>\n",
       "      <td>RT @vasiliy_org: Это скандал! :))) На Съезде в...</td>\n",
       "      <td>1</td>\n",
       "      <td>-1</td>\n",
       "    </tr>\n",
       "    <tr>\n",
       "      <th>72611</th>\n",
       "      <td>@anieverthen бабушка</td>\n",
       "      <td>1</td>\n",
       "      <td>-1</td>\n",
       "    </tr>\n",
       "    <tr>\n",
       "      <th>111420</th>\n",
       "      <td>#ПредновогодниеОбнимашки для @ForgiveMeMan Инц...</td>\n",
       "      <td>1</td>\n",
       "      <td>-1</td>\n",
       "    </tr>\n",
       "    <tr>\n",
       "      <th>121703</th>\n",
       "      <td>@Simonenko_OS я  тоже тебе это обещаю Заичка:-...</td>\n",
       "      <td>-1</td>\n",
       "      <td>1</td>\n",
       "    </tr>\n",
       "    <tr>\n",
       "      <th>122373</th>\n",
       "      <td>RT @vadelrigh65: Мда, я, реально, испугалась, ...</td>\n",
       "      <td>-1</td>\n",
       "      <td>1</td>\n",
       "    </tr>\n",
       "    <tr>\n",
       "      <th>142134</th>\n",
       "      <td>Надоело притворяться что это не так o_O строю ...</td>\n",
       "      <td>-1</td>\n",
       "      <td>1</td>\n",
       "    </tr>\n",
       "    <tr>\n",
       "      <th>161595</th>\n",
       "      <td>@ushikovaa @victoria75132 о_О тот самый сок? :-D</td>\n",
       "      <td>-1</td>\n",
       "      <td>1</td>\n",
       "    </tr>\n",
       "    <tr>\n",
       "      <th>166836</th>\n",
       "      <td>\"@MedvedOfRussia: Закон выборов в Роиссе. http...</td>\n",
       "      <td>-1</td>\n",
       "      <td>1</td>\n",
       "    </tr>\n",
       "    <tr>\n",
       "      <th>186326</th>\n",
       "      <td>@verunO_o спасибо,девочка моя!всего самого хор...</td>\n",
       "      <td>-1</td>\n",
       "      <td>1</td>\n",
       "    </tr>\n",
       "    <tr>\n",
       "      <th>197699</th>\n",
       "      <td>Кто умеет фотошопить? Научите миня :сссс Или х...</td>\n",
       "      <td>-1</td>\n",
       "      <td>1</td>\n",
       "    </tr>\n",
       "    <tr>\n",
       "      <th>218103</th>\n",
       "      <td>@sherlock_go_on Я ДАЖЕ ФИЛЬМ ИЗ-ЗА НИХ НЕ МОГУ...</td>\n",
       "      <td>-1</td>\n",
       "      <td>1</td>\n",
       "    </tr>\n",
       "  </tbody>\n",
       "</table>\n",
       "</div>"
      ],
      "text/plain": [
       "                                                     text   y pred\n",
       "18236   RT @vasiliy_org: Это скандал! :))) На Съезде в...   1   -1\n",
       "72611                               @anieverthen бабушка    1   -1\n",
       "111420  #ПредновогодниеОбнимашки для @ForgiveMeMan Инц...   1   -1\n",
       "121703  @Simonenko_OS я  тоже тебе это обещаю Заичка:-...  -1    1\n",
       "122373  RT @vadelrigh65: Мда, я, реально, испугалась, ...  -1    1\n",
       "142134  Надоело притворяться что это не так o_O строю ...  -1    1\n",
       "161595   @ushikovaa @victoria75132 о_О тот самый сок? :-D  -1    1\n",
       "166836  \"@MedvedOfRussia: Закон выборов в Роиссе. http...  -1    1\n",
       "186326  @verunO_o спасибо,девочка моя!всего самого хор...  -1    1\n",
       "197699  Кто умеет фотошопить? Научите миня :сссс Или х...  -1    1\n",
       "218103  @sherlock_go_on Я ДАЖЕ ФИЛЬМ ИЗ-ЗА НИХ НЕ МОГУ...  -1    1"
      ]
     },
     "execution_count": 606,
     "metadata": {},
     "output_type": "execute_result"
    }
   ],
   "source": [
    "check.loc[check.y!=check.pred].head(20)"
   ]
  },
  {
   "cell_type": "code",
   "execution_count": 607,
   "metadata": {
    "collapsed": false
   },
   "outputs": [],
   "source": [
    "from sklearn.tree import export_graphviz\n",
    "\n",
    "def get_tree_dot_view(clf, feature_names=None, class_names=None):\n",
    "    return  export_graphviz(clf, out_file=None, filled=True, feature_names=feature_names, class_names=class_names)"
   ]
  },
  {
   "cell_type": "code",
   "execution_count": 419,
   "metadata": {
    "collapsed": true
   },
   "outputs": [],
   "source": [
    "import matplotlib"
   ]
  },
  {
   "cell_type": "code",
   "execution_count": 420,
   "metadata": {
    "collapsed": true
   },
   "outputs": [],
   "source": [
    "%matplotlib inline"
   ]
  },
  {
   "cell_type": "code",
   "execution_count": 421,
   "metadata": {
    "collapsed": false
   },
   "outputs": [],
   "source": [
    "graph = graphviz.Source(get_tree_dot_view(tree, countvec.get_feature_names(), ['neg', 'pos']))  "
   ]
  },
  {
   "cell_type": "code",
   "execution_count": 422,
   "metadata": {
    "collapsed": false,
    "scrolled": true
   },
   "outputs": [
    {
     "data": {
      "text/plain": [
       "'tree.pdf'"
      ]
     },
     "execution_count": 422,
     "metadata": {},
     "output_type": "execute_result"
    }
   ],
   "source": [
    "graph.render('tree')"
   ]
  },
  {
   "cell_type": "code",
   "execution_count": 423,
   "metadata": {
    "collapsed": true
   },
   "outputs": [],
   "source": [
    "from IPython.display import display"
   ]
  },
  {
   "cell_type": "code",
   "execution_count": 424,
   "metadata": {
    "collapsed": false
   },
   "outputs": [
    {
     "data": {
      "image/svg+xml": [
       "<?xml version=\"1.0\" encoding=\"UTF-8\" standalone=\"no\"?>\r\n",
       "<!DOCTYPE svg PUBLIC \"-//W3C//DTD SVG 1.1//EN\"\r\n",
       " \"http://www.w3.org/Graphics/SVG/1.1/DTD/svg11.dtd\">\r\n",
       "<!-- Generated by graphviz version 2.38.0 (20140413.2041)\r\n",
       " -->\r\n",
       "<!-- Title: Tree Pages: 1 -->\r\n",
       "<svg width=\"755pt\" height=\"433pt\"\r\n",
       " viewBox=\"0.00 0.00 755.00 433.00\" xmlns=\"http://www.w3.org/2000/svg\" xmlns:xlink=\"http://www.w3.org/1999/xlink\">\r\n",
       "<g id=\"graph0\" class=\"graph\" transform=\"scale(1 1) rotate(0) translate(4 429)\">\r\n",
       "<title>Tree</title>\r\n",
       "<polygon fill=\"white\" stroke=\"none\" points=\"-4,4 -4,-429 751,-429 751,4 -4,4\"/>\r\n",
       "<!-- 0 -->\r\n",
       "<g id=\"node1\" class=\"node\"><title>0</title>\r\n",
       "<polygon fill=\"#399de5\" fill-opacity=\"0.027451\" stroke=\"black\" points=\"470.5,-425 312.5,-425 312.5,-342 470.5,-342 470.5,-425\"/>\r\n",
       "<text text-anchor=\"middle\" x=\"391.5\" y=\"-409.8\" font-family=\"Times New Roman,serif\" font-size=\"14.00\">$positive$ &lt;= 0.5</text>\r\n",
       "<text text-anchor=\"middle\" x=\"391.5\" y=\"-394.8\" font-family=\"Times New Roman,serif\" font-size=\"14.00\">gini = 0.4999</text>\r\n",
       "<text text-anchor=\"middle\" x=\"391.5\" y=\"-379.8\" font-family=\"Times New Roman,serif\" font-size=\"14.00\">samples = 226834</text>\r\n",
       "<text text-anchor=\"middle\" x=\"391.5\" y=\"-364.8\" font-family=\"Times New Roman,serif\" font-size=\"14.00\">value = [111923, 114911]</text>\r\n",
       "<text text-anchor=\"middle\" x=\"391.5\" y=\"-349.8\" font-family=\"Times New Roman,serif\" font-size=\"14.00\">class = pos</text>\r\n",
       "</g>\r\n",
       "<!-- 1 -->\r\n",
       "<g id=\"node2\" class=\"node\"><title>1</title>\r\n",
       "<polygon fill=\"#e58139\" stroke=\"black\" points=\"381,-306 256,-306 256,-223 381,-223 381,-306\"/>\r\n",
       "<text text-anchor=\"middle\" x=\"318.5\" y=\"-290.8\" font-family=\"Times New Roman,serif\" font-size=\"14.00\">обнимаю &lt;= 0.5</text>\r\n",
       "<text text-anchor=\"middle\" x=\"318.5\" y=\"-275.8\" font-family=\"Times New Roman,serif\" font-size=\"14.00\">gini = 0.0</text>\r\n",
       "<text text-anchor=\"middle\" x=\"318.5\" y=\"-260.8\" font-family=\"Times New Roman,serif\" font-size=\"14.00\">samples = 111835</text>\r\n",
       "<text text-anchor=\"middle\" x=\"318.5\" y=\"-245.8\" font-family=\"Times New Roman,serif\" font-size=\"14.00\">value = [111833, 2]</text>\r\n",
       "<text text-anchor=\"middle\" x=\"318.5\" y=\"-230.8\" font-family=\"Times New Roman,serif\" font-size=\"14.00\">class = neg</text>\r\n",
       "</g>\r\n",
       "<!-- 0&#45;&gt;1 -->\r\n",
       "<g id=\"edge1\" class=\"edge\"><title>0&#45;&gt;1</title>\r\n",
       "<path fill=\"none\" stroke=\"black\" d=\"M366.173,-341.907C360.681,-333.105 354.815,-323.703 349.143,-314.612\"/>\r\n",
       "<polygon fill=\"black\" stroke=\"black\" points=\"352.045,-312.652 343.782,-306.021 346.106,-316.358 352.045,-312.652\"/>\r\n",
       "<text text-anchor=\"middle\" x=\"338.142\" y=\"-326.676\" font-family=\"Times New Roman,serif\" font-size=\"14.00\">True</text>\r\n",
       "</g>\r\n",
       "<!-- 6 -->\r\n",
       "<g id=\"node7\" class=\"node\"><title>6</title>\r\n",
       "<polygon fill=\"#399de5\" stroke=\"black\" points=\"530,-306 399,-306 399,-223 530,-223 530,-306\"/>\r\n",
       "<text text-anchor=\"middle\" x=\"464.5\" y=\"-290.8\" font-family=\"Times New Roman,serif\" font-size=\"14.00\">$negative$ &lt;= 0.5</text>\r\n",
       "<text text-anchor=\"middle\" x=\"464.5\" y=\"-275.8\" font-family=\"Times New Roman,serif\" font-size=\"14.00\">gini = 0.0016</text>\r\n",
       "<text text-anchor=\"middle\" x=\"464.5\" y=\"-260.8\" font-family=\"Times New Roman,serif\" font-size=\"14.00\">samples = 114999</text>\r\n",
       "<text text-anchor=\"middle\" x=\"464.5\" y=\"-245.8\" font-family=\"Times New Roman,serif\" font-size=\"14.00\">value = [90, 114909]</text>\r\n",
       "<text text-anchor=\"middle\" x=\"464.5\" y=\"-230.8\" font-family=\"Times New Roman,serif\" font-size=\"14.00\">class = pos</text>\r\n",
       "</g>\r\n",
       "<!-- 0&#45;&gt;6 -->\r\n",
       "<g id=\"edge6\" class=\"edge\"><title>0&#45;&gt;6</title>\r\n",
       "<path fill=\"none\" stroke=\"black\" d=\"M416.827,-341.907C422.319,-333.105 428.185,-323.703 433.857,-314.612\"/>\r\n",
       "<polygon fill=\"black\" stroke=\"black\" points=\"436.894,-316.358 439.218,-306.021 430.955,-312.652 436.894,-316.358\"/>\r\n",
       "<text text-anchor=\"middle\" x=\"444.858\" y=\"-326.676\" font-family=\"Times New Roman,serif\" font-size=\"14.00\">False</text>\r\n",
       "</g>\r\n",
       "<!-- 2 -->\r\n",
       "<g id=\"node3\" class=\"node\"><title>2</title>\r\n",
       "<polygon fill=\"#e58139\" stroke=\"black\" points=\"255,-187 130,-187 130,-104 255,-104 255,-187\"/>\r\n",
       "<text text-anchor=\"middle\" x=\"192.5\" y=\"-171.8\" font-family=\"Times New Roman,serif\" font-size=\"14.00\">бабушка &lt;= 0.5</text>\r\n",
       "<text text-anchor=\"middle\" x=\"192.5\" y=\"-156.8\" font-family=\"Times New Roman,serif\" font-size=\"14.00\">gini = 0.0</text>\r\n",
       "<text text-anchor=\"middle\" x=\"192.5\" y=\"-141.8\" font-family=\"Times New Roman,serif\" font-size=\"14.00\">samples = 111822</text>\r\n",
       "<text text-anchor=\"middle\" x=\"192.5\" y=\"-126.8\" font-family=\"Times New Roman,serif\" font-size=\"14.00\">value = [111821, 1]</text>\r\n",
       "<text text-anchor=\"middle\" x=\"192.5\" y=\"-111.8\" font-family=\"Times New Roman,serif\" font-size=\"14.00\">class = neg</text>\r\n",
       "</g>\r\n",
       "<!-- 1&#45;&gt;2 -->\r\n",
       "<g id=\"edge2\" class=\"edge\"><title>1&#45;&gt;2</title>\r\n",
       "<path fill=\"none\" stroke=\"black\" d=\"M274.785,-222.907C264.719,-213.56 253.925,-203.538 243.577,-193.929\"/>\r\n",
       "<polygon fill=\"black\" stroke=\"black\" points=\"245.847,-191.261 236.138,-187.021 241.084,-196.39 245.847,-191.261\"/>\r\n",
       "</g>\r\n",
       "<!-- 5 -->\r\n",
       "<g id=\"node6\" class=\"node\"><title>5</title>\r\n",
       "<polygon fill=\"#e58139\" fill-opacity=\"0.917647\" stroke=\"black\" points=\"371.5,-179.5 273.5,-179.5 273.5,-111.5 371.5,-111.5 371.5,-179.5\"/>\r\n",
       "<text text-anchor=\"middle\" x=\"322.5\" y=\"-164.3\" font-family=\"Times New Roman,serif\" font-size=\"14.00\">gini = 0.142</text>\r\n",
       "<text text-anchor=\"middle\" x=\"322.5\" y=\"-149.3\" font-family=\"Times New Roman,serif\" font-size=\"14.00\">samples = 13</text>\r\n",
       "<text text-anchor=\"middle\" x=\"322.5\" y=\"-134.3\" font-family=\"Times New Roman,serif\" font-size=\"14.00\">value = [12, 1]</text>\r\n",
       "<text text-anchor=\"middle\" x=\"322.5\" y=\"-119.3\" font-family=\"Times New Roman,serif\" font-size=\"14.00\">class = neg</text>\r\n",
       "</g>\r\n",
       "<!-- 1&#45;&gt;5 -->\r\n",
       "<g id=\"edge5\" class=\"edge\"><title>1&#45;&gt;5</title>\r\n",
       "<path fill=\"none\" stroke=\"black\" d=\"M319.888,-222.907C320.254,-212.204 320.65,-200.615 321.02,-189.776\"/>\r\n",
       "<polygon fill=\"black\" stroke=\"black\" points=\"324.522,-189.781 321.366,-179.667 317.526,-189.541 324.522,-189.781\"/>\r\n",
       "</g>\r\n",
       "<!-- 3 -->\r\n",
       "<g id=\"node4\" class=\"node\"><title>3</title>\r\n",
       "<polygon fill=\"#e58139\" stroke=\"black\" points=\"125,-68 0,-68 0,-0 125,-0 125,-68\"/>\r\n",
       "<text text-anchor=\"middle\" x=\"62.5\" y=\"-52.8\" font-family=\"Times New Roman,serif\" font-size=\"14.00\">gini = 0.0</text>\r\n",
       "<text text-anchor=\"middle\" x=\"62.5\" y=\"-37.8\" font-family=\"Times New Roman,serif\" font-size=\"14.00\">samples = 111680</text>\r\n",
       "<text text-anchor=\"middle\" x=\"62.5\" y=\"-22.8\" font-family=\"Times New Roman,serif\" font-size=\"14.00\">value = [111680, 0]</text>\r\n",
       "<text text-anchor=\"middle\" x=\"62.5\" y=\"-7.8\" font-family=\"Times New Roman,serif\" font-size=\"14.00\">class = neg</text>\r\n",
       "</g>\r\n",
       "<!-- 2&#45;&gt;3 -->\r\n",
       "<g id=\"edge3\" class=\"edge\"><title>2&#45;&gt;3</title>\r\n",
       "<path fill=\"none\" stroke=\"black\" d=\"M144.093,-103.726C132.94,-94.3318 121.088,-84.349 109.975,-74.9883\"/>\r\n",
       "<polygon fill=\"black\" stroke=\"black\" points=\"111.937,-72.065 102.034,-68.2996 107.427,-77.4188 111.937,-72.065\"/>\r\n",
       "</g>\r\n",
       "<!-- 4 -->\r\n",
       "<g id=\"node5\" class=\"node\"><title>4</title>\r\n",
       "<polygon fill=\"#e58139\" fill-opacity=\"0.992157\" stroke=\"black\" points=\"247.5,-68 143.5,-68 143.5,-0 247.5,-0 247.5,-68\"/>\r\n",
       "<text text-anchor=\"middle\" x=\"195.5\" y=\"-52.8\" font-family=\"Times New Roman,serif\" font-size=\"14.00\">gini = 0.014</text>\r\n",
       "<text text-anchor=\"middle\" x=\"195.5\" y=\"-37.8\" font-family=\"Times New Roman,serif\" font-size=\"14.00\">samples = 142</text>\r\n",
       "<text text-anchor=\"middle\" x=\"195.5\" y=\"-22.8\" font-family=\"Times New Roman,serif\" font-size=\"14.00\">value = [141, 1]</text>\r\n",
       "<text text-anchor=\"middle\" x=\"195.5\" y=\"-7.8\" font-family=\"Times New Roman,serif\" font-size=\"14.00\">class = neg</text>\r\n",
       "</g>\r\n",
       "<!-- 2&#45;&gt;4 -->\r\n",
       "<g id=\"edge4\" class=\"edge\"><title>2&#45;&gt;4</title>\r\n",
       "<path fill=\"none\" stroke=\"black\" d=\"M193.617,-103.726C193.842,-95.5175 194.079,-86.8595 194.307,-78.56\"/>\r\n",
       "<polygon fill=\"black\" stroke=\"black\" points=\"197.812,-78.3917 194.588,-68.2996 190.815,-78.2 197.812,-78.3917\"/>\r\n",
       "</g>\r\n",
       "<!-- 7 -->\r\n",
       "<g id=\"node8\" class=\"node\"><title>7</title>\r\n",
       "<polygon fill=\"#399de5\" stroke=\"black\" points=\"523,-187 398,-187 398,-104 523,-104 523,-187\"/>\r\n",
       "<text text-anchor=\"middle\" x=\"460.5\" y=\"-171.8\" font-family=\"Times New Roman,serif\" font-size=\"14.00\">испугалась &lt;= 0.5</text>\r\n",
       "<text text-anchor=\"middle\" x=\"460.5\" y=\"-156.8\" font-family=\"Times New Roman,serif\" font-size=\"14.00\">gini = 0.0001</text>\r\n",
       "<text text-anchor=\"middle\" x=\"460.5\" y=\"-141.8\" font-family=\"Times New Roman,serif\" font-size=\"14.00\">samples = 114916</text>\r\n",
       "<text text-anchor=\"middle\" x=\"460.5\" y=\"-126.8\" font-family=\"Times New Roman,serif\" font-size=\"14.00\">value = [8, 114908]</text>\r\n",
       "<text text-anchor=\"middle\" x=\"460.5\" y=\"-111.8\" font-family=\"Times New Roman,serif\" font-size=\"14.00\">class = pos</text>\r\n",
       "</g>\r\n",
       "<!-- 6&#45;&gt;7 -->\r\n",
       "<g id=\"edge7\" class=\"edge\"><title>6&#45;&gt;7</title>\r\n",
       "<path fill=\"none\" stroke=\"black\" d=\"M463.112,-222.907C462.827,-214.558 462.523,-205.671 462.227,-197.02\"/>\r\n",
       "<polygon fill=\"black\" stroke=\"black\" points=\"465.725,-196.895 461.885,-187.021 458.729,-197.135 465.725,-196.895\"/>\r\n",
       "</g>\r\n",
       "<!-- 10 -->\r\n",
       "<g id=\"node11\" class=\"node\"><title>10</title>\r\n",
       "<polygon fill=\"#e58139\" fill-opacity=\"0.988235\" stroke=\"black\" points=\"639.5,-187 541.5,-187 541.5,-104 639.5,-104 639.5,-187\"/>\r\n",
       "<text text-anchor=\"middle\" x=\"590.5\" y=\"-171.8\" font-family=\"Times New Roman,serif\" font-size=\"14.00\">! &lt;= 0.5</text>\r\n",
       "<text text-anchor=\"middle\" x=\"590.5\" y=\"-156.8\" font-family=\"Times New Roman,serif\" font-size=\"14.00\">gini = 0.0238</text>\r\n",
       "<text text-anchor=\"middle\" x=\"590.5\" y=\"-141.8\" font-family=\"Times New Roman,serif\" font-size=\"14.00\">samples = 83</text>\r\n",
       "<text text-anchor=\"middle\" x=\"590.5\" y=\"-126.8\" font-family=\"Times New Roman,serif\" font-size=\"14.00\">value = [82, 1]</text>\r\n",
       "<text text-anchor=\"middle\" x=\"590.5\" y=\"-111.8\" font-family=\"Times New Roman,serif\" font-size=\"14.00\">class = neg</text>\r\n",
       "</g>\r\n",
       "<!-- 6&#45;&gt;10 -->\r\n",
       "<g id=\"edge10\" class=\"edge\"><title>6&#45;&gt;10</title>\r\n",
       "<path fill=\"none\" stroke=\"black\" d=\"M508.215,-222.907C518.281,-213.56 529.075,-203.538 539.423,-193.929\"/>\r\n",
       "<polygon fill=\"black\" stroke=\"black\" points=\"541.916,-196.39 546.862,-187.021 537.153,-191.261 541.916,-196.39\"/>\r\n",
       "</g>\r\n",
       "<!-- 8 -->\r\n",
       "<g id=\"node9\" class=\"node\"><title>8</title>\r\n",
       "<polygon fill=\"#399de5\" stroke=\"black\" points=\"400,-68 275,-68 275,-0 400,-0 400,-68\"/>\r\n",
       "<text text-anchor=\"middle\" x=\"337.5\" y=\"-52.8\" font-family=\"Times New Roman,serif\" font-size=\"14.00\">gini = 0.0001</text>\r\n",
       "<text text-anchor=\"middle\" x=\"337.5\" y=\"-37.8\" font-family=\"Times New Roman,serif\" font-size=\"14.00\">samples = 114883</text>\r\n",
       "<text text-anchor=\"middle\" x=\"337.5\" y=\"-22.8\" font-family=\"Times New Roman,serif\" font-size=\"14.00\">value = [7, 114876]</text>\r\n",
       "<text text-anchor=\"middle\" x=\"337.5\" y=\"-7.8\" font-family=\"Times New Roman,serif\" font-size=\"14.00\">class = pos</text>\r\n",
       "</g>\r\n",
       "<!-- 7&#45;&gt;8 -->\r\n",
       "<g id=\"edge8\" class=\"edge\"><title>7&#45;&gt;8</title>\r\n",
       "<path fill=\"none\" stroke=\"black\" d=\"M414.699,-103.726C404.147,-94.3318 392.933,-84.349 382.418,-74.9883\"/>\r\n",
       "<polygon fill=\"black\" stroke=\"black\" points=\"384.701,-72.3347 374.905,-68.2996 380.047,-77.5631 384.701,-72.3347\"/>\r\n",
       "</g>\r\n",
       "<!-- 9 -->\r\n",
       "<g id=\"node10\" class=\"node\"><title>9</title>\r\n",
       "<polygon fill=\"#399de5\" fill-opacity=\"0.968627\" stroke=\"black\" points=\"516.5,-68 418.5,-68 418.5,-0 516.5,-0 516.5,-68\"/>\r\n",
       "<text text-anchor=\"middle\" x=\"467.5\" y=\"-52.8\" font-family=\"Times New Roman,serif\" font-size=\"14.00\">gini = 0.0588</text>\r\n",
       "<text text-anchor=\"middle\" x=\"467.5\" y=\"-37.8\" font-family=\"Times New Roman,serif\" font-size=\"14.00\">samples = 33</text>\r\n",
       "<text text-anchor=\"middle\" x=\"467.5\" y=\"-22.8\" font-family=\"Times New Roman,serif\" font-size=\"14.00\">value = [1, 32]</text>\r\n",
       "<text text-anchor=\"middle\" x=\"467.5\" y=\"-7.8\" font-family=\"Times New Roman,serif\" font-size=\"14.00\">class = pos</text>\r\n",
       "</g>\r\n",
       "<!-- 7&#45;&gt;9 -->\r\n",
       "<g id=\"edge9\" class=\"edge\"><title>7&#45;&gt;9</title>\r\n",
       "<path fill=\"none\" stroke=\"black\" d=\"M463.107,-103.726C463.637,-95.4263 464.197,-86.6671 464.733,-78.2834\"/>\r\n",
       "<polygon fill=\"black\" stroke=\"black\" points=\"468.226,-78.5025 465.371,-68.2996 461.24,-78.0559 468.226,-78.5025\"/>\r\n",
       "</g>\r\n",
       "<!-- 11 -->\r\n",
       "<g id=\"node12\" class=\"node\"><title>11</title>\r\n",
       "<polygon fill=\"#e58139\" stroke=\"black\" points=\"637.5,-68 539.5,-68 539.5,-0 637.5,-0 637.5,-68\"/>\r\n",
       "<text text-anchor=\"middle\" x=\"588.5\" y=\"-52.8\" font-family=\"Times New Roman,serif\" font-size=\"14.00\">gini = 0.0</text>\r\n",
       "<text text-anchor=\"middle\" x=\"588.5\" y=\"-37.8\" font-family=\"Times New Roman,serif\" font-size=\"14.00\">samples = 73</text>\r\n",
       "<text text-anchor=\"middle\" x=\"588.5\" y=\"-22.8\" font-family=\"Times New Roman,serif\" font-size=\"14.00\">value = [73, 0]</text>\r\n",
       "<text text-anchor=\"middle\" x=\"588.5\" y=\"-7.8\" font-family=\"Times New Roman,serif\" font-size=\"14.00\">class = neg</text>\r\n",
       "</g>\r\n",
       "<!-- 10&#45;&gt;11 -->\r\n",
       "<g id=\"edge11\" class=\"edge\"><title>10&#45;&gt;11</title>\r\n",
       "<path fill=\"none\" stroke=\"black\" d=\"M589.755,-103.726C589.605,-95.5175 589.447,-86.8595 589.296,-78.56\"/>\r\n",
       "<polygon fill=\"black\" stroke=\"black\" points=\"592.79,-78.234 589.108,-68.2996 585.792,-78.3619 592.79,-78.234\"/>\r\n",
       "</g>\r\n",
       "<!-- 12 -->\r\n",
       "<g id=\"node13\" class=\"node\"><title>12</title>\r\n",
       "<polygon fill=\"#e58139\" fill-opacity=\"0.890196\" stroke=\"black\" points=\"747,-68 656,-68 656,-0 747,-0 747,-68\"/>\r\n",
       "<text text-anchor=\"middle\" x=\"701.5\" y=\"-52.8\" font-family=\"Times New Roman,serif\" font-size=\"14.00\">gini = 0.18</text>\r\n",
       "<text text-anchor=\"middle\" x=\"701.5\" y=\"-37.8\" font-family=\"Times New Roman,serif\" font-size=\"14.00\">samples = 10</text>\r\n",
       "<text text-anchor=\"middle\" x=\"701.5\" y=\"-22.8\" font-family=\"Times New Roman,serif\" font-size=\"14.00\">value = [9, 1]</text>\r\n",
       "<text text-anchor=\"middle\" x=\"701.5\" y=\"-7.8\" font-family=\"Times New Roman,serif\" font-size=\"14.00\">class = neg</text>\r\n",
       "</g>\r\n",
       "<!-- 10&#45;&gt;12 -->\r\n",
       "<g id=\"edge12\" class=\"edge\"><title>10&#45;&gt;12</title>\r\n",
       "<path fill=\"none\" stroke=\"black\" d=\"M631.832,-103.726C641.171,-94.5142 651.082,-84.7364 660.41,-75.5343\"/>\r\n",
       "<polygon fill=\"black\" stroke=\"black\" points=\"663.083,-77.8141 667.744,-68.2996 658.167,-72.8308 663.083,-77.8141\"/>\r\n",
       "</g>\r\n",
       "</g>\r\n",
       "</svg>\r\n"
      ],
      "text/plain": [
       "<graphviz.files.Source at 0x48663eb8>"
      ]
     },
     "metadata": {},
     "output_type": "display_data"
    }
   ],
   "source": [
    "display(graph)"
   ]
  },
  {
   "cell_type": "markdown",
   "metadata": {
    "collapsed": true
   },
   "source": [
    "## по смайликам однозначно определяется, кто в твите позитвный. \n",
    "## Интересно, что при отсутствии позитывных смайликов, мы негативные уже не \n",
    "## проверяем. Может, потому, что если нет позитивных, то негативные то уж точно есть"
   ]
  },
  {
   "cell_type": "code",
   "execution_count": null,
   "metadata": {
    "collapsed": true
   },
   "outputs": [],
   "source": []
  }
 ],
 "metadata": {
  "kernelspec": {
   "display_name": "Python 3",
   "language": "python",
   "name": "python3"
  },
  "language_info": {
   "codemirror_mode": {
    "name": "ipython",
    "version": 3
   },
   "file_extension": ".py",
   "mimetype": "text/x-python",
   "name": "python",
   "nbconvert_exporter": "python",
   "pygments_lexer": "ipython3",
   "version": "3.6.2"
  }
 },
 "nbformat": 4,
 "nbformat_minor": 2
}
