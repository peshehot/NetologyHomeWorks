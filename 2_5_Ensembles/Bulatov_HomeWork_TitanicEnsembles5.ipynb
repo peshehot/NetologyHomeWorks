{
 "cells": [
  {
   "cell_type": "markdown",
   "metadata": {},
   "source": [
    "## Preprocessing"
   ]
  },
  {
   "cell_type": "code",
   "execution_count": 161,
   "metadata": {
    "collapsed": false
   },
   "outputs": [],
   "source": [
    "import sklearn\n",
    "import pandas as pd\n",
    "from sklearn.pipeline import Pipeline\n",
    "from sklearn.preprocessing import Imputer\n",
    "from sklearn import preprocessing\n",
    "import numpy as np\n",
    "from  matplotlib import pyplot as plt\n",
    "from sklearn.pipeline import Pipeline\n",
    "\n",
    "from sklearn.metrics import make_scorer\n",
    "from sklearn.model_selection import KFold\n",
    "from sklearn.model_selection import cross_val_score\n",
    "from sklearn.metrics import accuracy_score\n",
    "from sklearn.preprocessing import StandardScaler\n",
    "import numpy as np"
   ]
  },
  {
   "cell_type": "code",
   "execution_count": 162,
   "metadata": {
    "collapsed": true
   },
   "outputs": [],
   "source": [
    "%matplotlib inline\n",
    "import seaborn as sns"
   ]
  },
  {
   "cell_type": "code",
   "execution_count": 163,
   "metadata": {
    "collapsed": false
   },
   "outputs": [],
   "source": [
    "train = pd.read_csv('./titanic/train.csv')\n",
    "test = pd.read_csv('./titanic/test.csv')"
   ]
  },
  {
   "cell_type": "code",
   "execution_count": 164,
   "metadata": {
    "collapsed": true
   },
   "outputs": [],
   "source": [
    "myimputer_mean=Imputer(missing_values='NaN', strategy='mean', axis=0, verbose=0, copy=True)\n",
    "myimputer_mf=Imputer(missing_values='NaN', strategy='most_frequent', axis=0, verbose=0, copy=True)"
   ]
  },
  {
   "cell_type": "code",
   "execution_count": 165,
   "metadata": {
    "collapsed": true
   },
   "outputs": [],
   "source": [
    "if 'Survived' in train.columns:  # Del result column, qual for the second run\n",
    "    y=train['Survived']\n",
    "    del train['Survived']  "
   ]
  },
  {
   "cell_type": "code",
   "execution_count": 166,
   "metadata": {
    "collapsed": false
   },
   "outputs": [
    {
     "name": "stdout",
     "output_type": "stream",
     "text": [
      "0    0\n",
      "1    1\n",
      "2    1\n",
      "3    1\n",
      "4    0\n",
      "Name: Survived, dtype: int64\n"
     ]
    }
   ],
   "source": [
    "print(y.head())"
   ]
  },
  {
   "cell_type": "code",
   "execution_count": 167,
   "metadata": {
    "collapsed": true
   },
   "outputs": [],
   "source": [
    "le_pclass = preprocessing.LabelEncoder()\n",
    "le_sex = preprocessing.LabelEncoder()\n",
    "le_embarked = preprocessing.LabelEncoder()\n"
   ]
  },
  {
   "cell_type": "code",
   "execution_count": 168,
   "metadata": {
    "collapsed": false
   },
   "outputs": [],
   "source": [
    "le_flc = preprocessing.LabelEncoder()"
   ]
  },
  {
   "cell_type": "markdown",
   "metadata": {},
   "source": [
    "интересно было попробывать замену категориальных фич с помощью способа описанного для catboost"
   ]
  },
  {
   "cell_type": "code",
   "execution_count": 169,
   "metadata": {
    "collapsed": false
   },
   "outputs": [],
   "source": [
    "class СatReplaceByP:      \n",
    "    \"\"\"  X.columnname = [cat,cat,dog]\n",
    "         y = [1,0,0]\n",
    "         catrepl = СatReplaceByP() \n",
    "         catrepl.fit(X.columnname, y)\n",
    "         X.columnname = catrepl.transform(X.columnname)\n",
    "         print(X.columnname)\n",
    "         $[0.5,0.5,0]\n",
    "         \n",
    "         \n",
    "         Replacement category for example \"cat\" by P(y=1)|P(x=cat)\"\"\"\n",
    "    def __init__(self):\n",
    "        self.replacment={}\n",
    "    def fit(self, df_input, y_input):\n",
    "        if df_input.shape != y_input.shape:\n",
    "            print(\"Shape of inputs must be same\")\n",
    "            return 1\n",
    "        df = pd.Series(df_input)\n",
    "        y = pd.Series(y_input)\n",
    "        catslist=df.groupby(df.values).min()\n",
    "        grp = pd.concat([df, y], axis=1)\n",
    "        grp.loc[grp[ grp.columns[0]]==0]\n",
    "        for cat in catslist:\n",
    "            #df.loc[df==cat] = len(grp.loc[(grp[grp.columns[0]]==cat) &(grp[grp.columns[1]]==1)])/len(grp.loc[grp[grp.columns[0]]==cat])\n",
    "            self.replacment[cat] = len(grp.loc[(grp[grp.columns[0]]==cat) &(grp[grp.columns[1]]==1)])/len(grp.loc[grp[grp.columns[0]]==cat])\n",
    "        #return df\n",
    "    def params(self):\n",
    "        return(self.replacment)\n",
    "    def tramsform(self, df_input):\n",
    "        df = pd.Series(df_input)\n",
    "        catslist=df.groupby(df.values).min()\n",
    "        for cat in catslist:\n",
    "            #df.loc[df==cat] = len(grp.loc[(grp[grp.columns[0]]==cat) &(grp[grp.columns[1]]==1)])/len(grp.loc[grp[grp.columns[0]]==cat])\n",
    "            if cat in self.replacment:\n",
    "                df.loc[df==cat] = self.replacment[cat]\n",
    "            else:\n",
    "                print(\"Warning: The categorial {} is new in transform, replaced by 0\".format(cat))\n",
    "                df.loc[df==cat] = 0\n",
    "        return df\n",
    "    "
   ]
  },
  {
   "cell_type": "code",
   "execution_count": 170,
   "metadata": {
    "collapsed": true
   },
   "outputs": [],
   "source": [
    "train['is_test'] = False\n",
    "test['is_test'] = True"
   ]
  },
  {
   "cell_type": "code",
   "execution_count": 171,
   "metadata": {
    "collapsed": false
   },
   "outputs": [
    {
     "name": "stdout",
     "output_type": "stream",
     "text": [
      "<class 'pandas.core.frame.DataFrame'>\n",
      "RangeIndex: 1309 entries, 0 to 1308\n",
      "Data columns (total 12 columns):\n",
      "PassengerId    1309 non-null int64\n",
      "Pclass         1309 non-null int64\n",
      "Name           1309 non-null object\n",
      "Sex            1309 non-null object\n",
      "Age            1046 non-null float64\n",
      "SibSp          1309 non-null int64\n",
      "Parch          1309 non-null int64\n",
      "Ticket         1309 non-null object\n",
      "Fare           1308 non-null float64\n",
      "Cabin          295 non-null object\n",
      "Embarked       1307 non-null object\n",
      "is_test        1309 non-null bool\n",
      "dtypes: bool(1), float64(2), int64(4), object(5)\n",
      "memory usage: 113.8+ KB\n"
     ]
    }
   ],
   "source": [
    "X = pd.concat([train, test], axis=0)\n",
    "X.index = range(len(X))\n",
    "X.info()"
   ]
  },
  {
   "cell_type": "code",
   "execution_count": 172,
   "metadata": {
    "collapsed": false
   },
   "outputs": [],
   "source": [
    "X['Embarked'] = X['Embarked'].astype(str)"
   ]
  },
  {
   "cell_type": "code",
   "execution_count": 173,
   "metadata": {
    "collapsed": false
   },
   "outputs": [],
   "source": [
    "X['Pclass'] = le_pclass.fit_transform(X['Pclass'])\n",
    "X['Sex'] = le_sex.fit_transform(X['Sex'])\n",
    "X['Embarked'] = le_embarked.fit_transform(X['Embarked'])"
   ]
  },
  {
   "cell_type": "code",
   "execution_count": 174,
   "metadata": {
    "collapsed": true
   },
   "outputs": [],
   "source": [
    "X['Sex'] =X['Sex'].astype(int)"
   ]
  },
  {
   "cell_type": "code",
   "execution_count": 175,
   "metadata": {
    "collapsed": false
   },
   "outputs": [],
   "source": [
    "#fill NaN mean value\n",
    "X[['Age', 'SibSp','Parch',  'Fare']]=myimputer_mean.fit_transform(X[['Age', 'SibSp','Parch',  'Fare']])"
   ]
  },
  {
   "cell_type": "code",
   "execution_count": 176,
   "metadata": {
    "collapsed": false
   },
   "outputs": [],
   "source": [
    "#fill NaN most frequntly value\n",
    "X[['Pclass', 'Sex','Embarked']] = myimputer_mf.fit_transform(X[['Pclass', 'Sex', 'Embarked']])"
   ]
  },
  {
   "cell_type": "code",
   "execution_count": 177,
   "metadata": {
    "collapsed": true
   },
   "outputs": [],
   "source": [
    "# after imputer values in float,convert 1.0 to 1\n",
    "X.Sex = X.Sex.astype(int)\n",
    "X.Embarked= X.Embarked.astype(int)\n",
    "X.Pclass = X.Pclass.astype(int)"
   ]
  },
  {
   "cell_type": "code",
   "execution_count": 178,
   "metadata": {
    "collapsed": false
   },
   "outputs": [
    {
     "data": {
      "text/plain": [
       "0    1\n",
       "1    0\n",
       "2    0\n",
       "3    0\n",
       "4    1\n",
       "Name: Sex, dtype: int32"
      ]
     },
     "execution_count": 178,
     "metadata": {},
     "output_type": "execute_result"
    }
   ],
   "source": [
    "X.Sex.head() # check"
   ]
  },
  {
   "cell_type": "code",
   "execution_count": 179,
   "metadata": {
    "collapsed": true
   },
   "outputs": [],
   "source": [
    "#Replacement in catboost style"
   ]
  },
  {
   "cell_type": "code",
   "execution_count": 180,
   "metadata": {
    "collapsed": false
   },
   "outputs": [],
   "source": [
    "\n",
    "catrepl_emb = СatReplaceByP()\n",
    "catrepl_sex = СatReplaceByP()\n",
    "catrepl_class = СatReplaceByP()"
   ]
  },
  {
   "cell_type": "code",
   "execution_count": null,
   "metadata": {
    "collapsed": true
   },
   "outputs": [],
   "source": [
    "catrepl_emb.fit(X.Embarked.loc[~X.is_test], y)\n",
    "catrepl_sex.fit(X.Sex.loc[~X.is_test], y)\n",
    "catrepl_class.fit(X.Pclass.loc[~X.is_test], y)"
   ]
  },
  {
   "cell_type": "markdown",
   "metadata": {},
   "source": [
    "перед тем как заменять категории создадим копию для собственно catboost пусть сделает это сам, тем более что пробовал очень разные варианты"
   ]
  },
  {
   "cell_type": "code",
   "execution_count": 181,
   "metadata": {
    "collapsed": true
   },
   "outputs": [],
   "source": [
    "X_cat=X.copy() "
   ]
  },
  {
   "cell_type": "code",
   "execution_count": 182,
   "metadata": {
    "collapsed": false
   },
   "outputs": [
    {
     "name": "stdout",
     "output_type": "stream",
     "text": [
      "<class 'pandas.core.frame.DataFrame'>\n",
      "RangeIndex: 1309 entries, 0 to 1308\n",
      "Data columns (total 12 columns):\n",
      "PassengerId    1309 non-null int64\n",
      "Pclass         1309 non-null int32\n",
      "Name           1309 non-null object\n",
      "Sex            1309 non-null int32\n",
      "Age            1309 non-null float64\n",
      "SibSp          1309 non-null float64\n",
      "Parch          1309 non-null float64\n",
      "Ticket         1309 non-null object\n",
      "Fare           1309 non-null float64\n",
      "Cabin          295 non-null object\n",
      "Embarked       1309 non-null int32\n",
      "is_test        1309 non-null bool\n",
      "dtypes: bool(1), float64(4), int32(3), int64(1), object(3)\n",
      "memory usage: 98.5+ KB\n"
     ]
    }
   ],
   "source": [
    "X_cat.info()"
   ]
  },
  {
   "cell_type": "code",
   "execution_count": 183,
   "metadata": {
    "collapsed": false
   },
   "outputs": [
    {
     "data": {
      "text/html": [
       "<div>\n",
       "<style>\n",
       "    .dataframe thead tr:only-child th {\n",
       "        text-align: right;\n",
       "    }\n",
       "\n",
       "    .dataframe thead th {\n",
       "        text-align: left;\n",
       "    }\n",
       "\n",
       "    .dataframe tbody tr th {\n",
       "        vertical-align: top;\n",
       "    }\n",
       "</style>\n",
       "<table border=\"1\" class=\"dataframe\">\n",
       "  <thead>\n",
       "    <tr style=\"text-align: right;\">\n",
       "      <th></th>\n",
       "      <th>PassengerId</th>\n",
       "      <th>Pclass</th>\n",
       "      <th>Name</th>\n",
       "      <th>Sex</th>\n",
       "      <th>Age</th>\n",
       "      <th>SibSp</th>\n",
       "      <th>Parch</th>\n",
       "      <th>Ticket</th>\n",
       "      <th>Fare</th>\n",
       "      <th>Cabin</th>\n",
       "      <th>Embarked</th>\n",
       "      <th>is_test</th>\n",
       "    </tr>\n",
       "  </thead>\n",
       "  <tbody>\n",
       "    <tr>\n",
       "      <th>0</th>\n",
       "      <td>1</td>\n",
       "      <td>2</td>\n",
       "      <td>Braund, Mr. Owen Harris</td>\n",
       "      <td>1</td>\n",
       "      <td>22.0</td>\n",
       "      <td>1.0</td>\n",
       "      <td>0.0</td>\n",
       "      <td>A/5 21171</td>\n",
       "      <td>7.2500</td>\n",
       "      <td>NaN</td>\n",
       "      <td>2</td>\n",
       "      <td>False</td>\n",
       "    </tr>\n",
       "    <tr>\n",
       "      <th>1</th>\n",
       "      <td>2</td>\n",
       "      <td>0</td>\n",
       "      <td>Cumings, Mrs. John Bradley (Florence Briggs Th...</td>\n",
       "      <td>0</td>\n",
       "      <td>38.0</td>\n",
       "      <td>1.0</td>\n",
       "      <td>0.0</td>\n",
       "      <td>PC 17599</td>\n",
       "      <td>71.2833</td>\n",
       "      <td>C85</td>\n",
       "      <td>0</td>\n",
       "      <td>False</td>\n",
       "    </tr>\n",
       "  </tbody>\n",
       "</table>\n",
       "</div>"
      ],
      "text/plain": [
       "   PassengerId  Pclass                                               Name  \\\n",
       "0            1       2                            Braund, Mr. Owen Harris   \n",
       "1            2       0  Cumings, Mrs. John Bradley (Florence Briggs Th...   \n",
       "\n",
       "   Sex   Age  SibSp  Parch     Ticket     Fare Cabin  Embarked  is_test  \n",
       "0    1  22.0    1.0    0.0  A/5 21171   7.2500   NaN         2    False  \n",
       "1    0  38.0    1.0    0.0   PC 17599  71.2833   C85         0    False  "
      ]
     },
     "execution_count": 183,
     "metadata": {},
     "output_type": "execute_result"
    }
   ],
   "source": [
    "X.head(2)"
   ]
  },
  {
   "cell_type": "code",
   "execution_count": 184,
   "metadata": {
    "collapsed": false
   },
   "outputs": [
    {
     "name": "stdout",
     "output_type": "stream",
     "text": [
      "Warning: The categorial 0 is new in transform, replaced by 0\n",
      "Warning: The categorial 1 is new in transform, replaced by 0\n",
      "Warning: The categorial 2 is new in transform, replaced by 0\n",
      "Warning: The categorial 0 is new in transform, replaced by 0\n",
      "Warning: The categorial 1 is new in transform, replaced by 0\n",
      "Warning: The categorial 0 is new in transform, replaced by 0\n",
      "Warning: The categorial 1 is new in transform, replaced by 0\n",
      "Warning: The categorial 2 is new in transform, replaced by 0\n",
      "Warning: The categorial 3 is new in transform, replaced by 0\n"
     ]
    }
   ],
   "source": [
    "X['Pclass2'] = catrepl_emb.tramsform(X.Pclass)\n",
    "X['Sex2'] = catrepl_sex.tramsform(X.Sex)\n",
    "X['Embarked2'] = catrepl_emb.tramsform(X.Embarked)"
   ]
  },
  {
   "cell_type": "code",
   "execution_count": 185,
   "metadata": {
    "collapsed": false
   },
   "outputs": [
    {
     "data": {
      "text/html": [
       "<div>\n",
       "<style>\n",
       "    .dataframe thead tr:only-child th {\n",
       "        text-align: right;\n",
       "    }\n",
       "\n",
       "    .dataframe thead th {\n",
       "        text-align: left;\n",
       "    }\n",
       "\n",
       "    .dataframe tbody tr th {\n",
       "        vertical-align: top;\n",
       "    }\n",
       "</style>\n",
       "<table border=\"1\" class=\"dataframe\">\n",
       "  <thead>\n",
       "    <tr style=\"text-align: right;\">\n",
       "      <th></th>\n",
       "      <th>PassengerId</th>\n",
       "      <th>Pclass</th>\n",
       "      <th>Name</th>\n",
       "      <th>Sex</th>\n",
       "      <th>Age</th>\n",
       "      <th>SibSp</th>\n",
       "      <th>Parch</th>\n",
       "      <th>Ticket</th>\n",
       "      <th>Fare</th>\n",
       "      <th>Cabin</th>\n",
       "      <th>Embarked</th>\n",
       "      <th>is_test</th>\n",
       "      <th>Pclass2</th>\n",
       "      <th>Sex2</th>\n",
       "      <th>Embarked2</th>\n",
       "    </tr>\n",
       "  </thead>\n",
       "  <tbody>\n",
       "    <tr>\n",
       "      <th>0</th>\n",
       "      <td>1</td>\n",
       "      <td>0</td>\n",
       "      <td>Braund, Mr. Owen Harris</td>\n",
       "      <td>0</td>\n",
       "      <td>22.0</td>\n",
       "      <td>1.0</td>\n",
       "      <td>0.0</td>\n",
       "      <td>A/5 21171</td>\n",
       "      <td>7.2500</td>\n",
       "      <td>NaN</td>\n",
       "      <td>0</td>\n",
       "      <td>False</td>\n",
       "      <td>0</td>\n",
       "      <td>0</td>\n",
       "      <td>0</td>\n",
       "    </tr>\n",
       "    <tr>\n",
       "      <th>1</th>\n",
       "      <td>2</td>\n",
       "      <td>0</td>\n",
       "      <td>Cumings, Mrs. John Bradley (Florence Briggs Th...</td>\n",
       "      <td>0</td>\n",
       "      <td>38.0</td>\n",
       "      <td>1.0</td>\n",
       "      <td>0.0</td>\n",
       "      <td>PC 17599</td>\n",
       "      <td>71.2833</td>\n",
       "      <td>C85</td>\n",
       "      <td>0</td>\n",
       "      <td>False</td>\n",
       "      <td>0</td>\n",
       "      <td>0</td>\n",
       "      <td>0</td>\n",
       "    </tr>\n",
       "  </tbody>\n",
       "</table>\n",
       "</div>"
      ],
      "text/plain": [
       "   PassengerId  Pclass                                               Name  \\\n",
       "0            1       0                            Braund, Mr. Owen Harris   \n",
       "1            2       0  Cumings, Mrs. John Bradley (Florence Briggs Th...   \n",
       "\n",
       "   Sex   Age  SibSp  Parch     Ticket     Fare Cabin  Embarked  is_test  \\\n",
       "0    0  22.0    1.0    0.0  A/5 21171   7.2500   NaN         0    False   \n",
       "1    0  38.0    1.0    0.0   PC 17599  71.2833   C85         0    False   \n",
       "\n",
       "   Pclass2  Sex2  Embarked2  \n",
       "0        0     0          0  \n",
       "1        0     0          0  "
      ]
     },
     "execution_count": 185,
     "metadata": {},
     "output_type": "execute_result"
    }
   ],
   "source": [
    "X.head(2)"
   ]
  },
  {
   "cell_type": "code",
   "execution_count": 186,
   "metadata": {
    "collapsed": false
   },
   "outputs": [],
   "source": [
    "X= pd.get_dummies(X, columns=['Sex', 'Pclass', 'Embarked'])\n"
   ]
  },
  {
   "cell_type": "code",
   "execution_count": 187,
   "metadata": {
    "collapsed": false
   },
   "outputs": [
    {
     "data": {
      "text/html": [
       "<div>\n",
       "<style>\n",
       "    .dataframe thead tr:only-child th {\n",
       "        text-align: right;\n",
       "    }\n",
       "\n",
       "    .dataframe thead th {\n",
       "        text-align: left;\n",
       "    }\n",
       "\n",
       "    .dataframe tbody tr th {\n",
       "        vertical-align: top;\n",
       "    }\n",
       "</style>\n",
       "<table border=\"1\" class=\"dataframe\">\n",
       "  <thead>\n",
       "    <tr style=\"text-align: right;\">\n",
       "      <th></th>\n",
       "      <th>PassengerId</th>\n",
       "      <th>Name</th>\n",
       "      <th>Age</th>\n",
       "      <th>SibSp</th>\n",
       "      <th>Parch</th>\n",
       "      <th>Ticket</th>\n",
       "      <th>Fare</th>\n",
       "      <th>Cabin</th>\n",
       "      <th>is_test</th>\n",
       "      <th>Pclass2</th>\n",
       "      <th>Sex2</th>\n",
       "      <th>Embarked2</th>\n",
       "      <th>Sex_0</th>\n",
       "      <th>Pclass_0</th>\n",
       "      <th>Embarked_0</th>\n",
       "    </tr>\n",
       "  </thead>\n",
       "  <tbody>\n",
       "    <tr>\n",
       "      <th>0</th>\n",
       "      <td>1</td>\n",
       "      <td>Braund, Mr. Owen Harris</td>\n",
       "      <td>22.0</td>\n",
       "      <td>1.0</td>\n",
       "      <td>0.0</td>\n",
       "      <td>A/5 21171</td>\n",
       "      <td>7.2500</td>\n",
       "      <td>NaN</td>\n",
       "      <td>False</td>\n",
       "      <td>0</td>\n",
       "      <td>0</td>\n",
       "      <td>0</td>\n",
       "      <td>1</td>\n",
       "      <td>1</td>\n",
       "      <td>1</td>\n",
       "    </tr>\n",
       "    <tr>\n",
       "      <th>1</th>\n",
       "      <td>2</td>\n",
       "      <td>Cumings, Mrs. John Bradley (Florence Briggs Th...</td>\n",
       "      <td>38.0</td>\n",
       "      <td>1.0</td>\n",
       "      <td>0.0</td>\n",
       "      <td>PC 17599</td>\n",
       "      <td>71.2833</td>\n",
       "      <td>C85</td>\n",
       "      <td>False</td>\n",
       "      <td>0</td>\n",
       "      <td>0</td>\n",
       "      <td>0</td>\n",
       "      <td>1</td>\n",
       "      <td>1</td>\n",
       "      <td>1</td>\n",
       "    </tr>\n",
       "  </tbody>\n",
       "</table>\n",
       "</div>"
      ],
      "text/plain": [
       "   PassengerId                                               Name   Age  \\\n",
       "0            1                            Braund, Mr. Owen Harris  22.0   \n",
       "1            2  Cumings, Mrs. John Bradley (Florence Briggs Th...  38.0   \n",
       "\n",
       "   SibSp  Parch     Ticket     Fare Cabin  is_test  Pclass2  Sex2  Embarked2  \\\n",
       "0    1.0    0.0  A/5 21171   7.2500   NaN    False        0     0          0   \n",
       "1    1.0    0.0   PC 17599  71.2833   C85    False        0     0          0   \n",
       "\n",
       "   Sex_0  Pclass_0  Embarked_0  \n",
       "0      1         1           1  \n",
       "1      1         1           1  "
      ]
     },
     "execution_count": 187,
     "metadata": {},
     "output_type": "execute_result"
    }
   ],
   "source": [
    "X.head(2)"
   ]
  },
  {
   "cell_type": "markdown",
   "metadata": {},
   "source": [
    "способ, когда мы разносим категории в разные столбцы, но вместо единиц в столбцах ставим вероятность класса=1 в этой категории - дает лучший результат"
   ]
  },
  {
   "cell_type": "code",
   "execution_count": 518,
   "metadata": {
    "collapsed": false
   },
   "outputs": [],
   "source": [
    "X.Pclass_0 = X.Pclass_0 * X.Pclass2\n",
    "X.Pclass_1 = X.Pclass_1 * X.Pclass2\n",
    "X.Pclass_2 = X.Pclass_2 * X.Pclass2"
   ]
  },
  {
   "cell_type": "code",
   "execution_count": 219,
   "metadata": {
    "collapsed": false
   },
   "outputs": [],
   "source": [
    "X.Sex_0 = X.Sex_0 * X.Sex2\n",
    "X.Sex_1 = X.Sex_1 * X.Sex2"
   ]
  },
  {
   "cell_type": "code",
   "execution_count": 220,
   "metadata": {
    "collapsed": true
   },
   "outputs": [],
   "source": [
    "X.Embarked_0 = X.Embarked_0 * X.Embarked2\n",
    "X.Embarked_1 = X.Embarked_1 * X.Embarked2\n",
    "X.Embarked_2 = X.Embarked_2 * X.Embarked2\n",
    "X.Embarked_3 = X.Embarked_3 * X.Embarked2"
   ]
  },
  {
   "cell_type": "code",
   "execution_count": 221,
   "metadata": {
    "collapsed": false
   },
   "outputs": [
    {
     "data": {
      "text/html": [
       "<div>\n",
       "<style>\n",
       "    .dataframe thead tr:only-child th {\n",
       "        text-align: right;\n",
       "    }\n",
       "\n",
       "    .dataframe thead th {\n",
       "        text-align: left;\n",
       "    }\n",
       "\n",
       "    .dataframe tbody tr th {\n",
       "        vertical-align: top;\n",
       "    }\n",
       "</style>\n",
       "<table border=\"1\" class=\"dataframe\">\n",
       "  <thead>\n",
       "    <tr style=\"text-align: right;\">\n",
       "      <th></th>\n",
       "      <th>PassengerId</th>\n",
       "      <th>Name</th>\n",
       "      <th>Age</th>\n",
       "      <th>SibSp</th>\n",
       "      <th>Parch</th>\n",
       "      <th>Ticket</th>\n",
       "      <th>Fare</th>\n",
       "      <th>Cabin</th>\n",
       "      <th>is_test</th>\n",
       "      <th>Pclass2</th>\n",
       "      <th>...</th>\n",
       "      <th>Embarked2</th>\n",
       "      <th>Sex_0</th>\n",
       "      <th>Sex_1</th>\n",
       "      <th>Pclass_0</th>\n",
       "      <th>Pclass_1</th>\n",
       "      <th>Pclass_2</th>\n",
       "      <th>Embarked_0</th>\n",
       "      <th>Embarked_1</th>\n",
       "      <th>Embarked_2</th>\n",
       "      <th>Embarked_3</th>\n",
       "    </tr>\n",
       "  </thead>\n",
       "  <tbody>\n",
       "    <tr>\n",
       "      <th>0</th>\n",
       "      <td>1</td>\n",
       "      <td>Braund, Mr. Owen Harris</td>\n",
       "      <td>22.0</td>\n",
       "      <td>1.0</td>\n",
       "      <td>0.0</td>\n",
       "      <td>A/5 21171</td>\n",
       "      <td>7.2500</td>\n",
       "      <td>NaN</td>\n",
       "      <td>False</td>\n",
       "      <td>0.336957</td>\n",
       "      <td>...</td>\n",
       "      <td>0.336957</td>\n",
       "      <td>0.000000</td>\n",
       "      <td>0.188908</td>\n",
       "      <td>0.000000</td>\n",
       "      <td>0.0</td>\n",
       "      <td>0.336957</td>\n",
       "      <td>0.000000</td>\n",
       "      <td>0.0</td>\n",
       "      <td>0.336957</td>\n",
       "      <td>0.0</td>\n",
       "    </tr>\n",
       "    <tr>\n",
       "      <th>1</th>\n",
       "      <td>2</td>\n",
       "      <td>Cumings, Mrs. John Bradley (Florence Briggs Th...</td>\n",
       "      <td>38.0</td>\n",
       "      <td>1.0</td>\n",
       "      <td>0.0</td>\n",
       "      <td>PC 17599</td>\n",
       "      <td>71.2833</td>\n",
       "      <td>C85</td>\n",
       "      <td>False</td>\n",
       "      <td>0.553571</td>\n",
       "      <td>...</td>\n",
       "      <td>0.553571</td>\n",
       "      <td>0.742038</td>\n",
       "      <td>0.000000</td>\n",
       "      <td>0.553571</td>\n",
       "      <td>0.0</td>\n",
       "      <td>0.000000</td>\n",
       "      <td>0.553571</td>\n",
       "      <td>0.0</td>\n",
       "      <td>0.000000</td>\n",
       "      <td>0.0</td>\n",
       "    </tr>\n",
       "  </tbody>\n",
       "</table>\n",
       "<p>2 rows × 21 columns</p>\n",
       "</div>"
      ],
      "text/plain": [
       "   PassengerId                                               Name   Age  \\\n",
       "0            1                            Braund, Mr. Owen Harris  22.0   \n",
       "1            2  Cumings, Mrs. John Bradley (Florence Briggs Th...  38.0   \n",
       "\n",
       "   SibSp  Parch     Ticket     Fare Cabin  is_test   Pclass2     ...      \\\n",
       "0    1.0    0.0  A/5 21171   7.2500   NaN    False  0.336957     ...       \n",
       "1    1.0    0.0   PC 17599  71.2833   C85    False  0.553571     ...       \n",
       "\n",
       "   Embarked2     Sex_0     Sex_1  Pclass_0  Pclass_1  Pclass_2  Embarked_0  \\\n",
       "0   0.336957  0.000000  0.188908  0.000000       0.0  0.336957    0.000000   \n",
       "1   0.553571  0.742038  0.000000  0.553571       0.0  0.000000    0.553571   \n",
       "\n",
       "   Embarked_1  Embarked_2  Embarked_3  \n",
       "0         0.0    0.336957         0.0  \n",
       "1         0.0    0.000000         0.0  \n",
       "\n",
       "[2 rows x 21 columns]"
      ]
     },
     "execution_count": 221,
     "metadata": {},
     "output_type": "execute_result"
    }
   ],
   "source": [
    "X.head(2)\n"
   ]
  },
  {
   "cell_type": "code",
   "execution_count": 222,
   "metadata": {
    "collapsed": false
   },
   "outputs": [
    {
     "name": "stdout",
     "output_type": "stream",
     "text": [
      "<class 'pandas.core.frame.DataFrame'>\n",
      "RangeIndex: 1309 entries, 0 to 1308\n",
      "Data columns (total 12 columns):\n",
      "PassengerId    1309 non-null int64\n",
      "Pclass         1309 non-null int32\n",
      "Name           1309 non-null object\n",
      "Sex            1309 non-null int32\n",
      "Age            1309 non-null float64\n",
      "SibSp          1309 non-null float64\n",
      "Parch          1309 non-null float64\n",
      "Ticket         1309 non-null object\n",
      "Fare           1309 non-null float64\n",
      "Cabin          295 non-null object\n",
      "Embarked       1309 non-null int32\n",
      "is_test        1309 non-null bool\n",
      "dtypes: bool(1), float64(4), int32(3), int64(1), object(3)\n",
      "memory usage: 98.5+ KB\n"
     ]
    }
   ],
   "source": [
    "X_cat.info()"
   ]
  },
  {
   "cell_type": "code",
   "execution_count": 223,
   "metadata": {
    "collapsed": false
   },
   "outputs": [],
   "source": [
    "X.drop(['PassengerId', 'Name', 'Cabin', 'Ticket', 'Sex2', 'Embarked2','Pclass2' ], axis=1, inplace=True)\n"
   ]
  },
  {
   "cell_type": "code",
   "execution_count": 224,
   "metadata": {
    "collapsed": false
   },
   "outputs": [],
   "source": [
    "X_cat.drop(['PassengerId', 'Name', 'Cabin', 'Ticket' ], axis=1, inplace=True)"
   ]
  },
  {
   "cell_type": "code",
   "execution_count": 225,
   "metadata": {
    "collapsed": false
   },
   "outputs": [
    {
     "name": "stdout",
     "output_type": "stream",
     "text": [
      "<class 'pandas.core.frame.DataFrame'>\n",
      "RangeIndex: 1309 entries, 0 to 1308\n",
      "Data columns (total 14 columns):\n",
      "Age           1309 non-null float64\n",
      "SibSp         1309 non-null float64\n",
      "Parch         1309 non-null float64\n",
      "Fare          1309 non-null float64\n",
      "is_test       1309 non-null bool\n",
      "Sex_0         1309 non-null float64\n",
      "Sex_1         1309 non-null float64\n",
      "Pclass_0      1309 non-null float64\n",
      "Pclass_1      1309 non-null float64\n",
      "Pclass_2      1309 non-null float64\n",
      "Embarked_0    1309 non-null float64\n",
      "Embarked_1    1309 non-null float64\n",
      "Embarked_2    1309 non-null float64\n",
      "Embarked_3    1309 non-null float64\n",
      "dtypes: bool(1), float64(13)\n",
      "memory usage: 134.3 KB\n"
     ]
    }
   ],
   "source": [
    "X.info()"
   ]
  },
  {
   "cell_type": "code",
   "execution_count": 226,
   "metadata": {
    "collapsed": true
   },
   "outputs": [],
   "source": [
    "X_train = X.loc[X.is_test==False]\n",
    "X_test = X.loc[X.is_test==True]"
   ]
  },
  {
   "cell_type": "code",
   "execution_count": 227,
   "metadata": {
    "collapsed": true
   },
   "outputs": [],
   "source": [
    "del X_test['is_test']\n",
    "del X_train['is_test']"
   ]
  },
  {
   "cell_type": "markdown",
   "metadata": {},
   "source": [
    "## Model Learning"
   ]
  },
  {
   "cell_type": "code",
   "execution_count": 228,
   "metadata": {
    "collapsed": false
   },
   "outputs": [],
   "source": [
    "import numpy as np\n",
    "from sklearn.model_selection import cross_val_predict\n",
    "from sklearn.model_selection import KFold\n",
    "from sklearn.ensemble import RandomForestClassifier\n",
    "from sklearn.ensemble import GradientBoostingClassifier\n",
    "from sklearn.model_selection import GridSearchCV\n",
    "from catboost import CatBoostClassifier\n",
    "from sklearn.naive_bayes import GaussianNB\n",
    "from sklearn.gaussian_process import GaussianProcessClassifier\n",
    "from sklearn.svm import LinearSVC, SVC\n",
    "from sklearn.linear_model import SGDClassifier\n",
    "\n",
    "def cross_val_predict_proba(estimator, X_train, y_train):\n",
    "    kfold = KFold(n_splits=5, shuffle=True)\n",
    "    return cross_val_predict(estimator, X_train, y_train, cv=kfold, method='predict_proba')\n"
   ]
  },
  {
   "cell_type": "code",
   "execution_count": 531,
   "metadata": {
    "collapsed": false
   },
   "outputs": [],
   "source": [
    "#Random Forest the best\n",
    "pipline_rf=Pipeline([('scale', StandardScaler()), \n",
    "                  ('model', RandomForestClassifier(n_estimators=10, \n",
    "                                                   #loss='deviance', \n",
    "                                                   #learning_rate =0.1,\n",
    "                                                   random_state=1111))])\n",
    "kfold_out=KFold(n_splits=4, shuffle=True)\n",
    "\n",
    "\n",
    "depths = np.arange(5, 15, 2)\n",
    "min_samples_leaf = np.arange(1, 10, 2)\n",
    "max_leaf_nodes = [20, 50, 100, None]\n",
    "min_weight_fraction_leaf = [0.0 ,0.1, 0.3, 0.5 ]\n",
    "class_weight = ['balanced', None]\n",
    "grid = {'model__max_depth': [3,4,6], \n",
    "        'model__max_leaf_nodes': max_leaf_nodes,\n",
    "       'model__min_samples_leaf': [1,2,5], \n",
    "       #'model__min_samples_split': [2,3,4] , \n",
    "       # 'model__min_weight_fraction_leaf': min_weight_fraction_leaf,\n",
    "       #'model__class_weight': class_weight,\n",
    "         #'model__max_features' : [ 0.5,0.8, 'auto'],\n",
    "        'model__n_estimators' : [150,170]}  \n",
    "gridsearch = GridSearchCV(pipline_rf, grid, scoring='accuracy', cv=kfold_out)"
   ]
  },
  {
   "cell_type": "code",
   "execution_count": 532,
   "metadata": {
    "collapsed": false,
    "scrolled": true
   },
   "outputs": [
    {
     "data": {
      "text/plain": [
       "GridSearchCV(cv=KFold(n_splits=4, random_state=None, shuffle=True),\n",
       "       error_score='raise',\n",
       "       estimator=Pipeline(steps=[('scale', StandardScaler(copy=True, with_mean=True, with_std=True)), ('model', RandomForestClassifier(bootstrap=True, class_weight=None, criterion='gini',\n",
       "            max_depth=None, max_features='auto', max_leaf_nodes=None,\n",
       "            min_impurity_split=1e-07, min_samples_leaf=1,\n",
       "            min_samples_split=2, min_weight_fraction_leaf=0.0,\n",
       "            n_estimators=10, n_jobs=1, oob_score=False, random_state=1111,\n",
       "            verbose=0, warm_start=False))]),\n",
       "       fit_params={}, iid=True, n_jobs=1,\n",
       "       param_grid={'model__max_depth': [3, 4, 6], 'model__max_leaf_nodes': [20, 50, 100, None], 'model__min_samples_leaf': [1, 2, 5], 'model__n_estimators': [150, 170]},\n",
       "       pre_dispatch='2*n_jobs', refit=True, return_train_score=True,\n",
       "       scoring='accuracy', verbose=0)"
      ]
     },
     "execution_count": 532,
     "metadata": {},
     "output_type": "execute_result"
    }
   ],
   "source": [
    "gridsearch.fit(X_train,y)"
   ]
  },
  {
   "cell_type": "code",
   "execution_count": 533,
   "metadata": {
    "collapsed": false
   },
   "outputs": [
    {
     "data": {
      "text/plain": [
       "{'model__max_depth': 3,\n",
       " 'model__max_leaf_nodes': 20,\n",
       " 'model__min_samples_leaf': 1,\n",
       " 'model__n_estimators': 170}"
      ]
     },
     "execution_count": 533,
     "metadata": {},
     "output_type": "execute_result"
    }
   ],
   "source": [
    "gridsearch.best_params_"
   ]
  },
  {
   "cell_type": "code",
   "execution_count": 534,
   "metadata": {
    "collapsed": false
   },
   "outputs": [
    {
     "data": {
      "text/plain": [
       "dict_keys(['split0_test_score', 'split1_test_score', 'split2_test_score', 'split3_test_score', 'mean_test_score', 'std_test_score', 'rank_test_score', 'split0_train_score', 'split1_train_score', 'split2_train_score', 'split3_train_score', 'mean_train_score', 'std_train_score', 'mean_fit_time', 'std_fit_time', 'mean_score_time', 'std_score_time', 'param_model__max_depth', 'param_model__max_leaf_nodes', 'param_model__min_samples_leaf', 'param_model__n_estimators', 'params'])"
      ]
     },
     "execution_count": 534,
     "metadata": {},
     "output_type": "execute_result"
    }
   ],
   "source": [
    "gridsearch.cv_results_.keys()"
   ]
  },
  {
   "cell_type": "markdown",
   "metadata": {},
   "source": [
    "#### Для оценки лучших параметров, посчитаем дисперсию, что бы понять какие параметры дают более стабильную модель, т.е. оценивать будем не только по результатм метрики "
   ]
  },
  {
   "cell_type": "code",
   "execution_count": 536,
   "metadata": {
    "collapsed": false
   },
   "outputs": [],
   "source": [
    "rf_gs_res = pd.DataFrame()\n",
    "rf_gs_res['0'] = gridsearch.cv_results_['split0_test_score']\n",
    "rf_gs_res['1'] = gridsearch.cv_results_['split1_test_score']\n",
    "rf_gs_res['2'] = gridsearch.cv_results_['split2_test_score']\n",
    "rf_gs_res['3'] = gridsearch.cv_results_['split3_test_score']\n",
    "rf_gs_res['P'] = gridsearch.cv_results_['params']\n",
    "rf_gs_res['M'] = gridsearch.cv_results_['mean_test_score']"
   ]
  },
  {
   "cell_type": "code",
   "execution_count": 537,
   "metadata": {
    "collapsed": false
   },
   "outputs": [
    {
     "data": {
      "text/plain": [
       "0    0.000219\n",
       "1    0.000187\n",
       "2    0.000238\n",
       "3    0.000172\n",
       "4    0.000253\n",
       "Name: var, dtype: float64"
      ]
     },
     "execution_count": 537,
     "metadata": {},
     "output_type": "execute_result"
    }
   ],
   "source": [
    "rf_gs_res['var'] = rf_gs_res[['0','1','2','3']].var(1)\n",
    "rf_gs_res['var'].head()"
   ]
  },
  {
   "cell_type": "code",
   "execution_count": 539,
   "metadata": {
    "collapsed": false
   },
   "outputs": [
    {
     "data": {
      "text/html": [
       "<div>\n",
       "<style>\n",
       "    .dataframe thead tr:only-child th {\n",
       "        text-align: right;\n",
       "    }\n",
       "\n",
       "    .dataframe thead th {\n",
       "        text-align: left;\n",
       "    }\n",
       "\n",
       "    .dataframe tbody tr th {\n",
       "        vertical-align: top;\n",
       "    }\n",
       "</style>\n",
       "<table border=\"1\" class=\"dataframe\">\n",
       "  <thead>\n",
       "    <tr style=\"text-align: right;\">\n",
       "      <th></th>\n",
       "      <th>M</th>\n",
       "      <th>P</th>\n",
       "      <th>var</th>\n",
       "      <th>0</th>\n",
       "      <th>1</th>\n",
       "      <th>2</th>\n",
       "      <th>3</th>\n",
       "    </tr>\n",
       "  </thead>\n",
       "  <tbody>\n",
       "    <tr>\n",
       "      <th>55</th>\n",
       "      <td>0.810325</td>\n",
       "      <td>{'model__max_depth': 6, 'model__max_leaf_nodes...</td>\n",
       "      <td>0.000005</td>\n",
       "      <td>0.807175</td>\n",
       "      <td>0.811659</td>\n",
       "      <td>0.811659</td>\n",
       "      <td>0.810811</td>\n",
       "    </tr>\n",
       "    <tr>\n",
       "      <th>66</th>\n",
       "      <td>0.809203</td>\n",
       "      <td>{'model__max_depth': 6, 'model__max_leaf_nodes...</td>\n",
       "      <td>0.000008</td>\n",
       "      <td>0.811659</td>\n",
       "      <td>0.807175</td>\n",
       "      <td>0.811659</td>\n",
       "      <td>0.806306</td>\n",
       "    </tr>\n",
       "    <tr>\n",
       "      <th>68</th>\n",
       "      <td>0.806958</td>\n",
       "      <td>{'model__max_depth': 6, 'model__max_leaf_nodes...</td>\n",
       "      <td>0.000014</td>\n",
       "      <td>0.811659</td>\n",
       "      <td>0.807175</td>\n",
       "      <td>0.802691</td>\n",
       "      <td>0.806306</td>\n",
       "    </tr>\n",
       "    <tr>\n",
       "      <th>61</th>\n",
       "      <td>0.812570</td>\n",
       "      <td>{'model__max_depth': 6, 'model__max_leaf_nodes...</td>\n",
       "      <td>0.000017</td>\n",
       "      <td>0.807175</td>\n",
       "      <td>0.816143</td>\n",
       "      <td>0.811659</td>\n",
       "      <td>0.815315</td>\n",
       "    </tr>\n",
       "    <tr>\n",
       "      <th>54</th>\n",
       "      <td>0.812570</td>\n",
       "      <td>{'model__max_depth': 6, 'model__max_leaf_nodes...</td>\n",
       "      <td>0.000017</td>\n",
       "      <td>0.807175</td>\n",
       "      <td>0.811659</td>\n",
       "      <td>0.816143</td>\n",
       "      <td>0.815315</td>\n",
       "    </tr>\n",
       "    <tr>\n",
       "      <th>60</th>\n",
       "      <td>0.813692</td>\n",
       "      <td>{'model__max_depth': 6, 'model__max_leaf_nodes...</td>\n",
       "      <td>0.000019</td>\n",
       "      <td>0.807175</td>\n",
       "      <td>0.816143</td>\n",
       "      <td>0.816143</td>\n",
       "      <td>0.815315</td>\n",
       "    </tr>\n",
       "    <tr>\n",
       "      <th>67</th>\n",
       "      <td>0.812570</td>\n",
       "      <td>{'model__max_depth': 6, 'model__max_leaf_nodes...</td>\n",
       "      <td>0.000019</td>\n",
       "      <td>0.816143</td>\n",
       "      <td>0.807175</td>\n",
       "      <td>0.816143</td>\n",
       "      <td>0.810811</td>\n",
       "    </tr>\n",
       "    <tr>\n",
       "      <th>63</th>\n",
       "      <td>0.812570</td>\n",
       "      <td>{'model__max_depth': 6, 'model__max_leaf_nodes...</td>\n",
       "      <td>0.000019</td>\n",
       "      <td>0.816143</td>\n",
       "      <td>0.816143</td>\n",
       "      <td>0.807175</td>\n",
       "      <td>0.810811</td>\n",
       "    </tr>\n",
       "    <tr>\n",
       "      <th>62</th>\n",
       "      <td>0.812570</td>\n",
       "      <td>{'model__max_depth': 6, 'model__max_leaf_nodes...</td>\n",
       "      <td>0.000019</td>\n",
       "      <td>0.816143</td>\n",
       "      <td>0.816143</td>\n",
       "      <td>0.807175</td>\n",
       "      <td>0.810811</td>\n",
       "    </tr>\n",
       "    <tr>\n",
       "      <th>56</th>\n",
       "      <td>0.812570</td>\n",
       "      <td>{'model__max_depth': 6, 'model__max_leaf_nodes...</td>\n",
       "      <td>0.000019</td>\n",
       "      <td>0.816143</td>\n",
       "      <td>0.816143</td>\n",
       "      <td>0.807175</td>\n",
       "      <td>0.810811</td>\n",
       "    </tr>\n",
       "    <tr>\n",
       "      <th>57</th>\n",
       "      <td>0.812570</td>\n",
       "      <td>{'model__max_depth': 6, 'model__max_leaf_nodes...</td>\n",
       "      <td>0.000019</td>\n",
       "      <td>0.816143</td>\n",
       "      <td>0.816143</td>\n",
       "      <td>0.807175</td>\n",
       "      <td>0.810811</td>\n",
       "    </tr>\n",
       "    <tr>\n",
       "      <th>69</th>\n",
       "      <td>0.808081</td>\n",
       "      <td>{'model__max_depth': 6, 'model__max_leaf_nodes...</td>\n",
       "      <td>0.000019</td>\n",
       "      <td>0.811659</td>\n",
       "      <td>0.811659</td>\n",
       "      <td>0.802691</td>\n",
       "      <td>0.806306</td>\n",
       "    </tr>\n",
       "    <tr>\n",
       "      <th>25</th>\n",
       "      <td>0.810325</td>\n",
       "      <td>{'model__max_depth': 4, 'model__max_leaf_nodes...</td>\n",
       "      <td>0.000021</td>\n",
       "      <td>0.811659</td>\n",
       "      <td>0.807175</td>\n",
       "      <td>0.816143</td>\n",
       "      <td>0.806306</td>\n",
       "    </tr>\n",
       "    <tr>\n",
       "      <th>50</th>\n",
       "      <td>0.806958</td>\n",
       "      <td>{'model__max_depth': 6, 'model__max_leaf_nodes...</td>\n",
       "      <td>0.000030</td>\n",
       "      <td>0.811659</td>\n",
       "      <td>0.802691</td>\n",
       "      <td>0.811659</td>\n",
       "      <td>0.801802</td>\n",
       "    </tr>\n",
       "    <tr>\n",
       "      <th>64</th>\n",
       "      <td>0.806958</td>\n",
       "      <td>{'model__max_depth': 6, 'model__max_leaf_nodes...</td>\n",
       "      <td>0.000040</td>\n",
       "      <td>0.811659</td>\n",
       "      <td>0.798206</td>\n",
       "      <td>0.811659</td>\n",
       "      <td>0.806306</td>\n",
       "    </tr>\n",
       "    <tr>\n",
       "      <th>58</th>\n",
       "      <td>0.806958</td>\n",
       "      <td>{'model__max_depth': 6, 'model__max_leaf_nodes...</td>\n",
       "      <td>0.000040</td>\n",
       "      <td>0.811659</td>\n",
       "      <td>0.798206</td>\n",
       "      <td>0.811659</td>\n",
       "      <td>0.806306</td>\n",
       "    </tr>\n",
       "    <tr>\n",
       "      <th>65</th>\n",
       "      <td>0.805836</td>\n",
       "      <td>{'model__max_depth': 6, 'model__max_leaf_nodes...</td>\n",
       "      <td>0.000047</td>\n",
       "      <td>0.811659</td>\n",
       "      <td>0.798206</td>\n",
       "      <td>0.811659</td>\n",
       "      <td>0.801802</td>\n",
       "    </tr>\n",
       "    <tr>\n",
       "      <th>59</th>\n",
       "      <td>0.805836</td>\n",
       "      <td>{'model__max_depth': 6, 'model__max_leaf_nodes...</td>\n",
       "      <td>0.000047</td>\n",
       "      <td>0.811659</td>\n",
       "      <td>0.798206</td>\n",
       "      <td>0.811659</td>\n",
       "      <td>0.801802</td>\n",
       "    </tr>\n",
       "    <tr>\n",
       "      <th>51</th>\n",
       "      <td>0.805836</td>\n",
       "      <td>{'model__max_depth': 6, 'model__max_leaf_nodes...</td>\n",
       "      <td>0.000047</td>\n",
       "      <td>0.811659</td>\n",
       "      <td>0.798206</td>\n",
       "      <td>0.811659</td>\n",
       "      <td>0.801802</td>\n",
       "    </tr>\n",
       "    <tr>\n",
       "      <th>71</th>\n",
       "      <td>0.810325</td>\n",
       "      <td>{'model__max_depth': 6, 'model__max_leaf_nodes...</td>\n",
       "      <td>0.000063</td>\n",
       "      <td>0.811659</td>\n",
       "      <td>0.807175</td>\n",
       "      <td>0.820628</td>\n",
       "      <td>0.801802</td>\n",
       "    </tr>\n",
       "    <tr>\n",
       "      <th>36</th>\n",
       "      <td>0.809203</td>\n",
       "      <td>{'model__max_depth': 4, 'model__max_leaf_nodes...</td>\n",
       "      <td>0.000078</td>\n",
       "      <td>0.811659</td>\n",
       "      <td>0.802691</td>\n",
       "      <td>0.820628</td>\n",
       "      <td>0.801802</td>\n",
       "    </tr>\n",
       "    <tr>\n",
       "      <th>30</th>\n",
       "      <td>0.809203</td>\n",
       "      <td>{'model__max_depth': 4, 'model__max_leaf_nodes...</td>\n",
       "      <td>0.000078</td>\n",
       "      <td>0.811659</td>\n",
       "      <td>0.802691</td>\n",
       "      <td>0.820628</td>\n",
       "      <td>0.801802</td>\n",
       "    </tr>\n",
       "    <tr>\n",
       "      <th>37</th>\n",
       "      <td>0.811448</td>\n",
       "      <td>{'model__max_depth': 4, 'model__max_leaf_nodes...</td>\n",
       "      <td>0.000099</td>\n",
       "      <td>0.811659</td>\n",
       "      <td>0.807175</td>\n",
       "      <td>0.825112</td>\n",
       "      <td>0.801802</td>\n",
       "    </tr>\n",
       "    <tr>\n",
       "      <th>31</th>\n",
       "      <td>0.811448</td>\n",
       "      <td>{'model__max_depth': 4, 'model__max_leaf_nodes...</td>\n",
       "      <td>0.000099</td>\n",
       "      <td>0.811659</td>\n",
       "      <td>0.807175</td>\n",
       "      <td>0.825112</td>\n",
       "      <td>0.801802</td>\n",
       "    </tr>\n",
       "    <tr>\n",
       "      <th>70</th>\n",
       "      <td>0.808081</td>\n",
       "      <td>{'model__max_depth': 6, 'model__max_leaf_nodes...</td>\n",
       "      <td>0.000105</td>\n",
       "      <td>0.811659</td>\n",
       "      <td>0.802691</td>\n",
       "      <td>0.820628</td>\n",
       "      <td>0.797297</td>\n",
       "    </tr>\n",
       "    <tr>\n",
       "      <th>49</th>\n",
       "      <td>0.814815</td>\n",
       "      <td>{'model__max_depth': 6, 'model__max_leaf_nodes...</td>\n",
       "      <td>0.000136</td>\n",
       "      <td>0.816143</td>\n",
       "      <td>0.798206</td>\n",
       "      <td>0.825112</td>\n",
       "      <td>0.819820</td>\n",
       "    </tr>\n",
       "    <tr>\n",
       "      <th>24</th>\n",
       "      <td>0.806958</td>\n",
       "      <td>{'model__max_depth': 4, 'model__max_leaf_nodes...</td>\n",
       "      <td>0.000137</td>\n",
       "      <td>0.811659</td>\n",
       "      <td>0.793722</td>\n",
       "      <td>0.820628</td>\n",
       "      <td>0.801802</td>\n",
       "    </tr>\n",
       "    <tr>\n",
       "      <th>39</th>\n",
       "      <td>0.811448</td>\n",
       "      <td>{'model__max_depth': 4, 'model__max_leaf_nodes...</td>\n",
       "      <td>0.000172</td>\n",
       "      <td>0.811659</td>\n",
       "      <td>0.793722</td>\n",
       "      <td>0.825112</td>\n",
       "      <td>0.815315</td>\n",
       "    </tr>\n",
       "    <tr>\n",
       "      <th>33</th>\n",
       "      <td>0.811448</td>\n",
       "      <td>{'model__max_depth': 4, 'model__max_leaf_nodes...</td>\n",
       "      <td>0.000172</td>\n",
       "      <td>0.811659</td>\n",
       "      <td>0.793722</td>\n",
       "      <td>0.825112</td>\n",
       "      <td>0.815315</td>\n",
       "    </tr>\n",
       "    <tr>\n",
       "      <th>9</th>\n",
       "      <td>0.814815</td>\n",
       "      <td>{'model__max_depth': 3, 'model__max_leaf_nodes...</td>\n",
       "      <td>0.000172</td>\n",
       "      <td>0.811659</td>\n",
       "      <td>0.798206</td>\n",
       "      <td>0.820628</td>\n",
       "      <td>0.828829</td>\n",
       "    </tr>\n",
       "    <tr>\n",
       "      <th>...</th>\n",
       "      <td>...</td>\n",
       "      <td>...</td>\n",
       "      <td>...</td>\n",
       "      <td>...</td>\n",
       "      <td>...</td>\n",
       "      <td>...</td>\n",
       "      <td>...</td>\n",
       "    </tr>\n",
       "    <tr>\n",
       "      <th>27</th>\n",
       "      <td>0.812570</td>\n",
       "      <td>{'model__max_depth': 4, 'model__max_leaf_nodes...</td>\n",
       "      <td>0.000218</td>\n",
       "      <td>0.811659</td>\n",
       "      <td>0.793722</td>\n",
       "      <td>0.829596</td>\n",
       "      <td>0.815315</td>\n",
       "    </tr>\n",
       "    <tr>\n",
       "      <th>26</th>\n",
       "      <td>0.812570</td>\n",
       "      <td>{'model__max_depth': 4, 'model__max_leaf_nodes...</td>\n",
       "      <td>0.000218</td>\n",
       "      <td>0.811659</td>\n",
       "      <td>0.793722</td>\n",
       "      <td>0.829596</td>\n",
       "      <td>0.815315</td>\n",
       "    </tr>\n",
       "    <tr>\n",
       "      <th>47</th>\n",
       "      <td>0.812570</td>\n",
       "      <td>{'model__max_depth': 4, 'model__max_leaf_nodes...</td>\n",
       "      <td>0.000218</td>\n",
       "      <td>0.811659</td>\n",
       "      <td>0.793722</td>\n",
       "      <td>0.829596</td>\n",
       "      <td>0.815315</td>\n",
       "    </tr>\n",
       "    <tr>\n",
       "      <th>0</th>\n",
       "      <td>0.815937</td>\n",
       "      <td>{'model__max_depth': 3, 'model__max_leaf_nodes...</td>\n",
       "      <td>0.000219</td>\n",
       "      <td>0.811659</td>\n",
       "      <td>0.798206</td>\n",
       "      <td>0.820628</td>\n",
       "      <td>0.833333</td>\n",
       "    </tr>\n",
       "    <tr>\n",
       "      <th>12</th>\n",
       "      <td>0.815937</td>\n",
       "      <td>{'model__max_depth': 3, 'model__max_leaf_nodes...</td>\n",
       "      <td>0.000219</td>\n",
       "      <td>0.811659</td>\n",
       "      <td>0.798206</td>\n",
       "      <td>0.820628</td>\n",
       "      <td>0.833333</td>\n",
       "    </tr>\n",
       "    <tr>\n",
       "      <th>6</th>\n",
       "      <td>0.815937</td>\n",
       "      <td>{'model__max_depth': 3, 'model__max_leaf_nodes...</td>\n",
       "      <td>0.000219</td>\n",
       "      <td>0.811659</td>\n",
       "      <td>0.798206</td>\n",
       "      <td>0.820628</td>\n",
       "      <td>0.833333</td>\n",
       "    </tr>\n",
       "    <tr>\n",
       "      <th>44</th>\n",
       "      <td>0.813692</td>\n",
       "      <td>{'model__max_depth': 4, 'model__max_leaf_nodes...</td>\n",
       "      <td>0.000220</td>\n",
       "      <td>0.816143</td>\n",
       "      <td>0.793722</td>\n",
       "      <td>0.829596</td>\n",
       "      <td>0.815315</td>\n",
       "    </tr>\n",
       "    <tr>\n",
       "      <th>29</th>\n",
       "      <td>0.808081</td>\n",
       "      <td>{'model__max_depth': 4, 'model__max_leaf_nodes...</td>\n",
       "      <td>0.000220</td>\n",
       "      <td>0.811659</td>\n",
       "      <td>0.789238</td>\n",
       "      <td>0.825112</td>\n",
       "      <td>0.806306</td>\n",
       "    </tr>\n",
       "    <tr>\n",
       "      <th>48</th>\n",
       "      <td>0.814815</td>\n",
       "      <td>{'model__max_depth': 6, 'model__max_leaf_nodes...</td>\n",
       "      <td>0.000230</td>\n",
       "      <td>0.816143</td>\n",
       "      <td>0.793722</td>\n",
       "      <td>0.829596</td>\n",
       "      <td>0.819820</td>\n",
       "    </tr>\n",
       "    <tr>\n",
       "      <th>35</th>\n",
       "      <td>0.806958</td>\n",
       "      <td>{'model__max_depth': 4, 'model__max_leaf_nodes...</td>\n",
       "      <td>0.000231</td>\n",
       "      <td>0.811659</td>\n",
       "      <td>0.789238</td>\n",
       "      <td>0.825112</td>\n",
       "      <td>0.801802</td>\n",
       "    </tr>\n",
       "    <tr>\n",
       "      <th>41</th>\n",
       "      <td>0.806958</td>\n",
       "      <td>{'model__max_depth': 4, 'model__max_leaf_nodes...</td>\n",
       "      <td>0.000231</td>\n",
       "      <td>0.811659</td>\n",
       "      <td>0.789238</td>\n",
       "      <td>0.825112</td>\n",
       "      <td>0.801802</td>\n",
       "    </tr>\n",
       "    <tr>\n",
       "      <th>14</th>\n",
       "      <td>0.817059</td>\n",
       "      <td>{'model__max_depth': 3, 'model__max_leaf_nodes...</td>\n",
       "      <td>0.000238</td>\n",
       "      <td>0.811659</td>\n",
       "      <td>0.798206</td>\n",
       "      <td>0.825112</td>\n",
       "      <td>0.833333</td>\n",
       "    </tr>\n",
       "    <tr>\n",
       "      <th>8</th>\n",
       "      <td>0.817059</td>\n",
       "      <td>{'model__max_depth': 3, 'model__max_leaf_nodes...</td>\n",
       "      <td>0.000238</td>\n",
       "      <td>0.811659</td>\n",
       "      <td>0.798206</td>\n",
       "      <td>0.825112</td>\n",
       "      <td>0.833333</td>\n",
       "    </tr>\n",
       "    <tr>\n",
       "      <th>2</th>\n",
       "      <td>0.817059</td>\n",
       "      <td>{'model__max_depth': 3, 'model__max_leaf_nodes...</td>\n",
       "      <td>0.000238</td>\n",
       "      <td>0.811659</td>\n",
       "      <td>0.798206</td>\n",
       "      <td>0.825112</td>\n",
       "      <td>0.833333</td>\n",
       "    </tr>\n",
       "    <tr>\n",
       "      <th>10</th>\n",
       "      <td>0.812570</td>\n",
       "      <td>{'model__max_depth': 3, 'model__max_leaf_nodes...</td>\n",
       "      <td>0.000253</td>\n",
       "      <td>0.816143</td>\n",
       "      <td>0.789238</td>\n",
       "      <td>0.820628</td>\n",
       "      <td>0.824324</td>\n",
       "    </tr>\n",
       "    <tr>\n",
       "      <th>16</th>\n",
       "      <td>0.812570</td>\n",
       "      <td>{'model__max_depth': 3, 'model__max_leaf_nodes...</td>\n",
       "      <td>0.000253</td>\n",
       "      <td>0.816143</td>\n",
       "      <td>0.789238</td>\n",
       "      <td>0.820628</td>\n",
       "      <td>0.824324</td>\n",
       "    </tr>\n",
       "    <tr>\n",
       "      <th>4</th>\n",
       "      <td>0.812570</td>\n",
       "      <td>{'model__max_depth': 3, 'model__max_leaf_nodes...</td>\n",
       "      <td>0.000253</td>\n",
       "      <td>0.816143</td>\n",
       "      <td>0.789238</td>\n",
       "      <td>0.820628</td>\n",
       "      <td>0.824324</td>\n",
       "    </tr>\n",
       "    <tr>\n",
       "      <th>42</th>\n",
       "      <td>0.814815</td>\n",
       "      <td>{'model__max_depth': 4, 'model__max_leaf_nodes...</td>\n",
       "      <td>0.000255</td>\n",
       "      <td>0.811659</td>\n",
       "      <td>0.793722</td>\n",
       "      <td>0.829596</td>\n",
       "      <td>0.824324</td>\n",
       "    </tr>\n",
       "    <tr>\n",
       "      <th>43</th>\n",
       "      <td>0.817059</td>\n",
       "      <td>{'model__max_depth': 4, 'model__max_leaf_nodes...</td>\n",
       "      <td>0.000296</td>\n",
       "      <td>0.816143</td>\n",
       "      <td>0.793722</td>\n",
       "      <td>0.834081</td>\n",
       "      <td>0.824324</td>\n",
       "    </tr>\n",
       "    <tr>\n",
       "      <th>45</th>\n",
       "      <td>0.815937</td>\n",
       "      <td>{'model__max_depth': 4, 'model__max_leaf_nodes...</td>\n",
       "      <td>0.000304</td>\n",
       "      <td>0.811659</td>\n",
       "      <td>0.793722</td>\n",
       "      <td>0.834081</td>\n",
       "      <td>0.824324</td>\n",
       "    </tr>\n",
       "    <tr>\n",
       "      <th>17</th>\n",
       "      <td>0.813692</td>\n",
       "      <td>{'model__max_depth': 3, 'model__max_leaf_nodes...</td>\n",
       "      <td>0.000321</td>\n",
       "      <td>0.811659</td>\n",
       "      <td>0.789238</td>\n",
       "      <td>0.825112</td>\n",
       "      <td>0.828829</td>\n",
       "    </tr>\n",
       "    <tr>\n",
       "      <th>11</th>\n",
       "      <td>0.813692</td>\n",
       "      <td>{'model__max_depth': 3, 'model__max_leaf_nodes...</td>\n",
       "      <td>0.000321</td>\n",
       "      <td>0.811659</td>\n",
       "      <td>0.789238</td>\n",
       "      <td>0.825112</td>\n",
       "      <td>0.828829</td>\n",
       "    </tr>\n",
       "    <tr>\n",
       "      <th>5</th>\n",
       "      <td>0.813692</td>\n",
       "      <td>{'model__max_depth': 3, 'model__max_leaf_nodes...</td>\n",
       "      <td>0.000321</td>\n",
       "      <td>0.811659</td>\n",
       "      <td>0.789238</td>\n",
       "      <td>0.825112</td>\n",
       "      <td>0.828829</td>\n",
       "    </tr>\n",
       "    <tr>\n",
       "      <th>20</th>\n",
       "      <td>0.797980</td>\n",
       "      <td>{'model__max_depth': 3, 'model__max_leaf_nodes...</td>\n",
       "      <td>0.000333</td>\n",
       "      <td>0.811659</td>\n",
       "      <td>0.771300</td>\n",
       "      <td>0.807175</td>\n",
       "      <td>0.801802</td>\n",
       "    </tr>\n",
       "    <tr>\n",
       "      <th>46</th>\n",
       "      <td>0.814815</td>\n",
       "      <td>{'model__max_depth': 4, 'model__max_leaf_nodes...</td>\n",
       "      <td>0.000407</td>\n",
       "      <td>0.816143</td>\n",
       "      <td>0.789238</td>\n",
       "      <td>0.838565</td>\n",
       "      <td>0.815315</td>\n",
       "    </tr>\n",
       "    <tr>\n",
       "      <th>22</th>\n",
       "      <td>0.795735</td>\n",
       "      <td>{'model__max_depth': 3, 'model__max_leaf_nodes...</td>\n",
       "      <td>0.000408</td>\n",
       "      <td>0.811659</td>\n",
       "      <td>0.766816</td>\n",
       "      <td>0.807175</td>\n",
       "      <td>0.797297</td>\n",
       "    </tr>\n",
       "    <tr>\n",
       "      <th>18</th>\n",
       "      <td>0.796857</td>\n",
       "      <td>{'model__max_depth': 3, 'model__max_leaf_nodes...</td>\n",
       "      <td>0.000417</td>\n",
       "      <td>0.811659</td>\n",
       "      <td>0.766816</td>\n",
       "      <td>0.807175</td>\n",
       "      <td>0.801802</td>\n",
       "    </tr>\n",
       "    <tr>\n",
       "      <th>21</th>\n",
       "      <td>0.797980</td>\n",
       "      <td>{'model__max_depth': 3, 'model__max_leaf_nodes...</td>\n",
       "      <td>0.000467</td>\n",
       "      <td>0.816143</td>\n",
       "      <td>0.766816</td>\n",
       "      <td>0.807175</td>\n",
       "      <td>0.801802</td>\n",
       "    </tr>\n",
       "    <tr>\n",
       "      <th>19</th>\n",
       "      <td>0.797980</td>\n",
       "      <td>{'model__max_depth': 3, 'model__max_leaf_nodes...</td>\n",
       "      <td>0.000467</td>\n",
       "      <td>0.816143</td>\n",
       "      <td>0.766816</td>\n",
       "      <td>0.807175</td>\n",
       "      <td>0.801802</td>\n",
       "    </tr>\n",
       "    <tr>\n",
       "      <th>23</th>\n",
       "      <td>0.794613</td>\n",
       "      <td>{'model__max_depth': 3, 'model__max_leaf_nodes...</td>\n",
       "      <td>0.000499</td>\n",
       "      <td>0.811659</td>\n",
       "      <td>0.762332</td>\n",
       "      <td>0.807175</td>\n",
       "      <td>0.797297</td>\n",
       "    </tr>\n",
       "  </tbody>\n",
       "</table>\n",
       "<p>72 rows × 7 columns</p>\n",
       "</div>"
      ],
      "text/plain": [
       "           M                                                  P       var  \\\n",
       "55  0.810325  {'model__max_depth': 6, 'model__max_leaf_nodes...  0.000005   \n",
       "66  0.809203  {'model__max_depth': 6, 'model__max_leaf_nodes...  0.000008   \n",
       "68  0.806958  {'model__max_depth': 6, 'model__max_leaf_nodes...  0.000014   \n",
       "61  0.812570  {'model__max_depth': 6, 'model__max_leaf_nodes...  0.000017   \n",
       "54  0.812570  {'model__max_depth': 6, 'model__max_leaf_nodes...  0.000017   \n",
       "60  0.813692  {'model__max_depth': 6, 'model__max_leaf_nodes...  0.000019   \n",
       "67  0.812570  {'model__max_depth': 6, 'model__max_leaf_nodes...  0.000019   \n",
       "63  0.812570  {'model__max_depth': 6, 'model__max_leaf_nodes...  0.000019   \n",
       "62  0.812570  {'model__max_depth': 6, 'model__max_leaf_nodes...  0.000019   \n",
       "56  0.812570  {'model__max_depth': 6, 'model__max_leaf_nodes...  0.000019   \n",
       "57  0.812570  {'model__max_depth': 6, 'model__max_leaf_nodes...  0.000019   \n",
       "69  0.808081  {'model__max_depth': 6, 'model__max_leaf_nodes...  0.000019   \n",
       "25  0.810325  {'model__max_depth': 4, 'model__max_leaf_nodes...  0.000021   \n",
       "50  0.806958  {'model__max_depth': 6, 'model__max_leaf_nodes...  0.000030   \n",
       "64  0.806958  {'model__max_depth': 6, 'model__max_leaf_nodes...  0.000040   \n",
       "58  0.806958  {'model__max_depth': 6, 'model__max_leaf_nodes...  0.000040   \n",
       "65  0.805836  {'model__max_depth': 6, 'model__max_leaf_nodes...  0.000047   \n",
       "59  0.805836  {'model__max_depth': 6, 'model__max_leaf_nodes...  0.000047   \n",
       "51  0.805836  {'model__max_depth': 6, 'model__max_leaf_nodes...  0.000047   \n",
       "71  0.810325  {'model__max_depth': 6, 'model__max_leaf_nodes...  0.000063   \n",
       "36  0.809203  {'model__max_depth': 4, 'model__max_leaf_nodes...  0.000078   \n",
       "30  0.809203  {'model__max_depth': 4, 'model__max_leaf_nodes...  0.000078   \n",
       "37  0.811448  {'model__max_depth': 4, 'model__max_leaf_nodes...  0.000099   \n",
       "31  0.811448  {'model__max_depth': 4, 'model__max_leaf_nodes...  0.000099   \n",
       "70  0.808081  {'model__max_depth': 6, 'model__max_leaf_nodes...  0.000105   \n",
       "49  0.814815  {'model__max_depth': 6, 'model__max_leaf_nodes...  0.000136   \n",
       "24  0.806958  {'model__max_depth': 4, 'model__max_leaf_nodes...  0.000137   \n",
       "39  0.811448  {'model__max_depth': 4, 'model__max_leaf_nodes...  0.000172   \n",
       "33  0.811448  {'model__max_depth': 4, 'model__max_leaf_nodes...  0.000172   \n",
       "9   0.814815  {'model__max_depth': 3, 'model__max_leaf_nodes...  0.000172   \n",
       "..       ...                                                ...       ...   \n",
       "27  0.812570  {'model__max_depth': 4, 'model__max_leaf_nodes...  0.000218   \n",
       "26  0.812570  {'model__max_depth': 4, 'model__max_leaf_nodes...  0.000218   \n",
       "47  0.812570  {'model__max_depth': 4, 'model__max_leaf_nodes...  0.000218   \n",
       "0   0.815937  {'model__max_depth': 3, 'model__max_leaf_nodes...  0.000219   \n",
       "12  0.815937  {'model__max_depth': 3, 'model__max_leaf_nodes...  0.000219   \n",
       "6   0.815937  {'model__max_depth': 3, 'model__max_leaf_nodes...  0.000219   \n",
       "44  0.813692  {'model__max_depth': 4, 'model__max_leaf_nodes...  0.000220   \n",
       "29  0.808081  {'model__max_depth': 4, 'model__max_leaf_nodes...  0.000220   \n",
       "48  0.814815  {'model__max_depth': 6, 'model__max_leaf_nodes...  0.000230   \n",
       "35  0.806958  {'model__max_depth': 4, 'model__max_leaf_nodes...  0.000231   \n",
       "41  0.806958  {'model__max_depth': 4, 'model__max_leaf_nodes...  0.000231   \n",
       "14  0.817059  {'model__max_depth': 3, 'model__max_leaf_nodes...  0.000238   \n",
       "8   0.817059  {'model__max_depth': 3, 'model__max_leaf_nodes...  0.000238   \n",
       "2   0.817059  {'model__max_depth': 3, 'model__max_leaf_nodes...  0.000238   \n",
       "10  0.812570  {'model__max_depth': 3, 'model__max_leaf_nodes...  0.000253   \n",
       "16  0.812570  {'model__max_depth': 3, 'model__max_leaf_nodes...  0.000253   \n",
       "4   0.812570  {'model__max_depth': 3, 'model__max_leaf_nodes...  0.000253   \n",
       "42  0.814815  {'model__max_depth': 4, 'model__max_leaf_nodes...  0.000255   \n",
       "43  0.817059  {'model__max_depth': 4, 'model__max_leaf_nodes...  0.000296   \n",
       "45  0.815937  {'model__max_depth': 4, 'model__max_leaf_nodes...  0.000304   \n",
       "17  0.813692  {'model__max_depth': 3, 'model__max_leaf_nodes...  0.000321   \n",
       "11  0.813692  {'model__max_depth': 3, 'model__max_leaf_nodes...  0.000321   \n",
       "5   0.813692  {'model__max_depth': 3, 'model__max_leaf_nodes...  0.000321   \n",
       "20  0.797980  {'model__max_depth': 3, 'model__max_leaf_nodes...  0.000333   \n",
       "46  0.814815  {'model__max_depth': 4, 'model__max_leaf_nodes...  0.000407   \n",
       "22  0.795735  {'model__max_depth': 3, 'model__max_leaf_nodes...  0.000408   \n",
       "18  0.796857  {'model__max_depth': 3, 'model__max_leaf_nodes...  0.000417   \n",
       "21  0.797980  {'model__max_depth': 3, 'model__max_leaf_nodes...  0.000467   \n",
       "19  0.797980  {'model__max_depth': 3, 'model__max_leaf_nodes...  0.000467   \n",
       "23  0.794613  {'model__max_depth': 3, 'model__max_leaf_nodes...  0.000499   \n",
       "\n",
       "           0         1         2         3  \n",
       "55  0.807175  0.811659  0.811659  0.810811  \n",
       "66  0.811659  0.807175  0.811659  0.806306  \n",
       "68  0.811659  0.807175  0.802691  0.806306  \n",
       "61  0.807175  0.816143  0.811659  0.815315  \n",
       "54  0.807175  0.811659  0.816143  0.815315  \n",
       "60  0.807175  0.816143  0.816143  0.815315  \n",
       "67  0.816143  0.807175  0.816143  0.810811  \n",
       "63  0.816143  0.816143  0.807175  0.810811  \n",
       "62  0.816143  0.816143  0.807175  0.810811  \n",
       "56  0.816143  0.816143  0.807175  0.810811  \n",
       "57  0.816143  0.816143  0.807175  0.810811  \n",
       "69  0.811659  0.811659  0.802691  0.806306  \n",
       "25  0.811659  0.807175  0.816143  0.806306  \n",
       "50  0.811659  0.802691  0.811659  0.801802  \n",
       "64  0.811659  0.798206  0.811659  0.806306  \n",
       "58  0.811659  0.798206  0.811659  0.806306  \n",
       "65  0.811659  0.798206  0.811659  0.801802  \n",
       "59  0.811659  0.798206  0.811659  0.801802  \n",
       "51  0.811659  0.798206  0.811659  0.801802  \n",
       "71  0.811659  0.807175  0.820628  0.801802  \n",
       "36  0.811659  0.802691  0.820628  0.801802  \n",
       "30  0.811659  0.802691  0.820628  0.801802  \n",
       "37  0.811659  0.807175  0.825112  0.801802  \n",
       "31  0.811659  0.807175  0.825112  0.801802  \n",
       "70  0.811659  0.802691  0.820628  0.797297  \n",
       "49  0.816143  0.798206  0.825112  0.819820  \n",
       "24  0.811659  0.793722  0.820628  0.801802  \n",
       "39  0.811659  0.793722  0.825112  0.815315  \n",
       "33  0.811659  0.793722  0.825112  0.815315  \n",
       "9   0.811659  0.798206  0.820628  0.828829  \n",
       "..       ...       ...       ...       ...  \n",
       "27  0.811659  0.793722  0.829596  0.815315  \n",
       "26  0.811659  0.793722  0.829596  0.815315  \n",
       "47  0.811659  0.793722  0.829596  0.815315  \n",
       "0   0.811659  0.798206  0.820628  0.833333  \n",
       "12  0.811659  0.798206  0.820628  0.833333  \n",
       "6   0.811659  0.798206  0.820628  0.833333  \n",
       "44  0.816143  0.793722  0.829596  0.815315  \n",
       "29  0.811659  0.789238  0.825112  0.806306  \n",
       "48  0.816143  0.793722  0.829596  0.819820  \n",
       "35  0.811659  0.789238  0.825112  0.801802  \n",
       "41  0.811659  0.789238  0.825112  0.801802  \n",
       "14  0.811659  0.798206  0.825112  0.833333  \n",
       "8   0.811659  0.798206  0.825112  0.833333  \n",
       "2   0.811659  0.798206  0.825112  0.833333  \n",
       "10  0.816143  0.789238  0.820628  0.824324  \n",
       "16  0.816143  0.789238  0.820628  0.824324  \n",
       "4   0.816143  0.789238  0.820628  0.824324  \n",
       "42  0.811659  0.793722  0.829596  0.824324  \n",
       "43  0.816143  0.793722  0.834081  0.824324  \n",
       "45  0.811659  0.793722  0.834081  0.824324  \n",
       "17  0.811659  0.789238  0.825112  0.828829  \n",
       "11  0.811659  0.789238  0.825112  0.828829  \n",
       "5   0.811659  0.789238  0.825112  0.828829  \n",
       "20  0.811659  0.771300  0.807175  0.801802  \n",
       "46  0.816143  0.789238  0.838565  0.815315  \n",
       "22  0.811659  0.766816  0.807175  0.797297  \n",
       "18  0.811659  0.766816  0.807175  0.801802  \n",
       "21  0.816143  0.766816  0.807175  0.801802  \n",
       "19  0.816143  0.766816  0.807175  0.801802  \n",
       "23  0.811659  0.762332  0.807175  0.797297  \n",
       "\n",
       "[72 rows x 7 columns]"
      ]
     },
     "execution_count": 539,
     "metadata": {},
     "output_type": "execute_result"
    }
   ],
   "source": [
    "rf_gs_res[['M','P','var','0','1','2','3']].sort_values('var',  ascending = True) # try to find as best score as lowest var"
   ]
  },
  {
   "cell_type": "code",
   "execution_count": 540,
   "metadata": {
    "collapsed": false
   },
   "outputs": [
    {
     "data": {
      "text/plain": [
       "{'model__max_depth': 6,\n",
       " 'model__max_leaf_nodes': 50,\n",
       " 'model__min_samples_leaf': 1,\n",
       " 'model__n_estimators': 170}"
      ]
     },
     "execution_count": 540,
     "metadata": {},
     "output_type": "execute_result"
    }
   ],
   "source": [
    "rf_gs_res.P.iloc[55] # the best of best"
   ]
  },
  {
   "cell_type": "code",
   "execution_count": 51,
   "metadata": {
    "collapsed": false
   },
   "outputs": [],
   "source": [
    "#sorted(gridsearch.cv_results_['mean_test_score'][:10], reverse=True)"
   ]
  },
  {
   "cell_type": "code",
   "execution_count": 52,
   "metadata": {
    "collapsed": false
   },
   "outputs": [],
   "source": [
    "#for i in range(1,len(gridsearch.cv_results_['mean_test_score'][:60])):\n",
    "#    print(gridsearch.cv_results_['mean_test_score'][i],gridsearch.cv_results_['params'][i] )"
   ]
  },
  {
   "cell_type": "code",
   "execution_count": 541,
   "metadata": {
    "collapsed": false
   },
   "outputs": [],
   "source": [
    "pipline_gb=Pipeline([('scale', StandardScaler()), \n",
    "                  ('model', GradientBoostingClassifier(n_estimators=200, \n",
    "                                                   #loss='exponential', \n",
    "                                                   #learning_rate =0.1,\n",
    "                                                   random_state = 5,    \n",
    "                                                   max_depth = 3\n",
    "                                                    ))])\n",
    "\n",
    "grid_params2 = {'model__max_depth': [2,3,4], \n",
    "         #'model__loss' : ['deviance', 'exponential'],\n",
    "         #'model__learning_rate': [0.03,0.05],\n",
    "         #'model__min_samples_split': [2,3,4],\n",
    "         #'model__max_leaf_nodes': max_leaf_nodes,\n",
    "         #'model__min_samples_leaf': [1,2,5] , \n",
    "         #'model__min_weight_fraction_leaf': min_weight_fraction_leaf,\n",
    "         #'model__max_features' : [0.3,0.8, 'auto', 1],\n",
    "         'model__n_estimators' : [100,150,200,210]\n",
    "         }  \n",
    "\n",
    "gridsearch2 = GridSearchCV(pipline_gb, grid_params2, scoring='accuracy', cv=kfold_out)"
   ]
  },
  {
   "cell_type": "code",
   "execution_count": 542,
   "metadata": {
    "collapsed": false
   },
   "outputs": [
    {
     "data": {
      "text/plain": [
       "GridSearchCV(cv=KFold(n_splits=4, random_state=None, shuffle=True),\n",
       "       error_score='raise',\n",
       "       estimator=Pipeline(steps=[('scale', StandardScaler(copy=True, with_mean=True, with_std=True)), ('model', GradientBoostingClassifier(criterion='friedman_mse', init=None,\n",
       "              learning_rate=0.1, loss='deviance', max_depth=3,\n",
       "              max_features=None, max_leaf_nodes=None,\n",
       "              min_impurity_split=...ors=200, presort='auto', random_state=5,\n",
       "              subsample=1.0, verbose=0, warm_start=False))]),\n",
       "       fit_params={}, iid=True, n_jobs=1,\n",
       "       param_grid={'model__max_depth': [2, 3, 4], 'model__n_estimators': [100, 150, 200, 210]},\n",
       "       pre_dispatch='2*n_jobs', refit=True, return_train_score=True,\n",
       "       scoring='accuracy', verbose=0)"
      ]
     },
     "execution_count": 542,
     "metadata": {},
     "output_type": "execute_result"
    }
   ],
   "source": [
    "gridsearch2.fit(X_train, y)"
   ]
  },
  {
   "cell_type": "code",
   "execution_count": 544,
   "metadata": {
    "collapsed": false
   },
   "outputs": [],
   "source": [
    "gb_gs_res = pd.DataFrame()\n",
    "gb_gs_res['0'] = gridsearch2.cv_results_['split0_test_score']\n",
    "gb_gs_res['1'] = gridsearch2.cv_results_['split1_test_score']\n",
    "gb_gs_res['2'] = gridsearch2.cv_results_['split2_test_score']\n",
    "gb_gs_res['3'] = gridsearch2.cv_results_['split3_test_score']\n",
    "#gb_gs_res['4'] = gridsearch2.cv_results_['split4_test_score']\n",
    "#gb_gs_res['5'] = gridsearch2.cv_results_['split5_test_score']\n",
    "gb_gs_res['P'] = gridsearch2.cv_results_['params']\n",
    "gb_gs_res['M'] = gridsearch2.cv_results_['mean_test_score']"
   ]
  },
  {
   "cell_type": "code",
   "execution_count": 545,
   "metadata": {
    "collapsed": false
   },
   "outputs": [
    {
     "data": {
      "text/plain": [
       "0    0.000382\n",
       "1    0.000172\n",
       "2    0.000230\n",
       "3    0.000086\n",
       "4    0.000206\n",
       "Name: var, dtype: float64"
      ]
     },
     "execution_count": 545,
     "metadata": {},
     "output_type": "execute_result"
    }
   ],
   "source": [
    "gb_gs_res['var'] = gb_gs_res[['0','1','2','3']].var(1)\n",
    "gb_gs_res['var'].head()"
   ]
  },
  {
   "cell_type": "code",
   "execution_count": 546,
   "metadata": {
    "collapsed": false
   },
   "outputs": [
    {
     "data": {
      "text/html": [
       "<div>\n",
       "<style>\n",
       "    .dataframe thead tr:only-child th {\n",
       "        text-align: right;\n",
       "    }\n",
       "\n",
       "    .dataframe thead th {\n",
       "        text-align: left;\n",
       "    }\n",
       "\n",
       "    .dataframe tbody tr th {\n",
       "        vertical-align: top;\n",
       "    }\n",
       "</style>\n",
       "<table border=\"1\" class=\"dataframe\">\n",
       "  <thead>\n",
       "    <tr style=\"text-align: right;\">\n",
       "      <th></th>\n",
       "      <th>M</th>\n",
       "      <th>P</th>\n",
       "      <th>var</th>\n",
       "    </tr>\n",
       "  </thead>\n",
       "  <tbody>\n",
       "    <tr>\n",
       "      <th>9</th>\n",
       "      <td>0.835017</td>\n",
       "      <td>{'model__max_depth': 4, 'model__n_estimators':...</td>\n",
       "      <td>0.000080</td>\n",
       "    </tr>\n",
       "    <tr>\n",
       "      <th>3</th>\n",
       "      <td>0.826038</td>\n",
       "      <td>{'model__max_depth': 2, 'model__n_estimators':...</td>\n",
       "      <td>0.000086</td>\n",
       "    </tr>\n",
       "    <tr>\n",
       "      <th>11</th>\n",
       "      <td>0.838384</td>\n",
       "      <td>{'model__max_depth': 4, 'model__n_estimators':...</td>\n",
       "      <td>0.000128</td>\n",
       "    </tr>\n",
       "    <tr>\n",
       "      <th>10</th>\n",
       "      <td>0.836139</td>\n",
       "      <td>{'model__max_depth': 4, 'model__n_estimators':...</td>\n",
       "      <td>0.000147</td>\n",
       "    </tr>\n",
       "    <tr>\n",
       "      <th>8</th>\n",
       "      <td>0.833895</td>\n",
       "      <td>{'model__max_depth': 4, 'model__n_estimators':...</td>\n",
       "      <td>0.000166</td>\n",
       "    </tr>\n",
       "    <tr>\n",
       "      <th>1</th>\n",
       "      <td>0.824916</td>\n",
       "      <td>{'model__max_depth': 2, 'model__n_estimators':...</td>\n",
       "      <td>0.000172</td>\n",
       "    </tr>\n",
       "    <tr>\n",
       "      <th>6</th>\n",
       "      <td>0.822671</td>\n",
       "      <td>{'model__max_depth': 3, 'model__n_estimators':...</td>\n",
       "      <td>0.000193</td>\n",
       "    </tr>\n",
       "    <tr>\n",
       "      <th>4</th>\n",
       "      <td>0.824916</td>\n",
       "      <td>{'model__max_depth': 3, 'model__n_estimators':...</td>\n",
       "      <td>0.000206</td>\n",
       "    </tr>\n",
       "    <tr>\n",
       "      <th>5</th>\n",
       "      <td>0.828283</td>\n",
       "      <td>{'model__max_depth': 3, 'model__n_estimators':...</td>\n",
       "      <td>0.000215</td>\n",
       "    </tr>\n",
       "    <tr>\n",
       "      <th>2</th>\n",
       "      <td>0.824916</td>\n",
       "      <td>{'model__max_depth': 2, 'model__n_estimators':...</td>\n",
       "      <td>0.000230</td>\n",
       "    </tr>\n",
       "    <tr>\n",
       "      <th>7</th>\n",
       "      <td>0.821549</td>\n",
       "      <td>{'model__max_depth': 3, 'model__n_estimators':...</td>\n",
       "      <td>0.000258</td>\n",
       "    </tr>\n",
       "    <tr>\n",
       "      <th>0</th>\n",
       "      <td>0.819304</td>\n",
       "      <td>{'model__max_depth': 2, 'model__n_estimators':...</td>\n",
       "      <td>0.000382</td>\n",
       "    </tr>\n",
       "  </tbody>\n",
       "</table>\n",
       "</div>"
      ],
      "text/plain": [
       "           M                                                  P       var\n",
       "9   0.835017  {'model__max_depth': 4, 'model__n_estimators':...  0.000080\n",
       "3   0.826038  {'model__max_depth': 2, 'model__n_estimators':...  0.000086\n",
       "11  0.838384  {'model__max_depth': 4, 'model__n_estimators':...  0.000128\n",
       "10  0.836139  {'model__max_depth': 4, 'model__n_estimators':...  0.000147\n",
       "8   0.833895  {'model__max_depth': 4, 'model__n_estimators':...  0.000166\n",
       "1   0.824916  {'model__max_depth': 2, 'model__n_estimators':...  0.000172\n",
       "6   0.822671  {'model__max_depth': 3, 'model__n_estimators':...  0.000193\n",
       "4   0.824916  {'model__max_depth': 3, 'model__n_estimators':...  0.000206\n",
       "5   0.828283  {'model__max_depth': 3, 'model__n_estimators':...  0.000215\n",
       "2   0.824916  {'model__max_depth': 2, 'model__n_estimators':...  0.000230\n",
       "7   0.821549  {'model__max_depth': 3, 'model__n_estimators':...  0.000258\n",
       "0   0.819304  {'model__max_depth': 2, 'model__n_estimators':...  0.000382"
      ]
     },
     "execution_count": 546,
     "metadata": {},
     "output_type": "execute_result"
    }
   ],
   "source": [
    "gb_gs_res[['M','P','var']].sort_values('var',ascending = True)"
   ]
  },
  {
   "cell_type": "code",
   "execution_count": 547,
   "metadata": {
    "collapsed": false
   },
   "outputs": [
    {
     "data": {
      "text/plain": [
       "{'model__max_depth': 4, 'model__n_estimators': 150}"
      ]
     },
     "execution_count": 547,
     "metadata": {},
     "output_type": "execute_result"
    }
   ],
   "source": [
    "gb_gs_res.P.iloc[9] # the best "
   ]
  },
  {
   "cell_type": "code",
   "execution_count": 79,
   "metadata": {
    "collapsed": false
   },
   "outputs": [],
   "source": [
    "#sorted(gridsearch2.cv_results_['mean_test_score'][:10], reverse=True)"
   ]
  },
  {
   "cell_type": "code",
   "execution_count": 127,
   "metadata": {
    "collapsed": false
   },
   "outputs": [],
   "source": [
    "#for i in range(0,len(gridsearch2.cv_results_['mean_test_score'][:90])):\n",
    "#    print(gridsearch2.cv_results_['mean_test_score'][i],gridsearch2.cv_results_['params'][i]['model__learning_rate'],gridsearch2.cv_results_['params'][i]['model__max_depth'],gridsearch2.cv_results_['params'][i]['model__n_estimators']  )"
   ]
  },
  {
   "cell_type": "code",
   "execution_count": 548,
   "metadata": {
    "collapsed": false
   },
   "outputs": [
    {
     "data": {
      "text/plain": [
       "{'model__max_depth': 4, 'model__n_estimators': 210}"
      ]
     },
     "execution_count": 548,
     "metadata": {},
     "output_type": "execute_result"
    }
   ],
   "source": [
    "gridsearch2.best_params_"
   ]
  },
  {
   "cell_type": "code",
   "execution_count": 231,
   "metadata": {
    "collapsed": false
   },
   "outputs": [],
   "source": [
    "# Плохой результат, но я не делал StandartScaler потому как оставил категорийные фичи\n",
    "\n",
    "grid_params_cat = {'depth': [3,4,5,6,7,8], \n",
    "         #'model__loss' : ['deviance', 'exponential'],\n",
    "         'learning_rate': [ 0.05,0.08,0.1],\n",
    "         #'max_leaf_nodes': max_leaf_nodes,\n",
    "         #'min_samples_leaf': min_samples_leaf , \n",
    "         # 'min_weight_fraction_leaf': min_weight_fraction_leaf,\n",
    "         #'n_estimators' : [80,90, 100,110]\n",
    "                  }  \n",
    "\n",
    "gridsearch_cat = GridSearchCV(CatBoostClassifier(cat_features=[0, 1, 6]), grid_params_cat, scoring='accuracy', cv=kfold_out)"
   ]
  },
  {
   "cell_type": "code",
   "execution_count": 75,
   "metadata": {
    "collapsed": false
   },
   "outputs": [
    {
     "data": {
      "text/plain": [
       "GridSearchCV(cv=KFold(n_splits=4, random_state=22, shuffle=True),\n",
       "       error_score='raise',\n",
       "       estimator=<catboost.core.CatBoostClassifier object at 0x000000000C1F7518>,\n",
       "       fit_params={}, iid=True, n_jobs=1,\n",
       "       param_grid={'depth': [3, 4, 5, 6, 7, 8], 'learning_rate': [0.05, 0.08, 0.1]},\n",
       "       pre_dispatch='2*n_jobs', refit=True, return_train_score=True,\n",
       "       scoring='accuracy', verbose=0)"
      ]
     },
     "execution_count": 75,
     "metadata": {},
     "output_type": "execute_result"
    }
   ],
   "source": [
    "gridsearch_cat.fit(Xcat_train.as_matrix(),y)"
   ]
  },
  {
   "cell_type": "code",
   "execution_count": 76,
   "metadata": {
    "collapsed": false
   },
   "outputs": [
    {
     "name": "stdout",
     "output_type": "stream",
     "text": [
      "0.820426487093 {'depth': 3, 'learning_rate': 0.08}\n",
      "0.817059483726 {'depth': 3, 'learning_rate': 0.1}\n",
      "0.82379349046 {'depth': 4, 'learning_rate': 0.05}\n",
      "0.810325476992 {'depth': 4, 'learning_rate': 0.08}\n",
      "0.812570145903 {'depth': 4, 'learning_rate': 0.1}\n",
      "0.812570145903 {'depth': 5, 'learning_rate': 0.05}\n",
      "0.811447811448 {'depth': 5, 'learning_rate': 0.08}\n",
      "0.813692480359 {'depth': 5, 'learning_rate': 0.1}\n",
      "0.814814814815 {'depth': 6, 'learning_rate': 0.05}\n",
      "0.808080808081 {'depth': 6, 'learning_rate': 0.08}\n",
      "0.796857463524 {'depth': 6, 'learning_rate': 0.1}\n",
      "0.806958473625 {'depth': 7, 'learning_rate': 0.05}\n",
      "0.806958473625 {'depth': 7, 'learning_rate': 0.08}\n",
      "0.799102132435 {'depth': 7, 'learning_rate': 0.1}\n",
      "0.809203142536 {'depth': 8, 'learning_rate': 0.05}\n",
      "0.796857463524 {'depth': 8, 'learning_rate': 0.08}\n",
      "0.799102132435 {'depth': 8, 'learning_rate': 0.1}\n"
     ]
    }
   ],
   "source": [
    "for i in range(1,len(gridsearch_cat.cv_results_['mean_test_score'][:40])):\n",
    "    print(gridsearch_cat.cv_results_['mean_test_score'][i],gridsearch_cat.cv_results_['params'][i] )"
   ]
  },
  {
   "cell_type": "code",
   "execution_count": 549,
   "metadata": {
    "collapsed": false
   },
   "outputs": [],
   "source": [
    "#Плохие результаты не улучшает модель\n",
    "pipline_gp=Pipeline([('scale', StandardScaler()), \n",
    "                  ('model', GaussianProcessClassifier( ))])\n",
    "\n",
    "grid_params_gp = {'model__n_restarts_optimizer': [0,3,4,5], \n",
    "         #'model__loss' : ['deviance', 'exponential'],\n",
    "         'model__max_iter_predict': [90,100,110,120,150]}  \n",
    "\n",
    "gridsearch_gp = GridSearchCV(pipline_gp, grid_params_gp, scoring='accuracy', cv=kfold_out)"
   ]
  },
  {
   "cell_type": "code",
   "execution_count": 550,
   "metadata": {
    "collapsed": false
   },
   "outputs": [
    {
     "data": {
      "text/plain": [
       "GridSearchCV(cv=KFold(n_splits=4, random_state=None, shuffle=True),\n",
       "       error_score='raise',\n",
       "       estimator=Pipeline(steps=[('scale', StandardScaler(copy=True, with_mean=True, with_std=True)), ('model', GaussianProcessClassifier(copy_X_train=True, kernel=None,\n",
       "             max_iter_predict=100, multi_class='one_vs_rest', n_jobs=1,\n",
       "             n_restarts_optimizer=0, optimizer='fmin_l_bfgs_b',\n",
       "             random_state=None, warm_start=False))]),\n",
       "       fit_params={}, iid=True, n_jobs=1,\n",
       "       param_grid={'model__n_restarts_optimizer': [0, 3, 4, 5], 'model__max_iter_predict': [90, 100, 110, 120, 150]},\n",
       "       pre_dispatch='2*n_jobs', refit=True, return_train_score=True,\n",
       "       scoring='accuracy', verbose=0)"
      ]
     },
     "execution_count": 550,
     "metadata": {},
     "output_type": "execute_result"
    }
   ],
   "source": [
    "gridsearch_gp.fit(X_train, y)"
   ]
  },
  {
   "cell_type": "code",
   "execution_count": 551,
   "metadata": {
    "collapsed": false
   },
   "outputs": [
    {
     "data": {
      "text/plain": [
       "array([ 0.81257015,  0.81257015,  0.81257015,  0.81257015,  0.81257015,\n",
       "        0.81257015,  0.81257015,  0.81257015,  0.81257015,  0.81257015,\n",
       "        0.81257015,  0.81257015,  0.81257015,  0.81257015,  0.81257015,\n",
       "        0.81257015,  0.81257015,  0.81257015,  0.81257015,  0.81257015])"
      ]
     },
     "execution_count": 551,
     "metadata": {},
     "output_type": "execute_result"
    }
   ],
   "source": [
    "gridsearch_gp.cv_results_['mean_test_score']"
   ]
  },
  {
   "cell_type": "code",
   "execution_count": 232,
   "metadata": {
    "collapsed": true
   },
   "outputs": [],
   "source": [
    "from sklearn.linear_model import LogisticRegression"
   ]
  },
  {
   "cell_type": "code",
   "execution_count": 233,
   "metadata": {
    "collapsed": true
   },
   "outputs": [],
   "source": [
    "pipline_logreg=Pipeline([('scale', StandardScaler()), \n",
    "                  ('model', LogisticRegression())])\n",
    "\n",
    "loggrid = {'penalty' : ['l1','l2'], 'C': [0.01,0.05, 0.1, 1, 5,10 ], 'class_weight' : [None,'balanced'] }\n",
    "loggridsearch=GridSearchCV(LogisticRegression(), loggrid, scoring='accuracy', cv=5)"
   ]
  },
  {
   "cell_type": "code",
   "execution_count": 234,
   "metadata": {
    "collapsed": false
   },
   "outputs": [
    {
     "data": {
      "text/plain": [
       "GridSearchCV(cv=5, error_score='raise',\n",
       "       estimator=LogisticRegression(C=1.0, class_weight=None, dual=False, fit_intercept=True,\n",
       "          intercept_scaling=1, max_iter=100, multi_class='ovr', n_jobs=1,\n",
       "          penalty='l2', random_state=None, solver='liblinear', tol=0.0001,\n",
       "          verbose=0, warm_start=False),\n",
       "       fit_params={}, iid=True, n_jobs=1,\n",
       "       param_grid={'penalty': ['l1', 'l2'], 'C': [0.01, 0.05, 0.1, 1, 5, 10], 'class_weight': [None, 'balanced']},\n",
       "       pre_dispatch='2*n_jobs', refit=True, return_train_score=True,\n",
       "       scoring='accuracy', verbose=0)"
      ]
     },
     "execution_count": 234,
     "metadata": {},
     "output_type": "execute_result"
    }
   ],
   "source": [
    "loggridsearch.fit(X_train, y)"
   ]
  },
  {
   "cell_type": "code",
   "execution_count": 235,
   "metadata": {
    "collapsed": false
   },
   "outputs": [
    {
     "data": {
      "text/plain": [
       "{'C': 1, 'class_weight': None, 'penalty': 'l2'}"
      ]
     },
     "execution_count": 235,
     "metadata": {},
     "output_type": "execute_result"
    }
   ],
   "source": [
    "loggridsearch.best_params_"
   ]
  },
  {
   "cell_type": "code",
   "execution_count": 236,
   "metadata": {
    "collapsed": false
   },
   "outputs": [
    {
     "data": {
      "text/plain": [
       "0.79461279461279466"
      ]
     },
     "execution_count": 236,
     "metadata": {},
     "output_type": "execute_result"
    }
   ],
   "source": [
    "loggridsearch.best_score_"
   ]
  },
  {
   "cell_type": "code",
   "execution_count": 239,
   "metadata": {
    "collapsed": false
   },
   "outputs": [],
   "source": [
    "mycat=CatBoostClassifier(depth=4, learning_rate=0.05)"
   ]
  },
  {
   "cell_type": "code",
   "execution_count": 240,
   "metadata": {
    "collapsed": true
   },
   "outputs": [],
   "source": [
    "Xcat_train = X_cat.loc[X.is_test==False]\n",
    "Xcat_test = X_cat.loc[X.is_test==True]"
   ]
  },
  {
   "cell_type": "code",
   "execution_count": 241,
   "metadata": {
    "collapsed": false
   },
   "outputs": [],
   "source": [
    "del Xcat_test['is_test']\n",
    "del Xcat_train['is_test']"
   ]
  },
  {
   "cell_type": "code",
   "execution_count": 242,
   "metadata": {
    "collapsed": false
   },
   "outputs": [
    {
     "name": "stdout",
     "output_type": "stream",
     "text": [
      "<class 'pandas.core.frame.DataFrame'>\n",
      "Int64Index: 891 entries, 0 to 890\n",
      "Data columns (total 7 columns):\n",
      "Pclass      891 non-null int32\n",
      "Sex         891 non-null int32\n",
      "Age         891 non-null float64\n",
      "SibSp       891 non-null float64\n",
      "Parch       891 non-null float64\n",
      "Fare        891 non-null float64\n",
      "Embarked    891 non-null int32\n",
      "dtypes: float64(4), int32(3)\n",
      "memory usage: 45.2 KB\n"
     ]
    }
   ],
   "source": [
    "Xcat_train.info()"
   ]
  },
  {
   "cell_type": "code",
   "execution_count": 243,
   "metadata": {
    "collapsed": false
   },
   "outputs": [
    {
     "name": "stdout",
     "output_type": "stream",
     "text": [
      "<class 'pandas.core.frame.DataFrame'>\n",
      "Int64Index: 418 entries, 891 to 1308\n",
      "Data columns (total 7 columns):\n",
      "Pclass      418 non-null int32\n",
      "Sex         418 non-null int32\n",
      "Age         418 non-null float64\n",
      "SibSp       418 non-null float64\n",
      "Parch       418 non-null float64\n",
      "Fare        418 non-null float64\n",
      "Embarked    418 non-null int32\n",
      "dtypes: float64(4), int32(3)\n",
      "memory usage: 21.2 KB\n"
     ]
    }
   ],
   "source": [
    "Xcat_test.info()"
   ]
  },
  {
   "cell_type": "code",
   "execution_count": 244,
   "metadata": {
    "collapsed": false
   },
   "outputs": [
    {
     "data": {
      "text/plain": [
       "<catboost.core.CatBoostClassifier at 0xd0727b8>"
      ]
     },
     "execution_count": 244,
     "metadata": {},
     "output_type": "execute_result"
    }
   ],
   "source": [
    "mycat.fit(Xcat_train.as_matrix(), y, cat_features=[0, 1, 6])"
   ]
  },
  {
   "cell_type": "code",
   "execution_count": 245,
   "metadata": {
    "collapsed": true
   },
   "outputs": [],
   "source": [
    "cat_test_pred = mycat.predict_proba(Xcat_test.as_matrix())"
   ]
  },
  {
   "cell_type": "code",
   "execution_count": 246,
   "metadata": {
    "collapsed": false
   },
   "outputs": [],
   "source": [
    "cat_pred_test = mycat.predict(Xcat_test.as_matrix()).astype(int)"
   ]
  },
  {
   "cell_type": "code",
   "execution_count": 247,
   "metadata": {
    "collapsed": true
   },
   "outputs": [],
   "source": [
    "cat_pred_train=mycat.predict(Xcat_train.as_matrix()).astype(int)"
   ]
  },
  {
   "cell_type": "code",
   "execution_count": 248,
   "metadata": {
    "collapsed": false
   },
   "outputs": [
    {
     "data": {
      "text/plain": [
       "0.8630751964085297"
      ]
     },
     "execution_count": 248,
     "metadata": {},
     "output_type": "execute_result"
    }
   ],
   "source": [
    "accuracy_score(cat_pred_train, y)"
   ]
  },
  {
   "cell_type": "code",
   "execution_count": 249,
   "metadata": {
    "collapsed": false
   },
   "outputs": [],
   "source": [
    "#Результирующий лес для стэкинга, использую не совсем те параметры что в тетрадке, потому как от запуска к запуску они отличаются.\n",
    "#это параметры от того результата который я отправлял на kaggle\n",
    "pipline_rf_res=Pipeline([('scale', StandardScaler()), \n",
    "                  ('model', RandomForestClassifier(n_estimators=170, \n",
    "                                                   #loss='deviance', \n",
    "                                                   #learning_rate =0.1,\n",
    "                                                   max_leaf_nodes=100,\n",
    "                                                   #max_features = 0.8,\n",
    "                                                   max_depth = 6\n",
    "                                                  ))])"
   ]
  },
  {
   "cell_type": "raw",
   "metadata": {},
   "source": [
    "#BestParams из GridSearch для GradientBoosting из разных попыток\n",
    "{'model__learning_rate': 0.05,\n",
    " 'model__max_depth': 5,\n",
    " 'model__max_leaf_nodes': 20,\n",
    " 'model__min_samples_leaf': 1,\n",
    " 'model__min_samples_split': 4,\n",
    " 'model__n_estimators': 110}\n",
    " \n",
    " {'model__learning_rate': 0.05,\n",
    " 'model__max_depth': 4,\n",
    " 'model__max_leaf_nodes': 20,\n",
    " 'model__min_samples_leaf': 1,\n",
    " 'model__min_samples_split': 4,\n",
    " 'model__n_estimators': 120}\n",
    " \n",
    " {'model__learning_rate': 0.05,\n",
    " 'model__max_depth': 4,\n",
    " 'model__max_leaf_nodes': None,\n",
    " 'model__min_samples_leaf': 2,\n",
    " 'model__min_samples_split': 4,\n",
    " 'model__n_estimators': 120}\n",
    " \n",
    " {'model__loss': 'exponential',\n",
    " 'model__max_depth': 6,\n",
    " 'model__max_features': 1,\n",
    " 'model__n_estimators': 110}"
   ]
  },
  {
   "cell_type": "code",
   "execution_count": 250,
   "metadata": {
    "collapsed": false
   },
   "outputs": [],
   "source": [
    "#результирующий gradient boosting для стэкинга\n",
    "pipline_gb_res=Pipeline([('scale', StandardScaler()), \n",
    "                  ('model', GradientBoostingClassifier(n_estimators=200, \n",
    "                                                   #loss='exponential', \n",
    "                                                   #learning_rate = 0.05,\n",
    "                                                   #max_leaf_nodes = None,\n",
    "                                                   #min_samples_leaf = 2,    \n",
    "                                                   #min_samples_split = 4,\n",
    "                                                   #max_features = 1, \n",
    "                                                   random_state =5,    \n",
    "                                                   max_depth = 3   \n",
    "                                                      ))])"
   ]
  },
  {
   "cell_type": "code",
   "execution_count": 251,
   "metadata": {
    "collapsed": true
   },
   "outputs": [],
   "source": [
    "pipline_cat_res=Pipeline([('scale', StandardScaler()), \n",
    "                  ('model', CatBoostClassifier(n_estimators=110, \n",
    "                                                   loss='exponential', \n",
    "                                                   learning_rate =0.01,\n",
    "                                                   max_depth = 4  ))])"
   ]
  },
  {
   "cell_type": "code",
   "execution_count": 252,
   "metadata": {
    "collapsed": true
   },
   "outputs": [],
   "source": [
    "pipline_nb_res=Pipeline([('scale', StandardScaler()), \n",
    "                  ('model', GaussianNB( ))])"
   ]
  },
  {
   "cell_type": "code",
   "execution_count": 253,
   "metadata": {
    "collapsed": true
   },
   "outputs": [],
   "source": [
    "pipline_gp_res=Pipeline([('scale', StandardScaler()), \n",
    "                  ('model', GaussianProcessClassifier( ))])"
   ]
  },
  {
   "cell_type": "code",
   "execution_count": 254,
   "metadata": {
    "collapsed": true
   },
   "outputs": [],
   "source": [
    "pipline_logreg_res=Pipeline([('scale', StandardScaler()), \n",
    "                             ('model', LogisticRegression(C=1, penalty='l2' ))])"
   ]
  },
  {
   "cell_type": "code",
   "execution_count": 255,
   "metadata": {
    "collapsed": false
   },
   "outputs": [
    {
     "data": {
      "text/plain": [
       "(891,)"
      ]
     },
     "execution_count": 255,
     "metadata": {},
     "output_type": "execute_result"
    }
   ],
   "source": [
    "y.shape"
   ]
  },
  {
   "cell_type": "code",
   "execution_count": 256,
   "metadata": {
    "collapsed": false
   },
   "outputs": [],
   "source": [
    "pipline_svd_res=Pipeline([('scale', StandardScaler()), \n",
    "                  ('model', SGDClassifier(loss=\"log\", alpha=1/891, random_state=42) )])"
   ]
  },
  {
   "cell_type": "markdown",
   "metadata": {},
   "source": [
    "Пробовал разные комбинации, разных моделей, в большинстве случаев или становилось сильно хуже или какой то алгоритм использовался а все остальные обнулялись, пробовал так же увелчить n_splits в функции разбиения - не дало результата"
   ]
  },
  {
   "cell_type": "code",
   "execution_count": 307,
   "metadata": {
    "collapsed": false
   },
   "outputs": [],
   "source": [
    "# получаем предсказания вероятностей ансамблей на кросс-валидации для обучающей выборки\n",
    "rf_train_pred = cross_val_predict_proba(pipline_rf_res, X_train, y)\n",
    "gb_train_pred = cross_val_predict_proba(pipline_gb_res, X_train, y)\n",
    "nb_train_pred = cross_val_predict_proba(pipline_nb_res, X_train, y)\n",
    "gp_train_pred = cross_val_predict_proba(pipline_gp_res, X_train, y)\n",
    "svd_train_pred = cross_val_predict_proba(pipline_svd_res, X_train, y)\n",
    "log_train_pred = cross_val_predict_proba(pipline_logreg_res, X_train, y)\n",
    "#cat_train_pred = cross_val_predict_proba(mycat, X_train, y)\n",
    "cat_train_pred = cross_val_predict_proba(mycat, Xcat_train.as_matrix(), y)\n",
    "\n",
    "gp_clf = pipline_gb_res.fit(X_train,y)\n",
    "gp_pred_test = gp_clf.predict(X_test)\n",
    "gp_pred_train = gp_clf.predict(X_train)\n",
    "rf_clf = pipline_rf_res.fit(X_train,y)\n",
    "rf_pred_test = rf_clf.predict(X_test)\n",
    "nb_pred_train = pipline_nb_res.fit(X_train,y).predict(X_train)\n",
    "nb_pred_test = pipline_nb_res.predict(X_test)\n",
    "#X_train_stack = np.stack([rf_train_pred[:,1], gb_train_pred[:,1], cat_train_pred[:,1]], axis=1)\n",
    "#X_train_stack = np.stack([rf_train_pred[:,1], gb_train_pred[:,1], gp_train_pred[:,1], nb_train_pred[:,1]], axis=1)\n",
    "#X_train_stack = np.stack([rf_train_pred[:,1], gb_train_pred[:,1]], axis=1)\n",
    "\n",
    "X_train_stack = np.stack([nb_train_pred[:,1], svd_train_pred[:,1], log_train_pred[:,1]], axis=1)\n",
    "#all_train_pred = np.stack([gb_train_pred[:,1], gp_train_pred[:,1],  nb_train_pred[:,1], svd_train_pred[:,1], cat_train_pred[:,1], log_train_pred[:,1]], axis=1)\n",
    "\n",
    "# получаем предсказания ансамблей для тестовой выборки\n",
    "rf_test_pred = pipline_rf_res.fit(X_train, y).predict_proba(X_test)\n",
    "gb_test_pred = pipline_gb_res.fit(X_train, y).predict_proba(X_test)\n",
    "nb_test_pred = pipline_nb_res.fit(X_train, y).predict_proba(X_test)\n",
    "gp_test_pred = pipline_gp_res.fit(X_train, y).predict_proba(X_test)\n",
    "svd_test_pred = pipline_svd_res.fit(X_train, y).predict_proba(X_test)\n",
    "cat_test_pred = mycat.predict_proba(Xcat_test.as_matrix())\n",
    "log_test_pred = pipline_logreg_res.fit(X_train, y).predict_proba(X_test)\n",
    "\n",
    "\n",
    "#cat_test_pred = mycat.fit(Xcat_train.as_matrix(), y).predict_proba(Xcat_test.as_matrix())\n",
    "\n",
    "#X_test_stack = np.stack([rf_test_pred[:,1], gb_test_pred[:,1],cat_test_pred[:,1]], axis=1)\n",
    "#X_test_stack = np.stack([rf_test_pred[:,1], gb_test_pred[:,1]], axis=1)\n",
    "X_test_stack = np.stack([ nb_test_pred[:,1], svd_test_pred[:,1], log_test_pred[:,1] ], axis=1)\n",
    "#all_test_pred = np.stack([gb_test_pred[:,1], gp_test_pred[:,1],  nb_test_pred[:,1], svd_test_pred[:,1],cat_test_pred[:,1], log_test_pred[:,1]], axis=1)"
   ]
  },
  {
   "cell_type": "code",
   "execution_count": 341,
   "metadata": {
    "collapsed": true
   },
   "outputs": [],
   "source": [
    "X_test_stack = np.stack([rf_test_pred[:,1], nb_test_pred[:,1], svd_test_pred[:,1], log_test_pred[:,1] ], axis=1)\n",
    "X_train_stack = np.stack([rf_train_pred[:,1] , nb_train_pred[:,1], svd_train_pred[:,1], log_train_pred[:,1]], axis=1)"
   ]
  },
  {
   "cell_type": "code",
   "execution_count": 448,
   "metadata": {
    "collapsed": false
   },
   "outputs": [],
   "source": [
    "X_test_stack = np.stack([rf_test_pred[:,1], gb_test_pred[:,1] ], axis=1)\n",
    "X_train_stack = np.stack([rf_train_pred[:,1], gb_train_pred[:,1]], axis=1)"
   ]
  },
  {
   "cell_type": "markdown",
   "metadata": {},
   "source": [
    "##### Лучший набор для стекинга это RF+GB но такой вариант просто ухудшает результат RF\n",
    "#### Просьба дать комментарии. Т.к так и не получилось улучшить результат стэкингом. Может дело в переобучении GB? или в корреляции предсказаний? может стоило не подбирать параметры бустинга а взять например n_estimators = 20 ? или не брать градиентный бустинг раз он пееобучается?"
   ]
  },
  {
   "cell_type": "code",
   "execution_count": 449,
   "metadata": {
    "collapsed": true
   },
   "outputs": [],
   "source": [
    "# для первичной оценки\n",
    "gb_pred_train = gp_clf.predict(X_train)\n",
    "rf_pred_train = rf_clf.predict(X_train)\n",
    "svd_pred_train = pipline_svd_res.predict(X_train)"
   ]
  },
  {
   "cell_type": "code",
   "execution_count": 450,
   "metadata": {
    "collapsed": false
   },
   "outputs": [],
   "source": [
    "#Для оцнки корреляций между предсказаниями\n",
    "all_train_pred = np.stack([ gp_train_pred[:,1],  nb_train_pred[:,1], svd_train_pred[:,1], cat_train_pred[:,1], log_train_pred[:,1]], axis=1)\n",
    "all_test_pred = np.stack([ gp_test_pred[:,1],  nb_test_pred[:,1], svd_test_pred[:,1], cat_test_pred[:,1], log_test_pred[:,1]], axis=1)"
   ]
  },
  {
   "cell_type": "code",
   "execution_count": 451,
   "metadata": {
    "collapsed": false
   },
   "outputs": [
    {
     "data": {
      "text/plain": [
       "(418, 5)"
      ]
     },
     "execution_count": 451,
     "metadata": {},
     "output_type": "execute_result"
    }
   ],
   "source": [
    "all_test_pred.shape"
   ]
  },
  {
   "cell_type": "code",
   "execution_count": 452,
   "metadata": {
    "collapsed": false
   },
   "outputs": [
    {
     "data": {
      "text/plain": [
       "(891, 5)"
      ]
     },
     "execution_count": 452,
     "metadata": {},
     "output_type": "execute_result"
    }
   ],
   "source": [
    "all_train_pred.shape"
   ]
  },
  {
   "cell_type": "markdown",
   "metadata": {},
   "source": [
    "## Объединяем предсказания "
   ]
  },
  {
   "cell_type": "code",
   "execution_count": 453,
   "metadata": {
    "collapsed": true
   },
   "outputs": [],
   "source": [
    "from sklearn.linear_model import LogisticRegression\n",
    "from sklearn.tree import DecisionTreeClassifier"
   ]
  },
  {
   "cell_type": "code",
   "execution_count": 454,
   "metadata": {
    "collapsed": true
   },
   "outputs": [],
   "source": [
    "loggrid = {'penalty' : ['l1','l2'], 'C': [0.01,0.05, 0.1, 1, 5,10 ], 'class_weight' : [None,'balanced'] }"
   ]
  },
  {
   "cell_type": "code",
   "execution_count": 455,
   "metadata": {
    "collapsed": false
   },
   "outputs": [],
   "source": [
    "loggridsearch=GridSearchCV(LogisticRegression(), loggrid, scoring='accuracy', cv=5)"
   ]
  },
  {
   "cell_type": "code",
   "execution_count": 456,
   "metadata": {
    "collapsed": false
   },
   "outputs": [
    {
     "data": {
      "text/plain": [
       "array([[  1.88968796e-01,   1.27141138e-07,   3.00793074e-02,\n",
       "          1.51801078e-01,   8.93631949e-02],\n",
       "       [  8.31099513e-01,   2.20989377e-01,   7.54635999e-01,\n",
       "          9.94477505e-01,   9.04374774e-01],\n",
       "       [  4.62718902e-01,   1.09266105e-04,   5.30354279e-01,\n",
       "          2.45613725e-01,   6.22092394e-01],\n",
       "       [  8.42912591e-01,   8.08641704e-03,   5.44078134e-01,\n",
       "          9.97252111e-01,   8.97995158e-01],\n",
       "       [  1.47516562e-01,   4.23145414e-08,   7.09419680e-02,\n",
       "          1.85336159e-01,   7.34690329e-02]])"
      ]
     },
     "execution_count": 456,
     "metadata": {},
     "output_type": "execute_result"
    }
   ],
   "source": [
    "all_train_pred[:5,:]"
   ]
  },
  {
   "cell_type": "code",
   "execution_count": 553,
   "metadata": {
    "collapsed": true
   },
   "outputs": [],
   "source": [
    "#стэкинг через дерево работает лучше\n",
    "treegrid = {'max_depth': [3,4,6,7,8], \n",
    "        #'max_leaf_nodes': max_leaf_nodes,\n",
    "       #'min_samples_leaf': [1,2,5], \n",
    "       #'min_samples_split': [2,3,4] , \n",
    "        #'min_weight_fraction_leaf': min_weight_fraction_leaf,\n",
    "       'class_weight': class_weight,\n",
    "         #'max_features' : [ 0.5,0.8, 'auto']\n",
    "           } \n",
    "treegridsearch = GridSearchCV(DecisionTreeClassifier(), treegrid, scoring='accuracy', cv= kfold_out)\n",
    "#убрал параметры т.к. дерево переобучается, и берет в результат по сути один алгоритм"
   ]
  },
  {
   "cell_type": "code",
   "execution_count": 554,
   "metadata": {
    "collapsed": false
   },
   "outputs": [
    {
     "data": {
      "text/plain": [
       "GridSearchCV(cv=KFold(n_splits=4, random_state=None, shuffle=True),\n",
       "       error_score='raise',\n",
       "       estimator=DecisionTreeClassifier(class_weight=None, criterion='gini', max_depth=None,\n",
       "            max_features=None, max_leaf_nodes=None,\n",
       "            min_impurity_split=1e-07, min_samples_leaf=1,\n",
       "            min_samples_split=2, min_weight_fraction_leaf=0.0,\n",
       "            presort=False, random_state=None, splitter='best'),\n",
       "       fit_params={}, iid=True, n_jobs=1,\n",
       "       param_grid={'max_depth': [3, 4, 6, 7, 8], 'class_weight': ['balanced', None]},\n",
       "       pre_dispatch='2*n_jobs', refit=True, return_train_score=True,\n",
       "       scoring='accuracy', verbose=0)"
      ]
     },
     "execution_count": 554,
     "metadata": {},
     "output_type": "execute_result"
    }
   ],
   "source": [
    "treegridsearch.fit(X_train_stack,y)"
   ]
  },
  {
   "cell_type": "code",
   "execution_count": 555,
   "metadata": {
    "collapsed": false
   },
   "outputs": [
    {
     "data": {
      "text/plain": [
       "0.80920314253647585"
      ]
     },
     "execution_count": 555,
     "metadata": {},
     "output_type": "execute_result"
    }
   ],
   "source": [
    "treegridsearch.best_score_"
   ]
  },
  {
   "cell_type": "code",
   "execution_count": 556,
   "metadata": {
    "collapsed": false
   },
   "outputs": [
    {
     "data": {
      "text/plain": [
       "{'class_weight': None, 'max_depth': 3}"
      ]
     },
     "execution_count": 556,
     "metadata": {},
     "output_type": "execute_result"
    }
   ],
   "source": [
    "treegridsearch.best_params_"
   ]
  },
  {
   "cell_type": "code",
   "execution_count": 462,
   "metadata": {
    "collapsed": false
   },
   "outputs": [
    {
     "data": {
      "text/plain": [
       "array([[ 0.1338317 ,  0.06227307],\n",
       "       [ 0.98880525,  0.96862204],\n",
       "       [ 0.44571255,  0.62281807],\n",
       "       [ 0.98441466,  0.98425509],\n",
       "       [ 0.11785761,  0.17627565],\n",
       "       [ 0.11054155,  0.11005984],\n",
       "       [ 0.2501582 ,  0.19091181],\n",
       "       [ 0.4421471 ,  0.06451252],\n",
       "       [ 0.48960251,  0.43400876],\n",
       "       [ 0.93628007,  0.95293097]])"
      ]
     },
     "execution_count": 462,
     "metadata": {},
     "output_type": "execute_result"
    }
   ],
   "source": [
    "X_train_stack[:10,:10]"
   ]
  },
  {
   "cell_type": "code",
   "execution_count": null,
   "metadata": {
    "collapsed": false
   },
   "outputs": [],
   "source": [
    "pd.DataFrame(all_train_pred).corr()  # не смотря на то что logReg хорошо корелирует с другими предсказаниями результат улучшился, может дело и не в кореляции"
   ]
  },
  {
   "cell_type": "code",
   "execution_count": 463,
   "metadata": {
    "collapsed": false
   },
   "outputs": [
    {
     "data": {
      "text/plain": [
       "GridSearchCV(cv=5, error_score='raise',\n",
       "       estimator=LogisticRegression(C=1.0, class_weight=None, dual=False, fit_intercept=True,\n",
       "          intercept_scaling=1, max_iter=100, multi_class='ovr', n_jobs=1,\n",
       "          penalty='l2', random_state=None, solver='liblinear', tol=0.0001,\n",
       "          verbose=0, warm_start=False),\n",
       "       fit_params={}, iid=True, n_jobs=1,\n",
       "       param_grid={'penalty': ['l1', 'l2'], 'C': [0.01, 0.05, 0.1, 1, 5, 10], 'class_weight': [None, 'balanced']},\n",
       "       pre_dispatch='2*n_jobs', refit=True, return_train_score=True,\n",
       "       scoring='accuracy', verbose=0)"
      ]
     },
     "execution_count": 463,
     "metadata": {},
     "output_type": "execute_result"
    }
   ],
   "source": [
    "loggridsearch.fit(X_train_stack, y)"
   ]
  },
  {
   "cell_type": "code",
   "execution_count": null,
   "metadata": {
    "collapsed": true
   },
   "outputs": [],
   "source": []
  },
  {
   "cell_type": "code",
   "execution_count": 464,
   "metadata": {
    "collapsed": false
   },
   "outputs": [
    {
     "name": "stdout",
     "output_type": "stream",
     "text": [
      "0.616161616162 {'C': 0.01, 'class_weight': None, 'penalty': 'l1'}\n",
      "0.82379349046 {'C': 0.01, 'class_weight': None, 'penalty': 'l2'}\n",
      "0.616161616162 {'C': 0.01, 'class_weight': 'balanced', 'penalty': 'l1'}\n",
      "0.808080808081 {'C': 0.01, 'class_weight': 'balanced', 'penalty': 'l2'}\n",
      "0.828282828283 {'C': 0.05, 'class_weight': None, 'penalty': 'l1'}\n",
      "0.829405162738 {'C': 0.05, 'class_weight': None, 'penalty': 'l2'}\n",
      "0.822671156004 {'C': 0.05, 'class_weight': 'balanced', 'penalty': 'l1'}\n",
      "0.819304152637 {'C': 0.05, 'class_weight': 'balanced', 'penalty': 'l2'}\n",
      "0.829405162738 {'C': 0.1, 'class_weight': None, 'penalty': 'l1'}\n",
      "0.830527497194 {'C': 0.1, 'class_weight': None, 'penalty': 'l2'}\n",
      "0.82379349046 {'C': 0.1, 'class_weight': 'balanced', 'penalty': 'l1'}\n",
      "0.822671156004 {'C': 0.1, 'class_weight': 'balanced', 'penalty': 'l2'}\n",
      "0.830527497194 {'C': 1, 'class_weight': None, 'penalty': 'l1'}\n",
      "0.832772166105 {'C': 1, 'class_weight': None, 'penalty': 'l2'}\n",
      "0.819304152637 {'C': 1, 'class_weight': 'balanced', 'penalty': 'l1'}\n",
      "0.82379349046 {'C': 1, 'class_weight': 'balanced', 'penalty': 'l2'}\n",
      "0.830527497194 {'C': 5, 'class_weight': None, 'penalty': 'l1'}\n",
      "0.83164983165 {'C': 5, 'class_weight': None, 'penalty': 'l2'}\n",
      "0.818181818182 {'C': 5, 'class_weight': 'balanced', 'penalty': 'l1'}\n",
      "0.820426487093 {'C': 5, 'class_weight': 'balanced', 'penalty': 'l2'}\n",
      "0.830527497194 {'C': 10, 'class_weight': None, 'penalty': 'l1'}\n",
      "0.830527497194 {'C': 10, 'class_weight': None, 'penalty': 'l2'}\n",
      "0.818181818182 {'C': 10, 'class_weight': 'balanced', 'penalty': 'l1'}\n",
      "0.819304152637 {'C': 10, 'class_weight': 'balanced', 'penalty': 'l2'}\n"
     ]
    }
   ],
   "source": [
    "for i in range(0,len(loggridsearch.cv_results_['mean_test_score'])):\n",
    "    print(loggridsearch.cv_results_['mean_test_score'][i],loggridsearch.cv_results_['params'][i])"
   ]
  },
  {
   "cell_type": "code",
   "execution_count": 465,
   "metadata": {
    "collapsed": false
   },
   "outputs": [
    {
     "data": {
      "text/plain": [
       "{'C': 1, 'class_weight': None, 'penalty': 'l2'}"
      ]
     },
     "execution_count": 465,
     "metadata": {},
     "output_type": "execute_result"
    }
   ],
   "source": [
    "loggridsearch.best_params_"
   ]
  },
  {
   "cell_type": "code",
   "execution_count": 466,
   "metadata": {
    "collapsed": false
   },
   "outputs": [],
   "source": [
    "logreg = LogisticRegression(penalty='l1', C=0.05).fit(X_train_stack, y)"
   ]
  },
  {
   "cell_type": "code",
   "execution_count": 467,
   "metadata": {
    "collapsed": false
   },
   "outputs": [
    {
     "data": {
      "text/plain": [
       "array([[ 1.09812115,  2.14507825]])"
      ]
     },
     "execution_count": 467,
     "metadata": {},
     "output_type": "execute_result"
    }
   ],
   "source": [
    "logreg.coef_  #Посмотрим кто вносит больший вклад в результат, видно что бустинг"
   ]
  },
  {
   "cell_type": "code",
   "execution_count": null,
   "metadata": {
    "collapsed": true
   },
   "outputs": [],
   "source": []
  },
  {
   "cell_type": "raw",
   "metadata": {},
   "source": [
    "#Праметры best params из разных попыток\n",
    "{'class_weight': None,\n",
    " 'max_depth': 3,\n",
    " 'max_leaf_nodes': 20,\n",
    " 'min_samples_leaf': 1,\n",
    " 'min_samples_split': 2,\n",
    " 'min_weight_fraction_leaf': 0.3}\n",
    " \n",
    " \n",
    " {'class_weight': None,\n",
    " 'max_depth': 3,\n",
    " 'max_leaf_nodes': 20,\n",
    " 'min_samples_leaf': 1,\n",
    " 'min_samples_split': 2,\n",
    " 'min_weight_fraction_leaf': 0.1}\n",
    " \n",
    " {'class_weight': None,\n",
    " 'max_depth': 3,\n",
    " 'max_leaf_nodes': 20,\n",
    " 'min_samples_leaf': 1,\n",
    " 'min_samples_split': 2,\n",
    " 'min_weight_fraction_leaf': 0.0}\n"
   ]
  },
  {
   "cell_type": "code",
   "execution_count": 468,
   "metadata": {
    "collapsed": false
   },
   "outputs": [],
   "source": [
    "restree = DecisionTreeClassifier(max_depth=3)"
   ]
  },
  {
   "cell_type": "code",
   "execution_count": 469,
   "metadata": {
    "collapsed": false
   },
   "outputs": [
    {
     "data": {
      "text/plain": [
       "DecisionTreeClassifier(class_weight=None, criterion='gini', max_depth=3,\n",
       "            max_features=None, max_leaf_nodes=None,\n",
       "            min_impurity_split=1e-07, min_samples_leaf=1,\n",
       "            min_samples_split=2, min_weight_fraction_leaf=0.0,\n",
       "            presort=False, random_state=None, splitter='best')"
      ]
     },
     "execution_count": 469,
     "metadata": {},
     "output_type": "execute_result"
    }
   ],
   "source": [
    "restree.fit(X_train_stack,y)"
   ]
  },
  {
   "cell_type": "code",
   "execution_count": 470,
   "metadata": {
    "collapsed": false
   },
   "outputs": [
    {
     "data": {
      "text/plain": [
       "array([ 0.91429256,  0.08570744])"
      ]
     },
     "execution_count": 470,
     "metadata": {},
     "output_type": "execute_result"
    }
   ],
   "source": [
    "restree.feature_importances_ # результат - Random Forest + GradientBoosting"
   ]
  },
  {
   "cell_type": "markdown",
   "metadata": {},
   "source": [
    "#### Странно но DecisionTree отдает предпочтение RF,  лучшему в данной ситуации"
   ]
  },
  {
   "cell_type": "code",
   "execution_count": 471,
   "metadata": {
    "collapsed": true
   },
   "outputs": [],
   "source": [
    "from sklearn.tree import export_graphviz\n",
    "\n",
    "def get_tree_dot_view(clf, feature_names=None, class_names=None):\n",
    "    print(export_graphviz(clf, out_file=None, filled=True, feature_names=feature_names, class_names=class_names))"
   ]
  },
  {
   "cell_type": "code",
   "execution_count": 472,
   "metadata": {
    "collapsed": false
   },
   "outputs": [
    {
     "name": "stdout",
     "output_type": "stream",
     "text": [
      "digraph Tree {\n",
      "node [shape=box, style=\"filled\", color=\"black\"] ;\n",
      "0 [label=\"gp <= 0.4953\\ngini = 0.473\\nsamples = 891\\nvalue = [549, 342]\\nclass = died\", fillcolor=\"#e5813960\"] ;\n",
      "1 [label=\"gp <= 0.2359\\ngini = 0.286\\nsamples = 613\\nvalue = [507, 106]\\nclass = died\", fillcolor=\"#e58139ca\"] ;\n",
      "0 -> 1 [labeldistance=2.5, labelangle=45, headlabel=\"True\"] ;\n",
      "2 [label=\"gp <= 0.0908\\ngini = 0.1734\\nsamples = 438\\nvalue = [396, 42]\\nclass = died\", fillcolor=\"#e58139e4\"] ;\n",
      "1 -> 2 ;\n",
      "3 [label=\"gini = 0.3029\\nsamples = 129\\nvalue = [105, 24]\\nclass = died\", fillcolor=\"#e58139c5\"] ;\n",
      "2 -> 3 ;\n",
      "4 [label=\"gini = 0.1097\\nsamples = 309\\nvalue = [291, 18]\\nclass = died\", fillcolor=\"#e58139ef\"] ;\n",
      "2 -> 4 ;\n",
      "5 [label=\"nb_train_pred[:,1] <= 0.1118\\ngini = 0.4639\\nsamples = 175\\nvalue = [111, 64]\\nclass = died\", fillcolor=\"#e581396c\"] ;\n",
      "1 -> 5 ;\n",
      "6 [label=\"gini = 0.0713\\nsamples = 27\\nvalue = [26, 1]\\nclass = died\", fillcolor=\"#e58139f5\"] ;\n",
      "5 -> 6 ;\n",
      "7 [label=\"gini = 0.489\\nsamples = 148\\nvalue = [85, 63]\\nclass = died\", fillcolor=\"#e5813942\"] ;\n",
      "5 -> 7 ;\n",
      "8 [label=\"nb_train_pred[:,1] <= 0.6954\\ngini = 0.2565\\nsamples = 278\\nvalue = [42, 236]\\nclass = survived\", fillcolor=\"#399de5d2\"] ;\n",
      "0 -> 8 [labeldistance=2.5, labelangle=-45, headlabel=\"False\"] ;\n",
      "9 [label=\"nb_train_pred[:,1] <= 0.6227\\ngini = 0.4932\\nsamples = 43\\nvalue = [19, 24]\\nclass = survived\", fillcolor=\"#399de535\"] ;\n",
      "8 -> 9 ;\n",
      "10 [label=\"gini = 0.4281\\nsamples = 29\\nvalue = [9, 20]\\nclass = survived\", fillcolor=\"#399de58c\"] ;\n",
      "9 -> 10 ;\n",
      "11 [label=\"gini = 0.4082\\nsamples = 14\\nvalue = [10, 4]\\nclass = died\", fillcolor=\"#e5813999\"] ;\n",
      "9 -> 11 ;\n",
      "12 [label=\"gp <= 0.808\\ngini = 0.1766\\nsamples = 235\\nvalue = [23, 212]\\nclass = survived\", fillcolor=\"#399de5e3\"] ;\n",
      "8 -> 12 ;\n",
      "13 [label=\"gini = 0.327\\nsamples = 68\\nvalue = [14, 54]\\nclass = survived\", fillcolor=\"#399de5bd\"] ;\n",
      "12 -> 13 ;\n",
      "14 [label=\"gini = 0.102\\nsamples = 167\\nvalue = [9, 158]\\nclass = survived\", fillcolor=\"#399de5f0\"] ;\n",
      "12 -> 14 ;\n",
      "}\n"
     ]
    }
   ],
   "source": [
    "get_tree_dot_view(restree, [ 'gp',  'nb_train_pred[:,1]', 'svd_train_pred[:,1]', 'cat_train_pred[:,1]', 'log'], ['died','survived'])"
   ]
  },
  {
   "cell_type": "code",
   "execution_count": 1,
   "metadata": {
    "collapsed": false
   },
   "outputs": [
    {
     "data": {
      "text/html": [
       "<img src=\"data:image/jpeg;base64,/...2bNmzZs2f//tree.png\">"
      ],
      "text/plain": [
       "<IPython.core.display.HTML object>"
      ]
     },
     "metadata": {},
     "output_type": "display_data"
    }
   ],
   "source": [
    "from IPython.display import display, HTML\n",
    "display(HTML('''<img src=\"data:image/jpeg;base64,/511546863f2c97480be7c5f7161439e914feb5f0//tree.png\">'''))"
   ]
  },
  {
   "cell_type": "markdown",
   "metadata": {},
   "source": [
    "![text](tree.png)"
   ]
  },
  {
   "cell_type": "markdown",
   "metadata": {},
   "source": [
    "#### как видно из картинки, немного улучшили предсказание выживших."
   ]
  },
  {
   "cell_type": "code",
   "execution_count": 473,
   "metadata": {
    "collapsed": false
   },
   "outputs": [],
   "source": [
    "predicted = logreg.predict(X_test_stack)\n",
    "predicted_tree = restree.predict(X_test_stack)\n",
    "#predicted  = gridsearch2.best_estimator_.predict(X_test)\n",
    "predicted_train=logreg.predict(X_train_stack)\n",
    "predicted_tree_train = restree.predict(X_train_stack)"
   ]
  },
  {
   "cell_type": "code",
   "execution_count": 438,
   "metadata": {
    "collapsed": false
   },
   "outputs": [
    {
     "data": {
      "text/plain": [
       "0.81818181818181823"
      ]
     },
     "execution_count": 438,
     "metadata": {},
     "output_type": "execute_result"
    }
   ],
   "source": [
    "accuracy_score(predicted_train,y)"
   ]
  },
  {
   "cell_type": "code",
   "execution_count": 474,
   "metadata": {
    "collapsed": false
   },
   "outputs": [
    {
     "data": {
      "text/plain": [
       "0.84062850729517391"
      ]
     },
     "execution_count": 474,
     "metadata": {},
     "output_type": "execute_result"
    }
   ],
   "source": [
    "accuracy_score(predicted_tree_train, y)"
   ]
  },
  {
   "cell_type": "code",
   "execution_count": null,
   "metadata": {
    "collapsed": true
   },
   "outputs": [],
   "source": []
  },
  {
   "cell_type": "code",
   "execution_count": 475,
   "metadata": {
    "collapsed": false
   },
   "outputs": [
    {
     "data": {
      "text/plain": [
       "0.92255892255892258"
      ]
     },
     "execution_count": 475,
     "metadata": {},
     "output_type": "execute_result"
    }
   ],
   "source": [
    "accuracy_score(y,gb_pred_train)"
   ]
  },
  {
   "cell_type": "code",
   "execution_count": 476,
   "metadata": {
    "collapsed": false
   },
   "outputs": [
    {
     "data": {
      "text/plain": [
       "0.89113355780022452"
      ]
     },
     "execution_count": 476,
     "metadata": {},
     "output_type": "execute_result"
    }
   ],
   "source": [
    "accuracy_score(y,rf_pred_train)"
   ]
  },
  {
   "cell_type": "code",
   "execution_count": 477,
   "metadata": {
    "collapsed": false
   },
   "outputs": [
    {
     "data": {
      "text/plain": [
       "0.64646464646464652"
      ]
     },
     "execution_count": 477,
     "metadata": {},
     "output_type": "execute_result"
    }
   ],
   "source": [
    "accuracy_score(y,nb_pred_train)"
   ]
  },
  {
   "cell_type": "code",
   "execution_count": 478,
   "metadata": {
    "collapsed": false
   },
   "outputs": [
    {
     "data": {
      "text/plain": [
       "0.92255892255892258"
      ]
     },
     "execution_count": 478,
     "metadata": {},
     "output_type": "execute_result"
    }
   ],
   "source": [
    "accuracy_score(y,gp_pred_train)"
   ]
  },
  {
   "cell_type": "code",
   "execution_count": 479,
   "metadata": {
    "collapsed": false
   },
   "outputs": [
    {
     "data": {
      "text/plain": [
       "0.78900112233445563"
      ]
     },
     "execution_count": 479,
     "metadata": {},
     "output_type": "execute_result"
    }
   ],
   "source": [
    "accuracy_score(y,svd_pred_train)"
   ]
  },
  {
   "cell_type": "markdown",
   "metadata": {},
   "source": [
    "## Формируем файл"
   ]
  },
  {
   "cell_type": "raw",
   "metadata": {
    "collapsed": false
   },
   "source": [
    "predict_cat = predict_cat.astype(int)"
   ]
  },
  {
   "cell_type": "code",
   "execution_count": 480,
   "metadata": {
    "collapsed": false
   },
   "outputs": [],
   "source": [
    "with open('submission_ensamble_titanic.txt', 'w') as out:\n",
    "    out.write('PassengerId,Survived\\n')\n",
    "    for passenger, y_iter in zip(test['PassengerId'], predicted_tree):\n",
    "        out.write('%s,%s\\n' % (passenger, y_iter))"
   ]
  },
  {
   "cell_type": "code",
   "execution_count": 288,
   "metadata": {
    "collapsed": true
   },
   "outputs": [],
   "source": [
    "## Result - 78947 -  rf + gb"
   ]
  },
  {
   "cell_type": "code",
   "execution_count": 289,
   "metadata": {
    "collapsed": true
   },
   "outputs": [],
   "source": [
    "## Best estimator - RandomForest -0.79904"
   ]
  },
  {
   "cell_type": "code",
   "execution_count": null,
   "metadata": {
    "collapsed": true
   },
   "outputs": [],
   "source": []
  }
 ],
 "metadata": {
  "kernelspec": {
   "display_name": "Python 3",
   "language": "python",
   "name": "python3"
  },
  "language_info": {
   "codemirror_mode": {
    "name": "ipython",
    "version": 3
   },
   "file_extension": ".py",
   "mimetype": "text/x-python",
   "name": "python",
   "nbconvert_exporter": "python",
   "pygments_lexer": "ipython3",
   "version": "3.6.0"
  }
 },
 "nbformat": 4,
 "nbformat_minor": 2
}
